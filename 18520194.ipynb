{
  "cells": [
    {
      "cell_type": "markdown",
      "metadata": {
        "id": "view-in-github",
        "colab_type": "text"
      },
      "source": [
        "<a href=\"https://colab.research.google.com/github/ducvuuit/CS114.K21.KHTN/blob/master/18520194.ipynb\" target=\"_parent\"><img src=\"https://colab.research.google.com/assets/colab-badge.svg\" alt=\"Open In Colab\"/></a>"
      ]
    },
    {
      "cell_type": "code",
      "metadata": {
        "id": "acFbtfUxJb50",
        "colab_type": "code",
        "colab": {}
      },
      "source": [
        ""
      ],
      "execution_count": null,
      "outputs": []
    },
    {
      "cell_type": "markdown",
      "metadata": {
        "id": "Yt1SY-krK1xM",
        "colab_type": "text"
      },
      "source": [
        "### **Phát hiện bình luận thô tục, xúc phạm trên Facebook, Youtube**\n"
      ]
    },
    {
      "cell_type": "markdown",
      "metadata": {
        "id": "9RQbnO4nK_OE",
        "colab_type": "text"
      },
      "source": [
        "**1. Mô tả bài toán**"
      ]
    },
    {
      "cell_type": "markdown",
      "metadata": {
        "id": "bb438aojLx0R",
        "colab_type": "text"
      },
      "source": [
        "- Input: 1 bình luận bất kỳ trên facebook hoặc youtube\n",
        "- Output: Trả về YES nếu trong bình luận có từ ngữ thô tục, hoặc xúc phạm và trả về NO nếu ngược lại."
      ]
    },
    {
      "cell_type": "markdown",
      "metadata": {
        "id": "IpTr0UepLOiR",
        "colab_type": "text"
      },
      "source": [
        "**2. Mô tả về bộ dữ liệu**"
      ]
    },
    {
      "cell_type": "markdown",
      "metadata": {
        "id": "iVZrhl9hMl4X",
        "colab_type": "text"
      },
      "source": [
        "- Cách thu thập bộ dữ liệu\n",
        "  + Lấy tất cả các bình luận trong các bài viết gây xôn xao cộng đồng mạng\n",
        "  + Sử dụng tool getcommentfacebook để lấy bình luận từng bài viết.\n",
        "- Số lượng : 5000 bình luận\n",
        "- Phân chia: 75% dùng để làm training data, 25% còn lại dùng để làm test data, dev data được thu thập thêm ở ngoài sau khi training xong \n",
        "\n",
        "Tiền xử lý dữ liệu trải qua các bước sau: \n",
        "- cleaning data: là bước làm sạch dữ liệu trước khi bắt đầu bất kì xử lý nào trên tập dữ liệu của chúng ta, nó bao gồm một số khái niệm của xử lý ngôn ngữ tự nhiên như loại bỏ Stop Words (Năng cao: kiểm tra chính tả chẳng hạn)\n",
        "- Words segmentation hay còn gọi là tách từ, là bước cực kỳ quan trọng và phức tạp đặc biệt là đối với Tiếng Việt.\n",
        "\n"
      ]
    },
    {
      "cell_type": "markdown",
      "metadata": {
        "id": "GWx1uTVOLSa0",
        "colab_type": "text"
      },
      "source": [
        "**3. Mô tả về đặc trưng**"
      ]
    },
    {
      "cell_type": "markdown",
      "metadata": {
        "id": "CmqI1uDzPF7H",
        "colab_type": "text"
      },
      "source": [
        "Vector hóa văn bản (câu comment đầu vào). Ở đây em sẽ sử dụng Bag-of-Word, và có thế sử dụng TF-IDF để tối ưu model\n",
        "\n",
        "- Feature Extraction: bước tìm ra được các tinh hoa từ tập dữ liệu ban đầu. Ở bài toán này là các từ ngữ mang tính xúc phạm, thô tục như: đm, vcl, đĩ, ngu, ... "
      ]
    },
    {
      "cell_type": "markdown",
      "metadata": {
        "id": "BHn1AfpzLicq",
        "colab_type": "text"
      },
      "source": [
        "**4. Mô tả về thuật toán máy học**\n"
      ]
    },
    {
      "cell_type": "markdown",
      "metadata": {
        "id": "VuJgSDB3SiV2",
        "colab_type": "text"
      },
      "source": [
        "Trong phần thuật toán này, em sẽ sử dụng một số thuật toán sau để có cái nhin tổng quan xem thuật toán nào phù hợp với model nhất.\n",
        "- Naive Bayes\n",
        "- Logistic Regression\n",
        "- LinearSVM\n",
        "\n",
        "Tổng quan về các thuật toán\n",
        "Bộ phân lớp Bayes là một giải thuật thuộc lớp giải thuật thống kê, nó có thể dự đoán xác suất của một phần tử dữ liệu thuộc vào một lớp là bao nhiêu."
      ]
    },
    {
      "cell_type": "markdown",
      "metadata": {
        "id": "C9umnqQZLoCa",
        "colab_type": "text"
      },
      "source": [
        "**5. Cài đặt, tinh chỉnh tham số**"
      ]
    },
    {
      "cell_type": "markdown",
      "metadata": {
        "id": "gfuu90j8Sf5o",
        "colab_type": "text"
      },
      "source": [
        "Sau khi đào tạo xong model, kiểm tra xem có bị overfitting, Underfitting hay không, nếu có, có thể thêm một số feature khác và training lại dữ liệu. Hoặc training lại cộng thêm data từ bộ dev data.\n",
        "Visualization"
      ]
    },
    {
      "cell_type": "markdown",
      "metadata": {
        "id": "bID2DCvcLsnB",
        "colab_type": "text"
      },
      "source": [
        "**6. Đánh giá kết quả, kết luận**"
      ]
    },
    {
      "cell_type": "markdown",
      "metadata": {
        "id": "ysChpZVTTVin",
        "colab_type": "text"
      },
      "source": [
        "Kết luận các xác xuất đạt được, cao hay thấp. Từ đó suy ra chất lượng của mô hình chúng ta tạo ra"
      ]
    }
  ],
  "metadata": {
    "colab": {
      "name": "18520194.ipynb",
      "provenance": [],
      "authorship_tag": "ABX9TyNml4lpQGcbnEtRNexQ+FsR",
      "include_colab_link": true
    },
    "kernelspec": {
      "name": "python3",
      "display_name": "Python 3"
    }
  },
  "nbformat": 4,
  "nbformat_minor": 0
}