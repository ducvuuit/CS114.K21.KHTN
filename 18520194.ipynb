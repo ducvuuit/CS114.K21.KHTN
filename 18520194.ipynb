{
  "nbformat": 4,
  "nbformat_minor": 0,
  "metadata": {
    "colab": {
      "name": "18520194.ipynb",
      "provenance": [],
      "authorship_tag": "ABX9TyNOMha195hO7lTzRXdi+r9z",
      "include_colab_link": true
    },
    "kernelspec": {
      "name": "python3",
      "display_name": "Python 3"
    }
  },
  "cells": [
    {
      "cell_type": "markdown",
      "metadata": {
        "id": "view-in-github",
        "colab_type": "text"
      },
      "source": [
        "<a href=\"https://colab.research.google.com/github/ducvuuit/CS114.K21.KHTN/blob/master/18520194.ipynb\" target=\"_parent\"><img src=\"https://colab.research.google.com/assets/colab-badge.svg\" alt=\"Open In Colab\"/></a>"
      ]
    },
    {
      "cell_type": "code",
      "metadata": {
        "id": "acFbtfUxJb50",
        "colab_type": "code",
        "colab": {}
      },
      "source": [
        ""
      ],
      "execution_count": 0,
      "outputs": []
    },
    {
      "cell_type": "markdown",
      "metadata": {
        "id": "Yt1SY-krK1xM",
        "colab_type": "text"
      },
      "source": [
        "### **Face mask detection**\n"
      ]
    },
    {
      "cell_type": "markdown",
      "metadata": {
        "id": "9RQbnO4nK_OE",
        "colab_type": "text"
      },
      "source": [
        "**1. Mô tả bài toán**"
      ]
    },
    {
      "cell_type": "markdown",
      "metadata": {
        "id": "bb438aojLx0R",
        "colab_type": "text"
      },
      "source": [
        "- Input: Hình ảnh, video thời gian thực (real-time video stream)\n",
        "- Output: Phát hiện trong hình hình ảnh hoặc real-time video streams có khẩu trang hay không"
      ]
    },
    {
      "cell_type": "markdown",
      "metadata": {
        "id": "IpTr0UepLOiR",
        "colab_type": "text"
      },
      "source": [
        "**2. Mô tả về bộ dữ liệu**"
      ]
    },
    {
      "cell_type": "markdown",
      "metadata": {
        "id": "iVZrhl9hMl4X",
        "colab_type": "text"
      },
      "source": [
        "- Bộ dữ liệu được thu thập bằng cách kết hợp 3 cách:\n",
        "  + Tự thu thập dữ liệu\n",
        "  + Lấy dữ liệu từ kaggle\n",
        "  + Tạo bộ dữ liệu nhân tạo*\n",
        "*Ở đây, chúng ta sẽ tự ghép khẩu trang bằng hình vào các hình ảnh mặt người chưa có đeo khẩu trang. Có thể tạo ra điều này bằng cách dùng Region of interest (ROI) để tìm các mốc trên khuôn mặt, cho phép chúng ta định vị được mắt mũi miệng...Và chúng ta cần thêm 1 hình ảnh của 1 chiếc khẩu trang, nó sẽ tự động aps dụng cho khuôn mặt bằng cách sử dụng các mốc\n",
        "- Số lượng : 1000 hình ảnh (500 có mask, 500 no mask)\n",
        "- Phân chia: 75% dùng để làm training data, 25% còn lại dùng để làm test data, dev data được thu thập thêm ở ngoài sau khi training xong "
      ]
    },
    {
      "cell_type": "markdown",
      "metadata": {
        "id": "GWx1uTVOLSa0",
        "colab_type": "text"
      },
      "source": [
        "**3. Mô tả về đặc trưng**"
      ]
    },
    {
      "cell_type": "markdown",
      "metadata": {
        "id": "CmqI1uDzPF7H",
        "colab_type": "text"
      },
      "source": [
        "đầu tiên cần phát hiện được khuôn mặt\n",
        "trong đó sẽ xác định được các mốc trên khuôn mặt các đặc trưng như:\n",
        "Mắt\n",
        "Mũi\n",
        "Miệng\n",
        "Long mày ..vv\n",
        "Khẩu trang\n"
      ]
    },
    {
      "cell_type": "markdown",
      "metadata": {
        "id": "BHn1AfpzLicq",
        "colab_type": "text"
      },
      "source": [
        "**4. Mô tả về thuật toán máy học**\n"
      ]
    },
    {
      "cell_type": "markdown",
      "metadata": {
        "id": "VuJgSDB3SiV2",
        "colab_type": "text"
      },
      "source": [
        "Ở đây em sử dụng OpenCV (Open source computer vision Library)\n",
        "Trình phát hiện khuôn mặt của OpenCV dưa trên khung phát hiện một lần chụp (SSD) với cơ sở mạng ResNet(thường sử dụng MobileNet làm mạng cơ sở)"
      ]
    },
    {
      "cell_type": "markdown",
      "metadata": {
        "id": "C9umnqQZLoCa",
        "colab_type": "text"
      },
      "source": [
        "**5. Cài đặt, tinh chỉnh tham số**"
      ]
    },
    {
      "cell_type": "markdown",
      "metadata": {
        "id": "gfuu90j8Sf5o",
        "colab_type": "text"
      },
      "source": [
        "Sau khi đào tạo xong model, kiểm tra xem có bị overfitting, Underfitting hay không, nếu có, có thể thêm một số feature khác và training lại dữ liệu. Hoặc training lại cộng thêm data từ bộ dev data."
      ]
    },
    {
      "cell_type": "markdown",
      "metadata": {
        "id": "bID2DCvcLsnB",
        "colab_type": "text"
      },
      "source": [
        "**6. Đánh giá kết quả, kết luận**"
      ]
    },
    {
      "cell_type": "markdown",
      "metadata": {
        "id": "ysChpZVTTVin",
        "colab_type": "text"
      },
      "source": [
        "Kết luận các xác xuất đạt được, cao hay thấp. Từ đó suy ra chất lượng của mô hình chúng ta tạo ra"
      ]
    }
  ]
}