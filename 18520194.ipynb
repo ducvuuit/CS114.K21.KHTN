{
  "nbformat": 4,
  "nbformat_minor": 0,
  "metadata": {
    "colab": {
      "name": "18520194.ipynb",
      "provenance": [],
      "collapsed_sections": [],
      "toc_visible": true,
      "authorship_tag": "ABX9TyP0EIdSsZDd/6KLNaKepFh8",
      "include_colab_link": true
    },
    "kernelspec": {
      "name": "python3",
      "display_name": "Python 3"
    }
  },
  "cells": [
    {
      "cell_type": "markdown",
      "metadata": {
        "id": "view-in-github",
        "colab_type": "text"
      },
      "source": [
        "<a href=\"https://colab.research.google.com/github/ducvuuit/CS114.K21.KHTN/blob/master/18520194.ipynb\" target=\"_parent\"><img src=\"https://colab.research.google.com/assets/colab-badge.svg\" alt=\"Open In Colab\"/></a>"
      ]
    },
    {
      "cell_type": "markdown",
      "metadata": {
        "id": "Yt1SY-krK1xM",
        "colab_type": "text"
      },
      "source": [
        "# **PHÁT HIỆN TỪ NGỮ THÔ TỤC, XÚC PHẠM TRONG CÁC BÌNH LUẬN**\n"
      ]
    },
    {
      "cell_type": "markdown",
      "metadata": {
        "id": "9RQbnO4nK_OE",
        "colab_type": "text"
      },
      "source": [
        "#**1. Mô tả bài toán**"
      ]
    },
    {
      "cell_type": "markdown",
      "metadata": {
        "id": "iH3zPMXI9ih_",
        "colab_type": "text"
      },
      "source": [
        "##Đặt vần đề\n"
      ]
    },
    {
      "cell_type": "markdown",
      "metadata": {
        "id": "bb438aojLx0R",
        "colab_type": "text"
      },
      "source": [
        "  Theo khảo sát mới được công bố của Microsoft, Việt Nam nằm trong top 5 quốc gia có chỉ số mức độ văn minh thấp nhất trên không gian mạng (DCI).\n",
        "\n",
        "  Mặc dù kết quả khảo sát này bất lợi cho hình ảnh cộng đồng mạng Việt Nam nhưng nó không tạo nên làn sóng phản đối từ người dùng. Theo khảo sát trên Zing.vn, 87% bạn đọc đồng tình với việc Microsoft xếp Việt Nam vào top 5 những nước hành xử kém văn minh trên Internet.\n",
        "\n",
        "![Việt Nam đứng top 5 nước có hành xử trên Internet kém văn minh nhất.](https://media.tinmoi.vn/resize_650x417/upload/thanhdat/2020/02/22/080738-internet-viet-nam-2.jpg)\n",
        "\n",
        "                                              Ảnh Zingvn\n",
        "\n",
        "  Tuy vậy, vẫn có nhiều người phản đối kết quả của Microsoft. Trong đó, bình luận chủ tài khoản Facebook có tên Koba Yashi đến từ Việt Nam được chia sẻ rộng rãi nhất như một minh chứng rõ cho kết quả khảo sát.\n",
        "\n",
        "**\"Thấp cái ***** *******, căn cứ vào đâu để đánh giá chứ\"\n"
      ]
    },
    {
      "cell_type": "markdown",
      "metadata": {
        "id": "0kL31zyg95FL",
        "colab_type": "text"
      },
      "source": [
        "## Bài toán cần giải quyết\n",
        "\n",
        "> Bài toán cần được giải quyết ở đây đó chính là phát hiện được những câu bình luận mang tính xúc phạp, thô tục, ... từ đó để xuất với nhà phát triển nhằm mục đích xóa những bình luận ấy.\n",
        "\n",
        "> Input: một câu bình luận bất kì (thường lấy ở các bài post của những cá nhân bị ghét, ném đá nhiều)\n",
        "\n",
        "> Output: Xuất ra 1 nếu câu binh luận mang tính xúc phạm, thô tục và xuất ra 0 nếu ngược lại. \n",
        "\n"
      ]
    },
    {
      "cell_type": "markdown",
      "metadata": {
        "id": "IpTr0UepLOiR",
        "colab_type": "text"
      },
      "source": [
        "#**2. Mô tả về bộ dữ liệu**"
      ]
    },
    {
      "cell_type": "markdown",
      "metadata": {
        "id": "iVZrhl9hMl4X",
        "colab_type": "text"
      },
      "source": [
        "- Cách thu thập bộ dữ liệu\n",
        "  + Lấy tất cả các bình luận trong các bài viết gây xôn xao cộng đồng mạng\n",
        "  + Lấy dữ liệu là comment trên facebook bằng cách crawl dữ liệu (cách crawl data và source code em để trên github)\n",
        "- Số lượng : 4764 bình luận\n",
        "- Phân chia: 75% dùng để làm training data, 25% còn lại dùng để làm test data, dev data được thu thập thêm ở ngoài sau khi training xong \n",
        "\n",
        "- Các thao tác tiền xử lý dữ liệu: \n",
        "  + Cleaning data: là bước làm sạch dữ liệu trước khi bắt đầu bất kì xử lý nào trên tập dữ liệu của chúng ta, nó bao gồm một số khái niệm của xử lý ngôn ngữ tự nhiên như loại bỏ Stop Words (Năng cao: kiểm tra chính tả chẳng hạn)\n",
        "\n",
        "  + Words segmentation hay còn gọi là tách từ, là bước cực kỳ quan trọng và phức tạp đặc biệt là đối với Tiếng Việt.\n",
        "\n",
        "- Chi tiết tiền xử lý dữ liệu:\n",
        "  + Các comment thường viết hoa viết thường rất lung tung, nên em sẽ chuyển tất các các bình luận về dạng lower case.\n",
        "  + Chuyển các chữ cái các bạn trẻ hiện nay thường kéo dài về dạng nguyên mẫu (vd: nguuuuuuuuuuuuuu --> ngu)\n",
        "  + Loại bỏ dấu câu và các ký tự đặc biệt\n",
        "  + Loại bỏ các icon không có ý nghĩa\n",
        "  + **Tách từ** : là một bước quan trọng bậc nhất trong xử lý ngôn ngữ tự nhiên. Tiếng Việt không đơn giản như tiếng anh vì nó có thêm các từ ghép. Trong tiếng anh, thường thi mỗi từ sẽ được ngăn cách bởi dấu cách với các từ khác, nhưng trong tiếng Việt thì lại khác. Ví dụ: từ \"Đất nước\" nếu không sử dụng tách từ hợp lý thì nó sẽ biết thành 2 từ, nhưng dùng tách từ thì nó sẽ là \"Đất_nươc\".\n",
        "  + Xóa bỏ stopword\n",
        "  + Xử lý mất cân bằng dữ liệu:\n",
        "  > Under sampling\n",
        "    Under sampling là việc ta giảm số lượng các quan sát của nhóm đa số để nó trở nên cân bằng với số quan sát của nhóm thiểu số. Ưu điểm của under sampling là làm cân bằng mẫu một cách nhanh chóng, dễ dàng tiến hành thực hiện mà không cần đến thuật toán giả lập mẫu.\n",
        "\n",
        "     > Tuy nhiên nhược điểm của nó là kích thước mẫu sẽ bị giảm đáng kể. Gỉa sử nhóm thiểu số có kích thước là 500, như vậy để tạo ra sự cân bằng mẫu giữa nhóm đa số và thiểu số sẽ cần giảm kích thước mẫu của nhóm đa số từ 10000 về 500. Tổng kích thước tập huấn luyện sau under sampling là 1000 và chiếm gần 1/10 kích thước tập huấn luyện ban đầu. Tập huấn luyện mới khá nhỏ, không đại diện cho phân phối của toàn bộ tập dữ liệu và thường dễ dẫn tới hiện tượng overfitting.\n",
        "     --> không sử dụng cách này\n",
        "\n",
        "    > Over sampling\n",
        "    Là các phương pháp giúp giải quyết hiện tượng mất cân bằng mẫu bằng cách gia tăng kích thước mẫu thuộc nhóm thiểu số bằng các kĩ thuật khác nhau.\n"
      ]
    },
    {
      "cell_type": "markdown",
      "metadata": {
        "id": "GWx1uTVOLSa0",
        "colab_type": "text"
      },
      "source": [
        "#**3. Mô tả về đặc trưng**"
      ]
    },
    {
      "cell_type": "markdown",
      "metadata": {
        "id": "CmqI1uDzPF7H",
        "colab_type": "text"
      },
      "source": [
        "Vector hóa văn bản (cậu comment đầu vào). Ở đây em sẽ sử dụng Bag-of-Word, và sử dụng TF-IDF để tối ưu\n",
        "\n",
        "Feature Extraction: bước tìm ra được các tinh hoa từ tập dữ liệu ban đầu. Ở bài toán này là các từ ngữ mang tính xúc phạm, thô tục như: đm, vcl, đĩ, ngu, ...\n",
        "\n",
        "TF-IDF (Term Frequency – Inverse Document Frequency) là 1 kĩ thuật sử dụng trong khai phá dữ liệu văn bản. Trọng số này được sử dụng để đánh giá tầm quan trọng của một từ trong một văn bản. Giá trị cao thể hiện độ quan trọng cao và nó phụ thuộc vào số lần từ xuất hiện trong văn bản nhưng bù lại bởi tần suất của từ đó trong tập dữ liệu. Một vài biến thể của tf-idf thường được sử dụng trong các hệ thống tìm kiếm như một công cụ chính để đánh giá và sắp xếp văn bản dựa vào truy vấn của người dùng. TF-IDF cũng được sử dụng để lọc những từ stopwords trong các bài toán như tóm tắt văn bản và phân loại văn bản."
      ]
    },
    {
      "cell_type": "markdown",
      "metadata": {
        "id": "BHn1AfpzLicq",
        "colab_type": "text"
      },
      "source": [
        "#**4. Mô tả về thuật toán máy học**\n"
      ]
    },
    {
      "cell_type": "markdown",
      "metadata": {
        "id": "VuJgSDB3SiV2",
        "colab_type": "text"
      },
      "source": [
        "Trong phần thuật toán này, em sẽ sử dụng một số thuật toán sau để có cái nhin tổng quan xem thuật toán nào phù hợp với model nhất.\n",
        "- Naive Bayes\n",
        "- Logistic Regression\n",
        "- LinearSVC\n",
        "- Decision Tree Classifier"
      ]
    },
    {
      "cell_type": "markdown",
      "metadata": {
        "id": "kz8Ap6GPEOIe",
        "colab_type": "text"
      },
      "source": [
        "##Logistic Regression\n",
        "Phương pháp hồi quy logistic là một mô hình hồi quy nhằm dự đoán giá trị đầu ra rời rạc (discrete target variable) y ứng với một véc-tơ đầu vào x. Việc này tương đương với chuyện phân loại các đầu vào x vào các nhóm y tương ứng."
      ]
    },
    {
      "cell_type": "markdown",
      "metadata": {
        "id": "LI8mclSwEEBf",
        "colab_type": "text"
      },
      "source": [
        "##Naive Bayes"
      ]
    },
    {
      "cell_type": "markdown",
      "metadata": {
        "id": "cLowsQCJEQ-u",
        "colab_type": "text"
      },
      "source": [
        "##LinearSVC"
      ]
    },
    {
      "cell_type": "markdown",
      "metadata": {
        "id": "6FO-UY2nEPZU",
        "colab_type": "text"
      },
      "source": [
        ""
      ]
    },
    {
      "cell_type": "markdown",
      "metadata": {
        "id": "lTtGKZt6EMh0",
        "colab_type": "text"
      },
      "source": [
        ""
      ]
    },
    {
      "cell_type": "markdown",
      "metadata": {
        "id": "C9umnqQZLoCa",
        "colab_type": "text"
      },
      "source": [
        "#**5. Cài đặt, tinh chỉnh tham số**"
      ]
    },
    {
      "cell_type": "markdown",
      "metadata": {
        "id": "gfuu90j8Sf5o",
        "colab_type": "text"
      },
      "source": [
        "Sau khi đào tạo xong model, kiểm tra xem có bị overfitting, Underfitting hay không, nếu có, có thể thêm một số feature khác và training lại dữ liệu. Hoặc training lại cộng thêm data từ bộ dev data.\n",
        "Visualization"
      ]
    },
    {
      "cell_type": "markdown",
      "metadata": {
        "id": "bID2DCvcLsnB",
        "colab_type": "text"
      },
      "source": [
        "#**6. Đánh giá kết quả, kết luận**"
      ]
    },
    {
      "cell_type": "markdown",
      "metadata": {
        "id": "ysChpZVTTVin",
        "colab_type": "text"
      },
      "source": [
        "\n",
        "![văn bản thay thế](https://drive.google.com/file/d/1C4rMgZKRwOnPVMP_YbpwaLd3EMTzZH3y/view?usp=sharing)\n",
        "> Văn bản được thụt lề\n"
      ]
    },
    {
      "cell_type": "markdown",
      "metadata": {
        "id": "eN5mJAo4ZUjc",
        "colab_type": "text"
      },
      "source": [
        ""
      ]
    },
    {
      "cell_type": "code",
      "metadata": {
        "id": "uEoPyVoeZXsv",
        "colab_type": "code",
        "colab": {}
      },
      "source": [
        ""
      ],
      "execution_count": null,
      "outputs": []
    }
  ]
}