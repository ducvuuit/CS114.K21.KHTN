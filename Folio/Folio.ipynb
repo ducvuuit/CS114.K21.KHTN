{
  "nbformat": 4,
  "nbformat_minor": 0,
  "metadata": {
    "colab": {
      "name": "Folio.ipynb",
      "provenance": [],
      "authorship_tag": "ABX9TyM+uh0WwF2IwTfMQBKvaqHX",
      "include_colab_link": true
    },
    "kernelspec": {
      "name": "python3",
      "display_name": "Python 3"
    },
    "accelerator": "GPU"
  },
  "cells": [
    {
      "cell_type": "markdown",
      "metadata": {
        "id": "view-in-github",
        "colab_type": "text"
      },
      "source": [
        "<a href=\"https://colab.research.google.com/github/ducvuuit/CS114.K21.KHTN/blob/master/Folio/Folio.ipynb\" target=\"_parent\"><img src=\"https://colab.research.google.com/assets/colab-badge.svg\" alt=\"Open In Colab\"/></a>"
      ]
    },
    {
      "cell_type": "code",
      "metadata": {
        "id": "g56F4zvY96Wu",
        "colab_type": "code",
        "outputId": "83c2b4e4-c660-4d80-850b-d61dea2d84d8",
        "colab": {
          "base_uri": "https://localhost:8080/",
          "height": 153
        }
      },
      "source": [
        "!git clone https://github.com/ducvuuit/CS114.K21.KHTN.git"
      ],
      "execution_count": 0,
      "outputs": [
        {
          "output_type": "stream",
          "text": [
            "Cloning into 'CS114.K21.KHTN'...\n",
            "remote: Enumerating objects: 8, done.\u001b[K\n",
            "remote: Counting objects:  12% (1/8)\u001b[K\rremote: Counting objects:  25% (2/8)\u001b[K\rremote: Counting objects:  37% (3/8)\u001b[K\rremote: Counting objects:  50% (4/8)\u001b[K\rremote: Counting objects:  62% (5/8)\u001b[K\rremote: Counting objects:  75% (6/8)\u001b[K\rremote: Counting objects:  87% (7/8)\u001b[K\rremote: Counting objects: 100% (8/8)\u001b[K\rremote: Counting objects: 100% (8/8), done.\u001b[K\n",
            "remote: Compressing objects: 100% (8/8), done.\u001b[K\n",
            "remote: Total 709 (delta 0), reused 7 (delta 0), pack-reused 701\u001b[K\n",
            "Receiving objects: 100% (709/709), 928.80 MiB | 13.92 MiB/s, done.\n",
            "Resolving deltas: 100% (21/21), done.\n",
            "Checking out files: 100% (647/647), done.\n"
          ],
          "name": "stdout"
        }
      ]
    },
    {
      "cell_type": "code",
      "metadata": {
        "id": "iltmr-18-E4F",
        "colab_type": "code",
        "outputId": "129a8bd9-a0b0-46c4-f459-622fdf9c8ef2",
        "colab": {
          "base_uri": "https://localhost:8080/",
          "height": 34
        }
      },
      "source": [
        "%cd CS114.K21.KHTN/Folio "
      ],
      "execution_count": 0,
      "outputs": [
        {
          "output_type": "stream",
          "text": [
            "/content/CS114.K21.KHTN/Folio\n"
          ],
          "name": "stdout"
        }
      ]
    },
    {
      "cell_type": "code",
      "metadata": {
        "id": "8FjWHsRD-dmY",
        "colab_type": "code",
        "outputId": "2b029685-adc9-45ff-b3a9-b2faefb0e88f",
        "colab": {
          "base_uri": "https://localhost:8080/",
          "height": 785
        }
      },
      "source": [
        "!python knn.py"
      ],
      "execution_count": 0,
      "outputs": [
        {
          "output_type": "stream",
          "text": [
            "[INFO] loading images...\n",
            "[INFO] processed 500/637\n",
            "[INFO] evaluating k-NN classifier...\n",
            "/usr/local/lib/python3.6/dist-packages/sklearn/metrics/_classification.py:1272: UndefinedMetricWarning: Precision and F-score are ill-defined and being set to 0.0 in labels with no predicted samples. Use `zero_division` parameter to control this behavior.\n",
            "  _warn_prf(average, modifier, msg_start, len(result))\n",
            "                   precision    recall  f1-score   support\n",
            "\n",
            "    ashanti blood       0.56      1.00      0.71         5\n",
            "  barbados cherry       0.33      0.33      0.33         3\n",
            "beaumier du perou       0.89      0.89      0.89         9\n",
            "            betel       1.00      0.60      0.75         5\n",
            "    bitter orange       1.00      1.00      1.00         5\n",
            " caricature plant       0.50      1.00      0.67         1\n",
            "    chinese guava       0.75      0.60      0.67         5\n",
            "   chocolate tree       1.00      0.75      0.86         8\n",
            "    chrysanthemum       1.00      0.83      0.91         6\n",
            " coeur demoiselle       1.00      1.00      1.00         2\n",
            "           coffee       0.50      0.40      0.44         5\n",
            "           croton       1.00      0.67      0.80         3\n",
            "     duranta gold       0.75      1.00      0.86         6\n",
            "         eggplant       0.75      0.50      0.60         6\n",
            "            ficus       1.00      1.00      1.00         6\n",
            "      fruitcitere       1.00      1.00      1.00         4\n",
            "         geranium       0.86      1.00      0.92         6\n",
            "            guava       0.67      0.80      0.73         5\n",
            "         hibiscus       0.50      0.67      0.57         3\n",
            "        jackfruit       1.00      0.60      0.75         5\n",
            "       ketembilla       0.00      0.00      0.00         5\n",
            "           lychee       1.00      1.00      1.00         2\n",
            "    mulberry leaf       0.80      0.44      0.57         9\n",
            "           papaya       1.00      1.00      1.00         5\n",
            "          pimento       0.78      1.00      0.88         7\n",
            "    pomme jacquot       1.00      0.60      0.75         5\n",
            "             rose       0.70      0.70      0.70        10\n",
            "       star apple       0.43      1.00      0.60         3\n",
            "      sweet olive       0.80      1.00      0.89         4\n",
            "     sweet potato       1.00      1.00      1.00         5\n",
            "         thevetia       1.00      1.00      1.00         2\n",
            "     vieux garcon       0.36      0.80      0.50         5\n",
            "\n",
            "         accuracy                           0.77       160\n",
            "        macro avg       0.78      0.79      0.76       160\n",
            "     weighted avg       0.79      0.77      0.76       160\n",
            "\n"
          ],
          "name": "stdout"
        }
      ]
    }
  ]
}