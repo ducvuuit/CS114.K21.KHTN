{
  "nbformat": 4,
  "nbformat_minor": 0,
  "metadata": {
    "colab": {
      "name": "18520194_Lab6.ipynb",
      "provenance": [],
      "authorship_tag": "ABX9TyMummU07eoDbaG4C57YPJwi",
      "include_colab_link": true
    },
    "kernelspec": {
      "name": "python3",
      "display_name": "Python 3"
    },
    "accelerator": "GPU"
  },
  "cells": [
    {
      "cell_type": "markdown",
      "metadata": {
        "id": "view-in-github",
        "colab_type": "text"
      },
      "source": [
        "<a href=\"https://colab.research.google.com/github/ducvuuit/CS114.K21.KHTN/blob/master/18520194_Lab6.ipynb\" target=\"_parent\"><img src=\"https://colab.research.google.com/assets/colab-badge.svg\" alt=\"Open In Colab\"/></a>"
      ]
    },
    {
      "cell_type": "code",
      "metadata": {
        "id": "g56F4zvY96Wu",
        "colab_type": "code",
        "outputId": "3c915c80-2435-48af-8d15-da5b8daee227",
        "colab": {
          "base_uri": "https://localhost:8080/",
          "height": 153
        }
      },
      "source": [
        "!git clone https://github.com/ducvuuit/CS114.K21.KHTN.git"
      ],
      "execution_count": 1,
      "outputs": [
        {
          "output_type": "stream",
          "text": [
            "Cloning into 'CS114.K21.KHTN'...\n",
            "remote: Enumerating objects: 15, done.\u001b[K\n",
            "remote: Counting objects:   6% (1/15)\u001b[K\rremote: Counting objects:  13% (2/15)\u001b[K\rremote: Counting objects:  20% (3/15)\u001b[K\rremote: Counting objects:  26% (4/15)\u001b[K\rremote: Counting objects:  33% (5/15)\u001b[K\rremote: Counting objects:  40% (6/15)\u001b[K\rremote: Counting objects:  46% (7/15)\u001b[K\rremote: Counting objects:  53% (8/15)\u001b[K\rremote: Counting objects:  60% (9/15)\u001b[K\rremote: Counting objects:  66% (10/15)\u001b[K\rremote: Counting objects:  73% (11/15)\u001b[K\rremote: Counting objects:  80% (12/15)\u001b[K\rremote: Counting objects:  86% (13/15)\u001b[K\rremote: Counting objects:  93% (14/15)\u001b[K\rremote: Counting objects: 100% (15/15)\u001b[K\rremote: Counting objects: 100% (15/15), done.\u001b[K\n",
            "remote: Compressing objects: 100% (9/9), done.\u001b[K\n",
            "remote: Total 28792 (delta 8), reused 13 (delta 6), pack-reused 28777\u001b[K\n",
            "Receiving objects: 100% (28792/28792), 1.85 GiB | 43.59 MiB/s, done.\n",
            "Resolving deltas: 100% (105/105), done.\n",
            "Checking out files: 100% (3660/3660), done.\n"
          ],
          "name": "stdout"
        }
      ]
    },
    {
      "cell_type": "code",
      "metadata": {
        "id": "_eHbiLTR4tXE",
        "colab_type": "code",
        "outputId": "edff5737-3e8f-4d67-ffa5-3f90885f1d8b",
        "colab": {
          "base_uri": "https://localhost:8080/",
          "height": 34
        }
      },
      "source": [
        "!ls"
      ],
      "execution_count": 2,
      "outputs": [
        {
          "output_type": "stream",
          "text": [
            "CS114.K21.KHTN\tsample_data\n"
          ],
          "name": "stdout"
        }
      ]
    },
    {
      "cell_type": "code",
      "metadata": {
        "id": "iltmr-18-E4F",
        "colab_type": "code",
        "outputId": "fded0b0c-5982-42ef-b348-a2f5c1231572",
        "colab": {
          "base_uri": "https://localhost:8080/",
          "height": 34
        }
      },
      "source": [
        "%cd CS114.K21.KHTN/Dog_Cat_Panda/\n"
      ],
      "execution_count": 3,
      "outputs": [
        {
          "output_type": "stream",
          "text": [
            "/content/CS114.K21.KHTN/Dog_Cat_Panda\n"
          ],
          "name": "stdout"
        }
      ]
    },
    {
      "cell_type": "code",
      "metadata": {
        "id": "JqMO0qUCVuX5",
        "colab_type": "code",
        "outputId": "9798be91-ddc4-4b9a-d236-2c100e53ed77",
        "colab": {
          "base_uri": "https://localhost:8080/",
          "height": 34
        }
      },
      "source": [
        "!ls\n"
      ],
      "execution_count": 4,
      "outputs": [
        {
          "output_type": "stream",
          "text": [
            "CART.py  DataLoader  Dataset  knn.py  LDA.py  LR.py  NB.py  preprocessing\n"
          ],
          "name": "stdout"
        }
      ]
    },
    {
      "cell_type": "code",
      "metadata": {
        "id": "8FjWHsRD-dmY",
        "colab_type": "code",
        "outputId": "8f68942e-f1ab-44a9-cf68-de2246b28694",
        "colab": {
          "base_uri": "https://localhost:8080/",
          "height": 340
        }
      },
      "source": [
        "!python knn.py"
      ],
      "execution_count": 5,
      "outputs": [
        {
          "output_type": "stream",
          "text": [
            "[INFO] loading images...\n",
            "[INFO] processed 500/3000\n",
            "[INFO] processed 1000/3000\n",
            "[INFO] processed 1500/3000\n",
            "[INFO] processed 2000/3000\n",
            "[INFO] processed 2500/3000\n",
            "[INFO] processed 3000/3000\n",
            "[INFO] features matrix: 9.0MB\n",
            "[INFO] evaluating k-NN classifier...\n",
            "              precision    recall  f1-score   support\n",
            "\n",
            "        cats       0.39      0.54      0.45       239\n",
            "        dogs       0.42      0.47      0.45       262\n",
            "       panda       0.79      0.39      0.52       249\n",
            "\n",
            "    accuracy                           0.47       750\n",
            "   macro avg       0.53      0.47      0.47       750\n",
            "weighted avg       0.53      0.47      0.47       750\n",
            "\n"
          ],
          "name": "stdout"
        }
      ]
    },
    {
      "cell_type": "code",
      "metadata": {
        "id": "UO54z2grXvKT",
        "colab_type": "code",
        "outputId": "19aad580-ac41-4a45-f854-8ed3a7fd3c60",
        "colab": {
          "base_uri": "https://localhost:8080/",
          "height": 340
        }
      },
      "source": [
        "!python LDA.py"
      ],
      "execution_count": 6,
      "outputs": [
        {
          "output_type": "stream",
          "text": [
            "[INFO] loading images...\n",
            "[INFO] processed 500/3000\n",
            "[INFO] processed 1000/3000\n",
            "[INFO] processed 1500/3000\n",
            "[INFO] processed 2000/3000\n",
            "[INFO] processed 2500/3000\n",
            "[INFO] processed 3000/3000\n",
            "[INFO] features matrix: 9.0MB\n",
            "[INFO] evaluating LDA classifier...\n",
            "              precision    recall  f1-score   support\n",
            "\n",
            "        cats       0.38      0.46      0.42       239\n",
            "        dogs       0.39      0.34      0.36       262\n",
            "       panda       0.54      0.51      0.52       249\n",
            "\n",
            "    accuracy                           0.43       750\n",
            "   macro avg       0.44      0.44      0.43       750\n",
            "weighted avg       0.44      0.43      0.43       750\n",
            "\n"
          ],
          "name": "stdout"
        }
      ]
    },
    {
      "cell_type": "code",
      "metadata": {
        "id": "rQXR_E6_jjSK",
        "colab_type": "code",
        "colab": {
          "base_uri": "https://localhost:8080/",
          "height": 340
        },
        "outputId": "e3d1ed0c-9671-420a-d844-f84755d795e4"
      },
      "source": [
        "!python LR.py"
      ],
      "execution_count": 7,
      "outputs": [
        {
          "output_type": "stream",
          "text": [
            "[INFO] loading images...\n",
            "[INFO] processed 500/3000\n",
            "[INFO] processed 1000/3000\n",
            "[INFO] processed 1500/3000\n",
            "[INFO] processed 2000/3000\n",
            "[INFO] processed 2500/3000\n",
            "[INFO] processed 3000/3000\n",
            "[INFO] features matrix: 9.0MB\n",
            "[INFO] evaluating LR classifier...\n",
            "              precision    recall  f1-score   support\n",
            "\n",
            "        cats       0.41      0.44      0.42       239\n",
            "        dogs       0.43      0.42      0.43       262\n",
            "       panda       0.59      0.57      0.58       249\n",
            "\n",
            "    accuracy                           0.48       750\n",
            "   macro avg       0.48      0.48      0.48       750\n",
            "weighted avg       0.48      0.48      0.48       750\n",
            "\n"
          ],
          "name": "stdout"
        }
      ]
    },
    {
      "cell_type": "code",
      "metadata": {
        "id": "FrxmawE3joP2",
        "colab_type": "code",
        "colab": {
          "base_uri": "https://localhost:8080/",
          "height": 340
        },
        "outputId": "350ac4d2-67c5-49c5-c9ff-903ab9992fdc"
      },
      "source": [
        "!python NB.py"
      ],
      "execution_count": 8,
      "outputs": [
        {
          "output_type": "stream",
          "text": [
            "[INFO] loading images...\n",
            "[INFO] processed 500/3000\n",
            "[INFO] processed 1000/3000\n",
            "[INFO] processed 1500/3000\n",
            "[INFO] processed 2000/3000\n",
            "[INFO] processed 2500/3000\n",
            "[INFO] processed 3000/3000\n",
            "[INFO] features matrix: 9.0MB\n",
            "[INFO] evaluating NB classifier...\n",
            "              precision    recall  f1-score   support\n",
            "\n",
            "        cats       0.49      0.28      0.36       239\n",
            "        dogs       0.50      0.55      0.52       262\n",
            "       panda       0.60      0.78      0.68       249\n",
            "\n",
            "    accuracy                           0.54       750\n",
            "   macro avg       0.53      0.54      0.52       750\n",
            "weighted avg       0.53      0.54      0.52       750\n",
            "\n"
          ],
          "name": "stdout"
        }
      ]
    },
    {
      "cell_type": "code",
      "metadata": {
        "id": "dPbthkhpj9st",
        "colab_type": "code",
        "colab": {
          "base_uri": "https://localhost:8080/",
          "height": 340
        },
        "outputId": "8e69798b-84af-4d73-f5ce-ecf343723c32"
      },
      "source": [
        "!python CART.py"
      ],
      "execution_count": 9,
      "outputs": [
        {
          "output_type": "stream",
          "text": [
            "[INFO] loading images...\n",
            "[INFO] processed 500/3000\n",
            "[INFO] processed 1000/3000\n",
            "[INFO] processed 1500/3000\n",
            "[INFO] processed 2000/3000\n",
            "[INFO] processed 2500/3000\n",
            "[INFO] processed 3000/3000\n",
            "[INFO] features matrix: 9.0MB\n",
            "[INFO] evaluating CART classifier...\n",
            "              precision    recall  f1-score   support\n",
            "\n",
            "        cats       0.42      0.48      0.45       239\n",
            "        dogs       0.44      0.42      0.43       262\n",
            "       panda       0.66      0.61      0.63       249\n",
            "\n",
            "    accuracy                           0.50       750\n",
            "   macro avg       0.51      0.50      0.50       750\n",
            "weighted avg       0.51      0.50      0.50       750\n",
            "\n"
          ],
          "name": "stdout"
        }
      ]
    }
  ]
}