{
  "nbformat": 4,
  "nbformat_minor": 0,
  "metadata": {
    "colab": {
      "name": "final.ipynb",
      "provenance": [],
      "collapsed_sections": [],
      "authorship_tag": "ABX9TyNDMFWT7FvFAVem2vHfQCrt",
      "include_colab_link": true
    },
    "kernelspec": {
      "name": "python3",
      "display_name": "Python 3"
    }
  },
  "cells": [
    {
      "cell_type": "markdown",
      "metadata": {
        "id": "view-in-github",
        "colab_type": "text"
      },
      "source": [
        "<a href=\"https://colab.research.google.com/github/ducvuuit/CS114.K21.KHTN/blob/master/FinalProjectML/final.ipynb\" target=\"_parent\"><img src=\"https://colab.research.google.com/assets/colab-badge.svg\" alt=\"Open In Colab\"/></a>"
      ]
    },
    {
      "cell_type": "code",
      "metadata": {
        "id": "fQvW_NzzGelq",
        "colab_type": "code",
        "colab": {}
      },
      "source": [
        "# import các thư viện cần thiết\n",
        "from sklearn.metrics import classification_report\n",
        "from sklearn.model_selection import train_test_split\n",
        "\n",
        "from sklearn.feature_extraction.text import TfidfVectorizer\n",
        "\n",
        "from sklearn.linear_model import LogisticRegression\n",
        "from sklearn.naive_bayes import MultinomialNB\n",
        "from sklearn.svm import LinearSVC\n",
        "\n",
        "import pandas as pd \n",
        "\n"
      ],
      "execution_count": 1,
      "outputs": []
    },
    {
      "cell_type": "code",
      "metadata": {
        "id": "gVCc5ziaj1lt",
        "colab_type": "code",
        "colab": {}
      },
      "source": [
        "#tải dữ liệu lên\n",
        "csv_file = open('data-label - 1.csv')\n"
      ],
      "execution_count": 2,
      "outputs": []
    },
    {
      "cell_type": "code",
      "metadata": {
        "id": "R5MFOCQRj9b_",
        "colab_type": "code",
        "colab": {
          "base_uri": "https://localhost:8080/",
          "height": 352
        },
        "outputId": "ec176979-cd88-4507-e8c9-b2964d1435d2"
      },
      "source": [
        "# Kiểm tra dữ liệu\n",
        "names = ['cmt', 'is_profane']\n",
        "data = pd.read_csv(csv_file, names = names)\n",
        "data.head(10)"
      ],
      "execution_count": 3,
      "outputs": [
        {
          "output_type": "execute_result",
          "data": {
            "text/html": [
              "<div>\n",
              "<style scoped>\n",
              "    .dataframe tbody tr th:only-of-type {\n",
              "        vertical-align: middle;\n",
              "    }\n",
              "\n",
              "    .dataframe tbody tr th {\n",
              "        vertical-align: top;\n",
              "    }\n",
              "\n",
              "    .dataframe thead th {\n",
              "        text-align: right;\n",
              "    }\n",
              "</style>\n",
              "<table border=\"1\" class=\"dataframe\">\n",
              "  <thead>\n",
              "    <tr style=\"text-align: right;\">\n",
              "      <th></th>\n",
              "      <th>cmt</th>\n",
              "      <th>is_profane</th>\n",
              "    </tr>\n",
              "  </thead>\n",
              "  <tbody>\n",
              "    <tr>\n",
              "      <th>0</th>\n",
              "      <td>:( chị đó hỏng chào e</td>\n",
              "      <td>0</td>\n",
              "    </tr>\n",
              "    <tr>\n",
              "      <th>1</th>\n",
              "      <td>Zui gần chết</td>\n",
              "      <td>1</td>\n",
              "    </tr>\n",
              "    <tr>\n",
              "      <th>2</th>\n",
              "      <td>Zữ qua</td>\n",
              "      <td>0</td>\n",
              "    </tr>\n",
              "    <tr>\n",
              "      <th>3</th>\n",
              "      <td>Zô nhà nghỉ đi ỉa hỏi woai</td>\n",
              "      <td>1</td>\n",
              "    </tr>\n",
              "    <tr>\n",
              "      <th>4</th>\n",
              "      <td>Yêu thương thế lonn nào được cáii mũi kiaaa :((</td>\n",
              "      <td>1</td>\n",
              "    </tr>\n",
              "    <tr>\n",
              "      <th>5</th>\n",
              "      <td>Yêu em</td>\n",
              "      <td>0</td>\n",
              "    </tr>\n",
              "    <tr>\n",
              "      <th>6</th>\n",
              "      <td>Yêu đương nhăn nhít</td>\n",
              "      <td>0</td>\n",
              "    </tr>\n",
              "    <tr>\n",
              "      <th>7</th>\n",
              "      <td>Yêu chết đi đccc</td>\n",
              "      <td>1</td>\n",
              "    </tr>\n",
              "    <tr>\n",
              "      <th>8</th>\n",
              "      <td>Yêu 1 người mà sống bên 1 người ai khóc cho e ...</td>\n",
              "      <td>0</td>\n",
              "    </tr>\n",
              "    <tr>\n",
              "      <th>9</th>\n",
              "      <td>Yêu</td>\n",
              "      <td>0</td>\n",
              "    </tr>\n",
              "  </tbody>\n",
              "</table>\n",
              "</div>"
            ],
            "text/plain": [
              "                                                 cmt  is_profane\n",
              "0                              :( chị đó hỏng chào e           0\n",
              "1                                      Zui gần chết            1\n",
              "2                                             Zữ qua           0\n",
              "3                         Zô nhà nghỉ đi ỉa hỏi woai           1\n",
              "4    Yêu thương thế lonn nào được cáii mũi kiaaa :((           1\n",
              "5                                             Yêu em           0\n",
              "6                                Yêu đương nhăn nhít           0\n",
              "7                                   Yêu chết đi đccc           1\n",
              "8  Yêu 1 người mà sống bên 1 người ai khóc cho e ...           0\n",
              "9                                               Yêu            0"
            ]
          },
          "metadata": {
            "tags": []
          },
          "execution_count": 3
        }
      ]
    },
    {
      "cell_type": "code",
      "metadata": {
        "id": "OB8P2JrKnBmB",
        "colab_type": "code",
        "colab": {}
      },
      "source": [
        "X = data['cmt']"
      ],
      "execution_count": 4,
      "outputs": []
    },
    {
      "cell_type": "code",
      "metadata": {
        "id": "CmGzKrJRkLg2",
        "colab_type": "code",
        "colab": {}
      },
      "source": [
        "Y = data['is_profane']\n"
      ],
      "execution_count": 5,
      "outputs": []
    },
    {
      "cell_type": "code",
      "metadata": {
        "id": "RBsE63q78H0H",
        "colab_type": "code",
        "colab": {
          "base_uri": "https://localhost:8080/",
          "height": 352
        },
        "outputId": "a234b543-6665-4293-c92f-f4eb916f4ca9"
      },
      "source": [
        "import matplotlib.pyplot as plt\n",
        "import seaborn as sns\n",
        "\n",
        "%matplotlib inline\n",
        "sns.set_style(\"darkgrid\")\n",
        "sns.countplot(Y).set_title('Label')\n",
        "plt.show()"
      ],
      "execution_count": 6,
      "outputs": [
        {
          "output_type": "stream",
          "text": [
            "/usr/local/lib/python3.6/dist-packages/statsmodels/tools/_testing.py:19: FutureWarning: pandas.util.testing is deprecated. Use the functions in the public API at pandas.testing instead.\n",
            "  import pandas.util.testing as tm\n"
          ],
          "name": "stderr"
        },
        {
          "output_type": "display_data",
          "data": {
            "image/png": "[encoded data removed]",
            "text/plain": [
              "<Figure size 432x288 with 1 Axes>"
            ]
          },
          "metadata": {
            "tags": []
          }
        }
      ]
    },
    {
      "cell_type": "code",
      "metadata": {
        "id": "De0vsHeE-BUm",
        "colab_type": "code",
        "colab": {
          "base_uri": "https://localhost:8080/",
          "height": 248
        },
        "outputId": "30a02c69-2fd4-4fbb-bc87-3aad56fc5b34"
      },
      "source": [
        "plt.pie(Y)\n",
        "plt.show()"
      ],
      "execution_count": 7,
      "outputs": [
        {
          "output_type": "display_data",
          "data": {
            "image/png": "[encoded data removed]",
            "text/plain": [
              "<Figure size 432x288 with 1 Axes>"
            ]
          },
          "metadata": {
            "tags": []
          }
        }
      ]
    },
    {
      "cell_type": "code",
      "metadata": {
        "id": "hmeFgVO11EJ1",
        "colab_type": "code",
        "colab": {
          "base_uri": "https://localhost:8080/",
          "height": 339
        },
        "outputId": "11cfc7cd-8ab9-47aa-c920-f8e9a3617be7"
      },
      "source": [
        "!pip install pyvi"
      ],
      "execution_count": 8,
      "outputs": [
        {
          "output_type": "stream",
          "text": [
            "Collecting pyvi\n",
            "\u001b[?25l  Downloading https://files.pythonhosted.org/packages/10/e1/0e5bc6b5e3327b9385d6e0f1b0a7c0404f28b74eb6db59a778515b30fd9c/pyvi-0.1-py2.py3-none-any.whl (8.5MB)\n",
            "\u001b[K     |████████████████████████████████| 8.5MB 2.5MB/s \n",
            "\u001b[?25hCollecting sklearn-crfsuite\n",
            "  Downloading https://files.pythonhosted.org/packages/25/74/5b7befa513482e6dee1f3dd68171a6c9dfc14c0eaa00f885ffeba54fe9b0/sklearn_crfsuite-0.3.6-py2.py3-none-any.whl\n",
            "Requirement already satisfied: scikit-learn in /usr/local/lib/python3.6/dist-packages (from pyvi) (0.22.2.post1)\n",
            "Requirement already satisfied: six in /usr/local/lib/python3.6/dist-packages (from sklearn-crfsuite->pyvi) (1.12.0)\n",
            "Requirement already satisfied: tabulate in /usr/local/lib/python3.6/dist-packages (from sklearn-crfsuite->pyvi) (0.8.7)\n",
            "Requirement already satisfied: tqdm>=2.0 in /usr/local/lib/python3.6/dist-packages (from sklearn-crfsuite->pyvi) (4.41.1)\n",
            "Collecting python-crfsuite>=0.8.3\n",
            "\u001b[?25l  Downloading https://files.pythonhosted.org/packages/95/99/869dde6dbf3e0d07a013c8eebfb0a3d30776334e0097f8432b631a9a3a19/python_crfsuite-0.9.7-cp36-cp36m-manylinux1_x86_64.whl (743kB)\n",
            "\u001b[K     |████████████████████████████████| 747kB 36.3MB/s \n",
            "\u001b[?25hRequirement already satisfied: scipy>=0.17.0 in /usr/local/lib/python3.6/dist-packages (from scikit-learn->pyvi) (1.4.1)\n",
            "Requirement already satisfied: numpy>=1.11.0 in /usr/local/lib/python3.6/dist-packages (from scikit-learn->pyvi) (1.18.5)\n",
            "Requirement already satisfied: joblib>=0.11 in /usr/local/lib/python3.6/dist-packages (from scikit-learn->pyvi) (0.16.0)\n",
            "Installing collected packages: python-crfsuite, sklearn-crfsuite, pyvi\n",
            "Successfully installed python-crfsuite-0.9.7 pyvi-0.1 sklearn-crfsuite-0.3.6\n"
          ],
          "name": "stdout"
        }
      ]
    },
    {
      "cell_type": "code",
      "metadata": {
        "id": "5quG-Bwd1PPN",
        "colab_type": "code",
        "colab": {}
      },
      "source": [
        "# Tách từ\n",
        "from pyvi import ViTokenizer\n",
        "class NLP(object):\n",
        "    def __init__(self, text = None):\n",
        "        self.text = text\n",
        "        #self.set_stopwords()\n",
        "\n",
        "    def segmentation(self):\n",
        "        return ViTokenizer.tokenize(self.text)\n"
      ],
      "execution_count": 9,
      "outputs": []
    },
    {
      "cell_type": "code",
      "metadata": {
        "id": "sLfj1UyhpMYz",
        "colab_type": "code",
        "colab": {}
      },
      "source": [
        "# hàm clean data - loại bỏ các ký tự đặc biệt\n",
        "import re, string\n",
        "def clean_text(text):\n",
        "  if type(text) != str:\n",
        "    return\n",
        "  else:\n",
        "    text = text.lower()\n",
        "    text = re.sub('\\[.*?]', '', text)\n",
        "    text = re.sub('[%s]' % re.escape(string.punctuation), '', text)\n",
        "    text = re.sub('\\w*\\d\\w*', '', text)\n",
        "  return text "
      ],
      "execution_count": 10,
      "outputs": []
    },
    {
      "cell_type": "code",
      "metadata": {
        "id": "Gohcl3hvnXWx",
        "colab_type": "code",
        "colab": {}
      },
      "source": [
        "# load stopword\n",
        "sw =  open('stopword.txt')\n",
        "data_sw = sw.readlines()\n",
        "data_sw = [x.strip() for x in data_sw]"
      ],
      "execution_count": 11,
      "outputs": []
    },
    {
      "cell_type": "code",
      "metadata": {
        "id": "aSq9m7TMr2m3",
        "colab_type": "code",
        "colab": {}
      },
      "source": [
        "# hàm loại stopword\n",
        "def del_stopword(txt):\n",
        "    t = clean_text(txt)\n",
        "    if t == '':\n",
        "        return\n",
        "    t = NLP(text=t).segmentation()\n",
        "    #t = set(t)\n",
        "    #t = list(t)\n",
        "    t = t.split()\n",
        "    tt = t\n",
        "    for x in tt:\n",
        "      if x in data_sw:\n",
        "        t.remove(x)\n",
        "    return t"
      ],
      "execution_count": 12,
      "outputs": []
    },
    {
      "cell_type": "code",
      "metadata": {
        "id": "D55LI-vW2mpL",
        "colab_type": "code",
        "colab": {
          "base_uri": "https://localhost:8080/",
          "height": 126
        },
        "outputId": "47ab057e-baa1-42c6-de8e-8dd23c76af0a"
      },
      "source": [
        "n = len(X)\n",
        "for i in range(n):\n",
        "    X[i] = del_stopword(X[i])\n",
        "    #X[i] = ' '.join(X[i])"
      ],
      "execution_count": 13,
      "outputs": [
        {
          "output_type": "stream",
          "text": [
            "/usr/local/lib/python3.6/dist-packages/ipykernel_launcher.py:3: SettingWithCopyWarning: \n",
            "A value is trying to be set on a copy of a slice from a DataFrame\n",
            "\n",
            "See the caveats in the documentation: https://pandas.pydata.org/pandas-docs/stable/user_guide/indexing.html#returning-a-view-versus-a-copy\n",
            "  This is separate from the ipykernel package so we can avoid doing imports until\n"
          ],
          "name": "stderr"
        }
      ]
    },
    {
      "cell_type": "code",
      "metadata": {
        "id": "Gc7p4w_5N_-q",
        "colab_type": "code",
        "colab": {
          "base_uri": "https://localhost:8080/",
          "height": 126
        },
        "outputId": "dfb61249-3f46-4a61-d8fa-443af5cf05f9"
      },
      "source": [
        "for i in range(n):\n",
        "    #X[i] = del_stopword(X[i])\n",
        "    X[i] = ' '.join(X[i])"
      ],
      "execution_count": 14,
      "outputs": [
        {
          "output_type": "stream",
          "text": [
            "/usr/local/lib/python3.6/dist-packages/ipykernel_launcher.py:3: SettingWithCopyWarning: \n",
            "A value is trying to be set on a copy of a slice from a DataFrame\n",
            "\n",
            "See the caveats in the documentation: https://pandas.pydata.org/pandas-docs/stable/user_guide/indexing.html#returning-a-view-versus-a-copy\n",
            "  This is separate from the ipykernel package so we can avoid doing imports until\n"
          ],
          "name": "stderr"
        }
      ]
    },
    {
      "cell_type": "code",
      "metadata": {
        "id": "2VQjMyd4IACZ",
        "colab_type": "code",
        "colab": {}
      },
      "source": [
        "#csv_file = open('boom hàng.csv')"
      ],
      "execution_count": 15,
      "outputs": []
    },
    {
      "cell_type": "code",
      "metadata": {
        "id": "F5r0JkLOIMdO",
        "colab_type": "code",
        "colab": {
          "base_uri": "https://localhost:8080/",
          "height": 35
        },
        "outputId": "e3f51c16-d9a1-4a2c-bf3f-00ce773a50de"
      },
      "source": [
        "'''names = ['cmt', 'is_profane']\n",
        "data1 = pd.read_csv(csv_file, names = names)\n",
        "data1.head(10)'''"
      ],
      "execution_count": 16,
      "outputs": [
        {
          "output_type": "execute_result",
          "data": {
            "application/vnd.google.colaboratory.intrinsic": {
              "type": "string"
            },
            "text/plain": [
              "\"names = ['cmt', 'is_profane']\\ndata1 = pd.read_csv(csv_file, names = names)\\ndata1.head(10)\""
            ]
          },
          "metadata": {
            "tags": []
          },
          "execution_count": 16
        }
      ]
    },
    {
      "cell_type": "code",
      "metadata": {
        "id": "0S3ytoy0Ii67",
        "colab_type": "code",
        "colab": {
          "base_uri": "https://localhost:8080/",
          "height": 35
        },
        "outputId": "eab2b565-0102-4ff4-8fcb-f93c8b7c00b6"
      },
      "source": [
        "'''X1 = data1['cmt']\n",
        "Y1= data1['is_profane']\n",
        "'''"
      ],
      "execution_count": 17,
      "outputs": [
        {
          "output_type": "execute_result",
          "data": {
            "application/vnd.google.colaboratory.intrinsic": {
              "type": "string"
            },
            "text/plain": [
              "\"X1 = data1['cmt']\\nY1= data1['is_profane']\\n\""
            ]
          },
          "metadata": {
            "tags": []
          },
          "execution_count": 17
        }
      ]
    },
    {
      "cell_type": "code",
      "metadata": {
        "id": "pubKqWeyLyUn",
        "colab_type": "code",
        "colab": {}
      },
      "source": [
        "#X1"
      ],
      "execution_count": 18,
      "outputs": []
    },
    {
      "cell_type": "code",
      "metadata": {
        "id": "iyQtzzosIwqn",
        "colab_type": "code",
        "colab": {
          "base_uri": "https://localhost:8080/",
          "height": 53
        },
        "outputId": "4f810a4f-650a-4da9-c84d-13309936e617"
      },
      "source": [
        "'''n1 = len(X1)\n",
        "for i in range(n1):\n",
        "    X1[i] = del_stopword(X1[i])\n",
        "    #X[i] = ' '.join(X[i])\n",
        "for i in range(n1):\n",
        "    #X[i] = del_stopword(X[i])\n",
        "    X1[i] = ' '.join(X1[i])'''"
      ],
      "execution_count": 19,
      "outputs": [
        {
          "output_type": "execute_result",
          "data": {
            "application/vnd.google.colaboratory.intrinsic": {
              "type": "string"
            },
            "text/plain": [
              "\"n1 = len(X1)\\nfor i in range(n1):\\n    X1[i] = del_stopword(X1[i])\\n    #X[i] = ' '.join(X[i])\\nfor i in range(n1):\\n    #X[i] = del_stopword(X[i])\\n    X1[i] = ' '.join(X1[i])\""
            ]
          },
          "metadata": {
            "tags": []
          },
          "execution_count": 19
        }
      ]
    },
    {
      "cell_type": "code",
      "metadata": {
        "id": "BiiVmVcXLAPW",
        "colab_type": "code",
        "colab": {}
      },
      "source": [
        "#X1"
      ],
      "execution_count": 20,
      "outputs": []
    },
    {
      "cell_type": "code",
      "metadata": {
        "id": "6yVhApZB-3n-",
        "colab_type": "code",
        "colab": {
          "base_uri": "https://localhost:8080/",
          "height": 568
        },
        "outputId": "760e8aab-2110-42d7-a70c-6b0d99426e36"
      },
      "source": [
        "model1 = LogisticRegression()\n",
        "model2 = MultinomialNB()\n",
        "model3 = LinearSVC()\n",
        "# split test:25%, train:75%\n",
        "trainX,testX,trainY,testY = train_test_split(X,Y,test_size=0.5,random_state=42)\n",
        "\n",
        "# initialize TfidfVectorizer\n",
        "tf = TfidfVectorizer(ngram_range=(1,2), max_features=50000, min_df=2)\n",
        "\n",
        "# transform words to vetor\n",
        "trainX = tf.fit_transform(trainX.values).toarray()\n",
        "trainVocab = tf.vocabulary_ \n",
        "tf = TfidfVectorizer(vocabulary=trainVocab)\n",
        "testX = tf.fit_transform(testX.values).toarray()\n",
        "print(\"[INFO] Used TfidfVectorizer ... \")\n",
        "\n",
        "for i in range(3):\n",
        "    \n",
        "    if i == 2:\n",
        "        model = LogisticRegression()\n",
        "        print(\"   [INFO] evaluating Logistic Regression...\")\n",
        "\n",
        "    if i == 0:\n",
        "        model = LinearSVC()\n",
        "        print(\"   [INFO] evaluating SVM...\")\n",
        "    \n",
        "    if i == 1:\n",
        "        model = MultinomialNB()\n",
        "        print(\"   [INFO] evaluating Naive Bayes...\")\n",
        "    \n",
        "    # train and evaluating \n",
        "    model.fit(trainX, trainY)\n",
        "    predictions = model.predict(testX)\n",
        "    print(classification_report(testY,predictions))"
      ],
      "execution_count": 21,
      "outputs": [
        {
          "output_type": "stream",
          "text": [
            "[INFO] Used TfidfVectorizer ... \n",
            "   [INFO] evaluating SVM...\n",
            "              precision    recall  f1-score   support\n",
            "\n",
            "           0       0.85      0.88      0.87      1347\n",
            "           1       0.85      0.81      0.83      1111\n",
            "\n",
            "    accuracy                           0.85      2458\n",
            "   macro avg       0.85      0.85      0.85      2458\n",
            "weighted avg       0.85      0.85      0.85      2458\n",
            "\n",
            "   [INFO] evaluating Naive Bayes...\n",
            "              precision    recall  f1-score   support\n",
            "\n",
            "           0       0.79      0.90      0.84      1347\n",
            "           1       0.86      0.71      0.78      1111\n",
            "\n",
            "    accuracy                           0.82      2458\n",
            "   macro avg       0.82      0.81      0.81      2458\n",
            "weighted avg       0.82      0.82      0.81      2458\n",
            "\n",
            "   [INFO] evaluating Logistic Regression...\n",
            "              precision    recall  f1-score   support\n",
            "\n",
            "           0       0.81      0.92      0.86      1347\n",
            "           1       0.89      0.73      0.80      1111\n",
            "\n",
            "    accuracy                           0.84      2458\n",
            "   macro avg       0.85      0.83      0.83      2458\n",
            "weighted avg       0.84      0.84      0.84      2458\n",
            "\n"
          ],
          "name": "stdout"
        }
      ]
    },
    {
      "cell_type": "code",
      "metadata": {
        "id": "osGfTZygMHl_",
        "colab_type": "code",
        "colab": {
          "base_uri": "https://localhost:8080/",
          "height": 160
        },
        "outputId": "ec15c166-4a27-4371-b4a5-1c58b8b5bc50"
      },
      "source": [
        "'''model1 = LogisticRegression()\n",
        "model2 = MultinomialNB()\n",
        "model3 = LinearSVC()\n",
        "# split test:25%, train:75%\n",
        "trainX,testX,trainY,testY = train_test_split(X,Y,test_size=0.5,random_state=42)\n",
        "\n",
        "# initialize TfidfVectorizer\n",
        "tf = TfidfVectorizer(ngram_range=(1,2), max_features=50000, min_df=2)\n",
        "\n",
        "# transform words to vetor\n",
        "trainX = tf.fit_transform(trainX.values).toarray()\n",
        "trainVocab = tf.vocabulary_ \n",
        "tf = TfidfVectorizer(vocabulary=trainVocab)\n",
        "X1 = tf.fit_transform(X1.values).toarray()\n",
        "print(\"[INFO] Used TfidfVectorizer ... \")\n",
        "\n",
        "for i in range(3):\n",
        "    \n",
        "    if i == 2:\n",
        "        model = LogisticRegression()\n",
        "        print(\"   [INFO] evaluating Logistic Regression...\")\n",
        "\n",
        "    if i == 0:\n",
        "        model = LinearSVC()\n",
        "        print(\"   [INFO] evaluating SVM...\")\n",
        "    \n",
        "    if i == 1:\n",
        "        model = MultinomialNB()\n",
        "        print(\"   [INFO] evaluating Naive Bayes...\")\n",
        "    \n",
        "    # train and evaluating \n",
        "    model.fit(trainX, trainY)\n",
        "    predictions = model.predict(X1)\n",
        "    print(classification_report(Y1,predictions))'''"
      ],
      "execution_count": 22,
      "outputs": [
        {
          "output_type": "execute_result",
          "data": {
            "application/vnd.google.colaboratory.intrinsic": {
              "type": "string"
            },
            "text/plain": [
              "'model1 = LogisticRegression()\\nmodel2 = MultinomialNB()\\nmodel3 = LinearSVC()\\n# split test:25%, train:75%\\ntrainX,testX,trainY,testY = train_test_split(X,Y,test_size=0.5,random_state=42)\\n\\n# initialize TfidfVectorizer\\ntf = TfidfVectorizer(ngram_range=(1,2), max_features=50000, min_df=2)\\n\\n# transform words to vetor\\ntrainX = tf.fit_transform(trainX.values).toarray()\\ntrainVocab = tf.vocabulary_ \\ntf = TfidfVectorizer(vocabulary=trainVocab)\\nX1 = tf.fit_transform(X1.values).toarray()\\nprint(\"[INFO] Used TfidfVectorizer ... \")\\n\\nfor i in range(3):\\n    \\n    if i == 2:\\n        model = LogisticRegression()\\n        print(\"   [INFO] evaluating Logistic Regression...\")\\n\\n    if i == 0:\\n        model = LinearSVC()\\n        print(\"   [INFO] evaluating SVM...\")\\n    \\n    if i == 1:\\n        model = MultinomialNB()\\n        print(\"   [INFO] evaluating Naive Bayes...\")\\n    \\n    # train and evaluating \\n    model.fit(trainX, trainY)\\n    predictions = model.predict(X1)\\n    print(classification_report(Y1,predictions))'"
            ]
          },
          "metadata": {
            "tags": []
          },
          "execution_count": 22
        }
      ]
    },
    {
      "cell_type": "code",
      "metadata": {
        "id": "CrFns6yUCr6A",
        "colab_type": "code",
        "colab": {}
      },
      "source": [
        "def processing(text):\n",
        "    text = clean_text(text)\n",
        "    text = del_stopword(text)\n",
        "    text = ' '.join(text)\n",
        "    text = tf.fit_transform([text])\n",
        "    return text\n",
        "    "
      ],
      "execution_count": 23,
      "outputs": []
    },
    {
      "cell_type": "code",
      "metadata": {
        "id": "lMWj4z0_8HOC",
        "colab_type": "code",
        "colab": {
          "base_uri": "https://localhost:8080/",
          "height": 35
        },
        "outputId": "64de0295-c116-40c4-8747-f647ade463cc"
      },
      "source": [
        "text = ''\n",
        "text = processing(text)\n",
        "predict = model.predict(text)\n",
        "\n",
        "if predict == 1:\n",
        "  print(\"câu bình luận thô tục, xúc phạm, cần được xóa\")\n",
        "else:\n",
        "  print('Câu bình luận bình thường')"
      ],
      "execution_count": 34,
      "outputs": [
        {
          "output_type": "stream",
          "text": [
            "Câu bình luận bình thường\n"
          ],
          "name": "stdout"
        }
      ]
    },
    {
      "cell_type": "code",
      "metadata": {
        "id": "RifwemVu8TOd",
        "colab_type": "code",
        "colab": {
          "base_uri": "https://localhost:8080/",
          "height": 35
        },
        "outputId": "05343b12-b4ed-4efe-b30c-3d39cb01d77e"
      },
      "source": [
        "import joblib\n",
        "filename = 'finalized_model.sav'\n",
        "joblib.dump(model, filename)"
      ],
      "execution_count": 25,
      "outputs": [
        {
          "output_type": "execute_result",
          "data": {
            "text/plain": [
              "['finalized_model.sav']"
            ]
          },
          "metadata": {
            "tags": []
          },
          "execution_count": 25
        }
      ]
    }
  ]
}