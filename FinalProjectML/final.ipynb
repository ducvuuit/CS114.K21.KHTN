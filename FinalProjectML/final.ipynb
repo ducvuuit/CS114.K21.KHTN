{
  "nbformat": 4,
  "nbformat_minor": 0,
  "metadata": {
    "colab": {
      "name": "final.ipynb",
      "provenance": [],
      "collapsed_sections": [],
      "authorship_tag": "ABX9TyMnD0aiTPrTSt3HaIISBTzh",
      "include_colab_link": true
    },
    "kernelspec": {
      "name": "python3",
      "display_name": "Python 3"
    }
  },
  "cells": [
    {
      "cell_type": "markdown",
      "metadata": {
        "id": "view-in-github",
        "colab_type": "text"
      },
      "source": [
        "<a href=\"https://colab.research.google.com/github/ducvuuit/CS114.K21.KHTN/blob/master/FinalProjectML/final.ipynb\" target=\"_parent\"><img src=\"https://colab.research.google.com/assets/colab-badge.svg\" alt=\"Open In Colab\"/></a>"
      ]
    },
    {
      "cell_type": "code",
      "metadata": {
        "id": "fQvW_NzzGelq",
        "colab_type": "code",
        "colab": {}
      },
      "source": [
        "# import các thư viện cần thiết\n",
        "from sklearn.metrics import classification_report\n",
        "from sklearn.model_selection import train_test_split\n",
        "\n",
        "from sklearn.feature_extraction.text import CountVectorizer\n",
        "\n",
        "from sklearn.linear_model import LogisticRegression\n",
        "from sklearn.naive_bayes import MultinomialNB\n",
        "from sklearn.svm import LinearSVC\n",
        "\n",
        "import pandas as pd \n",
        "\n"
      ],
      "execution_count": 77,
      "outputs": []
    },
    {
      "cell_type": "code",
      "metadata": {
        "id": "gVCc5ziaj1lt",
        "colab_type": "code",
        "colab": {}
      },
      "source": [
        "#tải dữ liệu lên\n",
        "csv_file = open('datatest.csv')\n"
      ],
      "execution_count": 90,
      "outputs": []
    },
    {
      "cell_type": "code",
      "metadata": {
        "id": "R5MFOCQRj9b_",
        "colab_type": "code",
        "colab": {
          "base_uri": "https://localhost:8080/",
          "height": 352
        },
        "outputId": "d2963603-1646-4bdd-86fc-e3bd36f2c394"
      },
      "source": [
        "# Kiểm tra dữ liệu\n",
        "names = ['cmt', 'is_profane']\n",
        "data = pd.read_csv(csv_file, names = names)\n",
        "data.head(10)"
      ],
      "execution_count": 91,
      "outputs": [
        {
          "output_type": "execute_result",
          "data": {
            "text/html": [
              "<div>\n",
              "<style scoped>\n",
              "    .dataframe tbody tr th:only-of-type {\n",
              "        vertical-align: middle;\n",
              "    }\n",
              "\n",
              "    .dataframe tbody tr th {\n",
              "        vertical-align: top;\n",
              "    }\n",
              "\n",
              "    .dataframe thead th {\n",
              "        text-align: right;\n",
              "    }\n",
              "</style>\n",
              "<table border=\"1\" class=\"dataframe\">\n",
              "  <thead>\n",
              "    <tr style=\"text-align: right;\">\n",
              "      <th></th>\n",
              "      <th>cmt</th>\n",
              "      <th>is_profane</th>\n",
              "    </tr>\n",
              "  </thead>\n",
              "  <tbody>\n",
              "    <tr>\n",
              "      <th>0</th>\n",
              "      <td>Hay quá a ơi</td>\n",
              "      <td>0</td>\n",
              "    </tr>\n",
              "    <tr>\n",
              "      <th>1</th>\n",
              "      <td>Con ba do gap toi la</td>\n",
              "      <td>0</td>\n",
              "    </tr>\n",
              "    <tr>\n",
              "      <th>2</th>\n",
              "      <td>A noi hay ok roi</td>\n",
              "      <td>0</td>\n",
              "    </tr>\n",
              "    <tr>\n",
              "      <th>3</th>\n",
              "      <td>Đã sai mà cứ ống ống cái mồm ,tao mà như mày t...</td>\n",
              "      <td>0</td>\n",
              "    </tr>\n",
              "    <tr>\n",
              "      <th>4</th>\n",
              "      <td>Me no da theo trai con kênh  cai mặt</td>\n",
              "      <td>0</td>\n",
              "    </tr>\n",
              "    <tr>\n",
              "      <th>5</th>\n",
              "      <td>Suka ngu</td>\n",
              "      <td>1</td>\n",
              "    </tr>\n",
              "    <tr>\n",
              "      <th>6</th>\n",
              "      <td>Con khùng . Mày ngu</td>\n",
              "      <td>1</td>\n",
              "    </tr>\n",
              "    <tr>\n",
              "      <th>7</th>\n",
              "      <td>Má ơi bớt nói lại đi</td>\n",
              "      <td>1</td>\n",
              "    </tr>\n",
              "    <tr>\n",
              "      <th>8</th>\n",
              "      <td>Hello chị</td>\n",
              "      <td>0</td>\n",
              "    </tr>\n",
              "    <tr>\n",
              "      <th>9</th>\n",
              "      <td>Anh đúng là người tốt .chỉ cần nói như vậy là ...</td>\n",
              "      <td>0</td>\n",
              "    </tr>\n",
              "  </tbody>\n",
              "</table>\n",
              "</div>"
            ],
            "text/plain": [
              "                                                 cmt  is_profane\n",
              "0                                       Hay quá a ơi           0\n",
              "1                               Con ba do gap toi la           0\n",
              "2                                   A noi hay ok roi           0\n",
              "3  Đã sai mà cứ ống ống cái mồm ,tao mà như mày t...           0\n",
              "4              Me no da theo trai con kênh  cai mặt           0\n",
              "5                                           Suka ngu           1\n",
              "6                                Con khùng . Mày ngu           1\n",
              "7                               Má ơi bớt nói lại đi           1\n",
              "8                                          Hello chị           0\n",
              "9  Anh đúng là người tốt .chỉ cần nói như vậy là ...           0"
            ]
          },
          "metadata": {
            "tags": []
          },
          "execution_count": 91
        }
      ]
    },
    {
      "cell_type": "code",
      "metadata": {
        "id": "OB8P2JrKnBmB",
        "colab_type": "code",
        "colab": {}
      },
      "source": [
        "X = data['cmt']"
      ],
      "execution_count": 92,
      "outputs": []
    },
    {
      "cell_type": "code",
      "metadata": {
        "id": "CmGzKrJRkLg2",
        "colab_type": "code",
        "colab": {}
      },
      "source": [
        "Y = data['is_profane']\n"
      ],
      "execution_count": 93,
      "outputs": []
    },
    {
      "cell_type": "code",
      "metadata": {
        "id": "wzWr36mDantc",
        "colab_type": "code",
        "colab": {
          "base_uri": "https://localhost:8080/",
          "height": 230
        },
        "outputId": "caf271b1-72db-4562-f25b-a3e96b7e8785"
      },
      "source": [
        "Y"
      ],
      "execution_count": 51,
      "outputs": [
        {
          "output_type": "execute_result",
          "data": {
            "text/plain": [
              "0       0\n",
              "1       0\n",
              "2       0\n",
              "3       0\n",
              "4       0\n",
              "       ..\n",
              "3886    0\n",
              "3887    0\n",
              "3888    1\n",
              "3889    1\n",
              "3890    0\n",
              "Name: is_profane, Length: 3891, dtype: int64"
            ]
          },
          "metadata": {
            "tags": []
          },
          "execution_count": 51
        }
      ]
    },
    {
      "cell_type": "code",
      "metadata": {
        "id": "BmLXvc64bM27",
        "colab_type": "code",
        "colab": {
          "base_uri": "https://localhost:8080/",
          "height": 230
        },
        "outputId": "7940d8d5-8fbf-4bb2-c803-a7c292bdd3dd"
      },
      "source": [
        "X"
      ],
      "execution_count": null,
      "outputs": [
        {
          "output_type": "execute_result",
          "data": {
            "text/plain": [
              "0                                            Hay quá a ơi\n",
              "1                                    Con ba do gap toi la\n",
              "2                                        A noi hay ok roi\n",
              "3       Đã sai mà cứ ống ống cái mồm ,tao mà như mày t...\n",
              "4                   Me no da theo trai con kênh  cai mặt\n",
              "                              ...                        \n",
              "3891                                        Chào e đi chị\n",
              "3892                              gọi cô minh hiếu chị ơi\n",
              "3893    Má t nghee giọng traii còn nứng nữa huống chii...\n",
              "3894                                    Thằng này xàm vãi\n",
              "3895                                        Chào e đi chị\n",
              "Name: cmt, Length: 3896, dtype: object"
            ]
          },
          "metadata": {
            "tags": []
          },
          "execution_count": 29
        }
      ]
    },
    {
      "cell_type": "code",
      "metadata": {
        "id": "sLfj1UyhpMYz",
        "colab_type": "code",
        "colab": {}
      },
      "source": [
        "# hàm clean data - loại bỏ các ký tự đặc biệt\n",
        "import re, string\n",
        "def clean_text(text):\n",
        "  if type(text) != str:\n",
        "    return\n",
        "  else:\n",
        "    text = text.lower()\n",
        "    text = re.sub('\\[.*?]', '', text)\n",
        "    text = re.sub('[%s]' % re.escape(string.punctuation), '', text)\n",
        "    text = re.sub('\\w*\\d\\w*', '', text)\n",
        "  return text "
      ],
      "execution_count": 94,
      "outputs": []
    },
    {
      "cell_type": "code",
      "metadata": {
        "id": "Gohcl3hvnXWx",
        "colab_type": "code",
        "colab": {
          "base_uri": "https://localhost:8080/",
          "height": 55
        },
        "outputId": "f354cc5c-244d-4a48-cefd-75ac0f1e838b"
      },
      "source": [
        "# stopword\n",
        "sw =  open('stopword.txt')\n",
        "data_sw = sw.readlines()\n",
        "data_sw = [x.strip() for x in data_sw]\n",
        "print(data_sw)"
      ],
      "execution_count": 95,
      "outputs": [
        {
          "output_type": "stream",
          "text": [
            "['a lô', 'a ha', 'ai', 'ai ai', 'ai nấy', 'ai đó', 'alô', 'amen', 'anh', 'anh ấy', 'ba', 'ba ba', 'ba bản', 'ba cùng', 'ba họ', 'ba ngày', 'ba ngôi', 'ba tăng', 'bao giờ', 'bao lâu', 'bao nhiêu', 'bao nả', 'bay biến', 'biết', 'biết bao', 'biết bao nhiêu', 'biết chắc', 'biết chừng nào', 'biết mình', 'biết mấy', 'biết thế', 'biết trước', 'biết việc', 'biết đâu', 'biết đâu chừng', 'biết đâu đấy', 'biết được', 'buổi', 'buổi làm', 'buổi mới', 'buổi ngày', 'buổi sớm', 'bà', 'bà ấy', 'bài', 'bài bác', 'bài bỏ', 'bài cái', 'bác', 'bán', 'bán cấp', 'bán dạ', 'bán thế', 'bây bẩy', 'bây chừ', 'bây giờ', 'bây nhiêu', 'bèn', 'béng', 'bên', 'bên bị', 'bên có', 'bên cạnh', 'bông', 'bước', 'bước khỏi', 'bước tới', 'bước đi', 'bạn', 'bản', 'bản bộ', 'bản riêng', 'bản thân', 'bản ý', 'bất chợt', 'bất cứ', 'bất giác', 'bất kì', 'bất kể', 'bất kỳ', 'bất luận', 'bất ngờ', 'bất nhược', 'bất quá', 'bất quá chỉ', 'bất thình lình', 'bất tử', 'bất đồ', 'bấy', 'bấy chầy', 'bấy chừ', 'bấy giờ', 'bấy lâu', 'bấy lâu nay', 'bấy nay', 'bấy nhiêu', 'bập bà bập bõm', 'bập bõm', 'bắt đầu', 'bắt đầu từ', 'bằng', 'bằng cứ', 'bằng không', 'bằng người', 'bằng nhau', 'bằng như', 'bằng nào', 'bằng nấy', 'bằng vào', 'bằng được', 'bằng ấy', 'bển', 'bệt', 'bị', 'bị chú', 'bị vì', 'bỏ', 'bỏ bà', 'bỏ cha', 'bỏ cuộc', 'bỏ không', 'bỏ lại', 'bỏ mình', 'bỏ mất', 'bỏ mẹ', 'bỏ nhỏ', 'bỏ quá', 'bỏ ra', 'bỏ riêng', 'bỏ việc', 'bỏ xa', 'bỗng', 'bỗng chốc', 'bỗng dưng', 'bỗng không', 'bỗng nhiên', 'bỗng nhưng', 'bỗng thấy', 'bỗng đâu', 'bộ', 'bộ thuộc', 'bộ điều', 'bội phần', 'bớ', 'bởi', 'bởi ai', 'bởi chưng', 'bởi nhưng', 'bởi sao', 'bởi thế', 'bởi thế cho nên', 'bởi tại', 'bởi vì', 'bởi vậy', 'bởi đâu', 'bức', 'cao', 'cao lâu', 'cao ráo', 'cao răng', 'cao sang', 'cao số', 'cao thấp', 'cao thế', 'cao xa', 'cha', 'cha chả', 'chao ôi', 'chia sẻ', 'chiếc', 'cho', 'cho biết', 'cho chắc', 'cho hay', 'cho nhau', 'cho nên', 'cho rằng', 'cho rồi', 'cho thấy', 'cho tin', 'cho tới', 'cho tới khi', 'cho về', 'cho ăn', 'cho đang', 'cho được', 'cho đến', 'cho đến khi', 'cho đến nỗi', 'choa', 'chu cha', 'chui cha', 'chung', 'chung cho', 'chung chung', 'chung cuộc', 'chung cục', 'chung nhau', 'chung qui', 'chung quy', 'chung quy lại', 'chung ái', 'chuyển', 'chuyển tự', 'chuyển đạt', 'chuyện', 'chuẩn bị', 'chành chạnh', 'chí chết', 'chính', 'chính bản', 'chính giữa', 'chính là', 'chính thị', 'chính điểm', 'chùn chùn', 'chùn chũn', 'chú', 'chú dẫn', 'chú khách', 'chú mày', 'chú mình', 'chúng', 'chúng mình', 'chúng ta', 'chúng tôi', 'chúng ông', 'chăn chắn', 'chăng', 'chăng chắc', 'chăng nữa', 'chơi', 'chơi họ', 'chưa', 'chưa bao giờ', 'chưa chắc', 'chưa có', 'chưa cần', 'chưa dùng', 'chưa dễ', 'chưa kể', 'chưa tính', 'chưa từng', 'chầm chập', 'chậc', 'chắc', 'chắc chắn', 'chắc dạ', 'chắc hẳn', 'chắc lòng', 'chắc người', 'chắc vào', 'chắc ăn', 'chẳng lẽ', 'chẳng những', 'chẳng nữa', 'chẳng phải', 'chết nỗi', 'chết thật', 'chết tiệt', 'chỉ', 'chỉ chính', 'chỉ có', 'chỉ là', 'chỉ tên', 'chỉn', 'chị', 'chị bộ', 'chị ấy', 'chịu', 'chịu chưa', 'chịu lời', 'chịu tốt', 'chịu ăn', 'chọn', 'chọn bên', 'chọn ra', 'chốc chốc', 'chớ', 'chớ chi', 'chớ gì', 'chớ không', 'chớ kể', 'chớ như', 'chợt', 'chợt nghe', 'chợt nhìn', 'chủn', 'chứ', 'chứ ai', 'chứ còn', 'chứ gì', 'chứ không', 'chứ không phải', 'chứ lại', 'chứ lị', 'chứ như', 'chứ sao', 'coi bộ', 'coi mòi', 'con', 'con con', 'con dạ', 'con nhà', 'con tính', 'cu cậu', 'cuối', 'cuối cùng', 'cuối điểm', 'cuốn', 'cuộc', 'càng', 'càng càng', 'càng hay', 'cá nhân', 'các', 'các cậu', 'cách', 'cách bức', 'cách không', 'cách nhau', 'cách đều', 'cái', 'cái gì', 'cái họ', 'cái đã', 'cái đó', 'cái ấy', 'câu hỏi', 'cây', 'cây nước', 'còn', 'còn như', 'còn nữa', 'còn thời gian', 'còn về', 'có', 'có ai', 'có chuyện', 'có chăng', 'có chăng là', 'có chứ', 'có cơ', 'có dễ', 'có họ', 'có khi', 'có ngày', 'có người', 'có nhiều', 'có nhà', 'có phải', 'có số', 'có tháng', 'có thế', 'có thể', 'có vẻ', 'có ý', 'có ăn', 'có điều', 'có điều kiện', 'có đáng', 'có đâu', 'có được', 'cóc khô', 'cô', 'cô mình', 'cô quả', 'cô tăng', 'cô ấy', 'công nhiên', 'cùng', 'cùng chung', 'cùng cực', 'cùng nhau', 'cùng tuổi', 'cùng tột', 'cùng với', 'cùng ăn', 'căn', 'căn cái', 'căn cắt', 'căn tính', 'cũng', 'cũng như', 'cũng nên', 'cũng thế', 'cũng vậy', 'cũng vậy thôi', 'cũng được', 'cơ', 'cơ chỉ', 'cơ chừng', 'cơ cùng', 'cơ dẫn', 'cơ hồ', 'cơ hội', 'cơ mà', 'cơn', 'cả', 'cả nghe', 'cả nghĩ', 'cả ngày', 'cả người', 'cả nhà', 'cả năm', 'cả thảy', 'cả thể', 'cả tin', 'cả ăn', 'cả đến', 'cảm thấy', 'cảm ơn', 'cấp', 'cấp số', 'cấp trực tiếp', 'cần', 'cần cấp', 'cần gì', 'cần số', 'cật lực', 'cật sức', 'cậu', 'cổ lai', 'cụ thể', 'cụ thể là', 'cụ thể như', 'của', 'của ngọt', 'của tin', 'cứ', 'cứ như', 'cứ việc', 'cứ điểm', 'cực lực', 'do', 'do vì', 'do vậy', 'do đó', 'duy', 'duy chỉ', 'duy có', 'dài', 'dài lời', 'dài ra', 'dành', 'dành dành', 'dào', 'dì', 'dù', 'dù cho', 'dù dì', 'dù gì', 'dù rằng', 'dù sao', 'dùng', 'dùng cho', 'dùng hết', 'dùng làm', 'dùng đến', 'dưới', 'dưới nước', 'dạ', 'dạ bán', 'dạ con', 'dạ dài', 'dạ dạ', 'dạ khách', 'dần dà', 'dần dần', 'dầu sao', 'dẫn', 'dẫu', 'dẫu mà', 'dẫu rằng', 'dẫu sao', 'dễ', 'dễ dùng', 'dễ gì', 'dễ khiến', 'dễ nghe', 'dễ ngươi', 'dễ như chơi', 'dễ sợ', 'dễ sử dụng', 'dễ thường', 'dễ thấy', 'dễ ăn', 'dễ đâu', 'dở chừng', 'dữ', 'dữ cách', 'em', 'em em', 'giá trị', 'giá trị thực tế', 'giảm', 'giảm chính', 'giảm thấp', 'giảm thế', 'giống', 'giống người', 'giống nhau', 'giống như', 'giờ', 'giờ lâu', 'giờ này', 'giờ đi', 'giờ đây', 'giờ đến', 'giữ', 'giữ lấy', 'giữ ý', 'giữa', 'giữa lúc', 'gây', 'gây cho', 'gây giống', 'gây ra', 'gây thêm', 'gì', 'gì gì', 'gì đó', 'gần', 'gần bên', 'gần hết', 'gần ngày', 'gần như', 'gần xa', 'gần đây', 'gần đến', 'gặp', 'gặp khó khăn', 'gặp phải', 'gồm', 'hay', 'hay biết', 'hay hay', 'hay không', 'hay là', 'hay làm', 'hay nhỉ', 'hay nói', 'hay sao', 'hay tin', 'hay đâu', 'hiểu', 'hiện nay', 'hiện tại', 'hoàn toàn', 'hoặc', 'hoặc là', 'hãy', 'hãy còn', 'hơn', 'hơn cả', 'hơn hết', 'hơn là', 'hơn nữa', 'hơn trước', 'hầu hết', 'hết', 'hết chuyện', 'hết cả', 'hết của', 'hết nói', 'hết ráo', 'hết rồi', 'hết ý', 'họ', 'họ gần', 'họ xa', 'hỏi', 'hỏi lại', 'hỏi xem', 'hỏi xin', 'hỗ trợ', 'khi', 'khi khác', 'khi không', 'khi nào', 'khi nên', 'khi trước', 'khiến', 'khoảng', 'khoảng cách', 'khoảng không', 'khá', 'khá tốt', 'khác', 'khác gì', 'khác khác', 'khác nhau', 'khác nào', 'khác thường', 'khác xa', 'khách', 'khó', 'khó biết', 'khó chơi', 'khó khăn', 'khó làm', 'khó mở', 'khó nghe', 'khó nghĩ', 'khó nói', 'khó thấy', 'khó tránh', 'không', 'không ai', 'không bao giờ', 'không bao lâu', 'không biết', 'không bán', 'không chỉ', 'không còn', 'không có', 'không có gì', 'không cùng', 'không cần', 'không cứ', 'không dùng', 'không gì', 'không hay', 'không khỏi', 'không kể', 'không ngoài', 'không nhận', 'không những', 'không phải', 'không phải không', 'không thể', 'không tính', 'không điều kiện', 'không được', 'không đầy', 'không để', 'khẳng định', 'khỏi', 'khỏi nói', 'kể', 'kể cả', 'kể như', 'kể tới', 'kể từ', 'liên quan', 'loại', 'loại từ', 'luôn', 'luôn cả', 'luôn luôn', 'luôn tay', 'là', 'là cùng', 'là là', 'là nhiều', 'là phải', 'là thế nào', 'là vì', 'là ít', 'làm', 'làm bằng', 'làm cho', 'làm dần dần', 'làm gì', 'làm lòng', 'làm lại', 'làm lấy', 'làm mất', 'làm ngay', 'làm như', 'làm nên', 'làm ra', 'làm riêng', 'làm sao', 'làm theo', 'làm thế nào', 'làm tin', 'làm tôi', 'làm tăng', 'làm tại', 'làm tắp lự', 'làm vì', 'làm đúng', 'làm được', 'lâu', 'lâu các', 'lâu lâu', 'lâu nay', 'lâu ngày', 'lên', 'lên cao', 'lên cơn', 'lên mạnh', 'lên ngôi', 'lên nước', 'lên số', 'lên xuống', 'lên đến', 'lòng', 'lòng không', 'lúc', 'lúc khác', 'lúc lâu', 'lúc nào', 'lúc này', 'lúc sáng', 'lúc trước', 'lúc đi', 'lúc đó', 'lúc đến', 'lúc ấy', 'lý do', 'lượng', 'lượng cả', 'lượng số', 'lượng từ', 'lại', 'lại bộ', 'lại cái', 'lại còn', 'lại giống', 'lại làm', 'lại người', 'lại nói', 'lại nữa', 'lại quả', 'lại thôi', 'lại ăn', 'lại đây', 'lấy', 'lấy có', 'lấy cả', 'lấy giống', 'lấy làm', 'lấy lý do', 'lấy lại', 'lấy ra', 'lấy ráo', 'lấy sau', 'lấy số', 'lấy thêm', 'lấy thế', 'lấy vào', 'lấy xuống', 'lấy được', 'lấy để', 'lần', 'lần khác', 'lần lần', 'lần nào', 'lần này', 'lần sang', 'lần sau', 'lần theo', 'lần trước', 'lần tìm', 'lớn', 'lớn lên', 'lớn nhỏ', 'lời', 'lời chú', 'lời nói', 'mang', 'mang lại', 'mang mang', 'mang nặng', 'mang về', 'muốn', 'mà', 'mà cả', 'mà không', 'mà lại', 'mà thôi', 'mà vẫn', 'mình', 'mạnh', 'mất', 'mất còn', 'mọi', 'mọi giờ', 'mọi khi', 'mọi lúc', 'mọi người', 'mọi nơi', 'mọi sự', 'mọi thứ', 'mọi việc', 'mối', 'mỗi', 'mỗi lúc', 'mỗi lần', 'mỗi một', 'mỗi ngày', 'mỗi người', 'một', 'một cách', 'một cơn', 'một khi', 'một lúc', 'một số', 'một vài', 'một ít', 'mới', 'mới hay', 'mới rồi', 'mới đây', 'mở', 'mở mang', 'mở nước', 'mở ra', 'mợ', 'mức', 'nay', 'ngay', 'ngay bây giờ', 'ngay cả', 'ngay khi', 'ngay khi đến', 'ngay lúc', 'ngay lúc này', 'ngay lập tức', 'ngay thật', 'ngay tức khắc', 'ngay tức thì', 'ngay từ', 'nghe', 'nghe chừng', 'nghe hiểu', 'nghe không', 'nghe lại', 'nghe nhìn', 'nghe như', 'nghe nói', 'nghe ra', 'nghe rõ', 'nghe thấy', 'nghe tin', 'nghe trực tiếp', 'nghe đâu', 'nghe đâu như', 'nghe được', 'nghen', 'nghiễm nhiên', 'nghĩ', 'nghĩ lại', 'nghĩ ra', 'nghĩ tới', 'nghĩ xa', 'nghĩ đến', 'nghỉm', 'ngoài', 'ngoài này', 'ngoài ra', 'ngoài xa', 'ngoải', 'nguồn', 'ngày', 'ngày càng', 'ngày cấp', 'ngày giờ', 'ngày ngày', 'ngày nào', 'ngày này', 'ngày nọ', 'ngày qua', 'ngày rày', 'ngày tháng', 'ngày xưa', 'ngày xửa', 'ngày đến', 'ngày ấy', 'ngôi', 'ngôi nhà', 'ngôi thứ', 'ngõ hầu', 'ngăn ngắt', 'ngươi', 'người', 'người hỏi', 'người khác', 'người khách', 'người mình', 'người nghe', 'người người', 'người nhận', 'ngọn', 'ngọn nguồn', 'ngọt', 'ngồi', 'ngồi bệt', 'ngồi không', 'ngồi sau', 'ngồi trệt', 'ngộ nhỡ', 'nhanh', 'nhanh lên', 'nhanh tay', 'nhau', 'nhiên hậu', 'nhiều', 'nhiều ít', 'nhiệt liệt', 'nhung nhăng', 'nhà', 'nhà chung', 'nhà khó', 'nhà làm', 'nhà ngoài', 'nhà ngươi', 'nhà tôi', 'nhà việc', 'nhân dịp', 'nhân tiện', 'nhé', 'nhìn', 'nhìn chung', 'nhìn lại', 'nhìn nhận', 'nhìn theo', 'nhìn thấy', 'nhìn xuống', 'nhóm', 'nhón nhén', 'như', 'như ai', 'như chơi', 'như không', 'như là', 'như nhau', 'như quả', 'như sau', 'như thường', 'như thế', 'như thế nào', 'như thể', 'như trên', 'như trước', 'như tuồng', 'như vậy', 'như ý', 'nhưng', 'nhưng mà', 'nhược bằng', 'nhất', 'nhất loạt', 'nhất luật', 'nhất là', 'nhất mực', 'nhất nhất', 'nhất quyết', 'nhất sinh', 'nhất thiết', 'nhất thì', 'nhất tâm', 'nhất tề', 'nhất đán', 'nhất định', 'nhận', 'nhận biết', 'nhận họ', 'nhận làm', 'nhận nhau', 'nhận ra', 'nhận thấy', 'nhận việc', 'nhận được', 'nhằm', 'nhằm khi', 'nhằm lúc', 'nhằm vào', 'nhằm để', 'nhỉ', 'nhỏ', 'nhỏ người', 'nhớ', 'nhớ bập bõm', 'nhớ lại', 'nhớ lấy', 'nhớ ra', 'nhờ', 'nhờ chuyển', 'nhờ có', 'nhờ nhờ', 'nhờ đó', 'nhỡ ra', 'những', 'những ai', 'những khi', 'những là', 'những lúc', 'những muốn', 'những như', 'nào', 'nào cũng', 'nào hay', 'nào là', 'nào phải', 'nào đâu', 'nào đó', 'này', 'này nọ', 'nên', 'nên chi', 'nên chăng', 'nên làm', 'nên người', 'nên tránh', 'nó', 'nóc', 'nói', 'nói bông', 'nói chung', 'nói khó', 'nói là', 'nói lên', 'nói lại', 'nói nhỏ', 'nói phải', 'nói qua', 'nói ra', 'nói riêng', 'nói rõ', 'nói thêm', 'nói thật', 'nói toẹt', 'nói trước', 'nói tốt', 'nói với', 'nói xa', 'nói ý', 'nói đến', 'nói đủ', 'năm', 'năm tháng', 'nơi', 'nơi nơi', 'nước', 'nước bài', 'nước cùng', 'nước lên', 'nước nặng', 'nước quả', 'nước xuống', 'nước ăn', 'nước đến', 'nấy', 'nặng', 'nặng căn', 'nặng mình', 'nặng về', 'nếu', 'nếu có', 'nếu cần', 'nếu không', 'nếu mà', 'nếu như', 'nếu thế', 'nếu vậy', 'nếu được', 'nền', 'nọ', 'nớ', 'nức nở', 'nữa', 'nữa khi', 'nữa là', 'nữa rồi', 'oai oái', 'oái', 'pho', 'phè', 'phè phè', 'phía', 'phía bên', 'phía bạn', 'phía dưới', 'phía sau', 'phía trong', 'phía trên', 'phía trước', 'phóc', 'phót', 'phù hợp', 'phăn phắt', 'phương chi', 'phải', 'phải biết', 'phải chi', 'phải chăng', 'phải cách', 'phải cái', 'phải giờ', 'phải khi', 'phải không', 'phải lại', 'phải lời', 'phải người', 'phải như', 'phải rồi', 'phải tay', 'phần', 'phần lớn', 'phần nhiều', 'phần nào', 'phần sau', 'phần việc', 'phắt', 'phỉ phui', 'phỏng', 'phỏng như', 'phỏng nước', 'phỏng theo', 'phỏng tính', 'phốc', 'phụt', 'phứt', 'qua', 'qua chuyện', 'qua khỏi', 'qua lại', 'qua lần', 'qua ngày', 'qua tay', 'qua thì', 'qua đi', 'quan trọng', 'quan trọng vấn đề', 'quan tâm', 'quay', 'quay bước', 'quay lại', 'quay số', 'quay đi', 'quá', 'quá bán', 'quá bộ', 'quá giờ', 'quá lời', 'quá mức', 'quá nhiều', 'quá tay', 'quá thì', 'quá tin', 'quá trình', 'quá tuổi', 'quá đáng', 'quá ư', 'quả', 'quả là', 'quả thật', 'quả thế', 'quả vậy', 'quận', 'ra', 'ra bài', 'ra bộ', 'ra chơi', 'ra gì', 'ra lại', 'ra lời', 'ra ngôi', 'ra người', 'ra sao', 'ra tay', 'ra vào', 'ra ý', 'ra điều', 'ra đây', 'ren rén', 'riu ríu', 'riêng', 'riêng từng', 'riệt', 'rày', 'ráo', 'ráo cả', 'ráo nước', 'ráo trọi', 'rén', 'rén bước', 'rích', 'rón rén', 'rõ', 'rõ là', 'rõ thật', 'rút cục', 'răng', 'răng răng', 'rất', 'rất lâu', 'rằng', 'rằng là', 'rốt cuộc', 'rốt cục', 'rồi', 'rồi nữa', 'rồi ra', 'rồi sao', 'rồi sau', 'rồi tay', 'rồi thì', 'rồi xem', 'rồi đây', 'rứa', 'sa sả', 'sang', 'sang năm', 'sang sáng', 'sang tay', 'sao', 'sao bản', 'sao bằng', 'sao cho', 'sao vậy', 'sao đang', 'sau', 'sau chót', 'sau cuối', 'sau cùng', 'sau hết', 'sau này', 'sau nữa', 'sau sau', 'sau đây', 'sau đó', 'so', 'so với', 'song le', 'suýt', 'suýt nữa', 'sáng', 'sáng ngày', 'sáng rõ', 'sáng thế', 'sáng ý', 'sì', 'sì sì', 'sất', 'sắp', 'sắp đặt', 'sẽ', 'sẽ biết', 'sẽ hay', 'số', 'số cho biết', 'số cụ thể', 'số loại', 'số là', 'số người', 'số phần', 'số thiếu', 'sốt sột', 'sớm', 'sớm ngày', 'sở dĩ', 'sử dụng', 'sự', 'sự thế', 'sự việc', 'tanh', 'tanh tanh', 'tay', 'tay quay', 'tha hồ', 'tha hồ chơi', 'tha hồ ăn', 'than ôi', 'thanh', 'thanh ba', 'thanh chuyển', 'thanh không', 'thanh thanh', 'thanh tính', 'thanh điều kiện', 'thanh điểm', 'thay đổi', 'thay đổi tình trạng', 'theo', 'theo bước', 'theo như', 'theo tin', 'thi thoảng', 'thiếu', 'thiếu gì', 'thiếu điểm', 'thoạt', 'thoạt nghe', 'thoạt nhiên', 'thoắt', 'thuần', 'thuần ái', 'thuộc', 'thuộc bài', 'thuộc cách', 'thuộc lại', 'thuộc từ', 'thà', 'thà là', 'thà rằng', 'thành ra', 'thành thử', 'thái quá', 'tháng', 'tháng ngày', 'tháng năm', 'tháng tháng', 'thêm', 'thêm chuyện', 'thêm giờ', 'thêm vào', 'thì', 'thì giờ', 'thì là', 'thì phải', 'thì ra', 'thì thôi', 'thình lình', 'thích', 'thích cứ', 'thích thuộc', 'thích tự', 'thích ý', 'thím', 'thôi', 'thôi việc', 'thúng thắng', 'thương ôi', 'thường', 'thường bị', 'thường hay', 'thường khi', 'thường số', 'thường sự', 'thường thôi', 'thường thường', 'thường tính', 'thường tại', 'thường xuất hiện', 'thường đến', 'thảo hèn', 'thảo nào', 'thấp', 'thấp cơ', 'thấp thỏm', 'thấp xuống', 'thấy', 'thấy tháng', 'thẩy', 'thậm', 'thậm chí', 'thậm cấp', 'thậm từ', 'thật', 'thật chắc', 'thật là', 'thật lực', 'thật quả', 'thật ra', 'thật sự', 'thật thà', 'thật tốt', 'thật vậy', 'thế', 'thế chuẩn bị', 'thế là', 'thế lại', 'thế mà', 'thế nào', 'thế nên', 'thế ra', 'thế sự', 'thế thì', 'thế thôi', 'thế thường', 'thế thế', 'thế à', 'thế đó', 'thếch', 'thỉnh thoảng', 'thỏm', 'thốc', 'thốc tháo', 'thốt', 'thốt nhiên', 'thốt nói', 'thốt thôi', 'thộc', 'thời gian', 'thời gian sử dụng', 'thời gian tính', 'thời điểm', 'thục mạng', 'thứ', 'thứ bản', 'thứ đến', 'thửa', 'thực hiện', 'thực hiện đúng', 'thực ra', 'thực sự', 'thực tế', 'thực vậy', 'tin', 'tin thêm', 'tin vào', 'tiếp theo', 'tiếp tục', 'tiếp đó', 'tiện thể', 'toà', 'toé khói', 'toẹt', 'trong', 'trong khi', 'trong lúc', 'trong mình', 'trong ngoài', 'trong này', 'trong số', 'trong vùng', 'trong đó', 'trong ấy', 'tránh', 'tránh khỏi', 'tránh ra', 'tránh tình trạng', 'tránh xa', 'trên', 'trên bộ', 'trên dưới', 'trước', 'trước hết', 'trước khi', 'trước kia', 'trước nay', 'trước ngày', 'trước nhất', 'trước sau', 'trước tiên', 'trước tuổi', 'trước đây', 'trước đó', 'trả', 'trả của', 'trả lại', 'trả ngay', 'trả trước', 'trếu tráo', 'trển', 'trệt', 'trệu trạo', 'trỏng', 'trời đất ơi', 'trở thành', 'trừ phi', 'trực tiếp', 'trực tiếp làm', 'tuy', 'tuy có', 'tuy là', 'tuy nhiên', 'tuy rằng', 'tuy thế', 'tuy vậy', 'tuy đã', 'tuyệt nhiên', 'tuần tự', 'tuốt luốt', 'tuốt tuồn tuột', 'tuốt tuột', 'tuổi', 'tuổi cả', 'tuổi tôi', 'tà tà', 'tên', 'tên chính', 'tên cái', 'tên họ', 'tên tự', 'tênh', 'tênh tênh', 'tìm', 'tìm bạn', 'tìm cách', 'tìm hiểu', 'tìm ra', 'tìm việc', 'tình trạng', 'tính', 'tính cách', 'tính căn', 'tính người', 'tính phỏng', 'tính từ', 'tít mù', 'tò te', 'tôi', 'tôi con', 'tông tốc', 'tù tì', 'tăm tắp', 'tăng', 'tăng chúng', 'tăng cấp', 'tăng giảm', 'tăng thêm', 'tăng thế', 'tại', 'tại lòng', 'tại nơi', 'tại sao', 'tại tôi', 'tại vì', 'tại đâu', 'tại đây', 'tại đó', 'tạo', 'tạo cơ hội', 'tạo nên', 'tạo ra', 'tạo ý', 'tạo điều kiện', 'tấm', 'tấm bản', 'tấm các', 'tấn', 'tấn tới', 'tất cả', 'tất cả bao nhiêu', 'tất thảy', 'tất tần tật', 'tất tật', 'tập trung', 'tắp', 'tắp lự', 'tắp tắp', 'tọt', 'tỏ ra', 'tỏ vẻ', 'tốc tả', 'tối ư', 'tốt', 'tốt bạn', 'tốt bộ', 'tốt hơn', 'tốt mối', 'tốt ngày', 'tột', 'tột cùng', 'tớ', 'tới', 'tới gần', 'tới mức', 'tới nơi', 'tới thì', 'tức thì', 'tức tốc', 'từ', 'từ căn', 'từ giờ', 'từ khi', 'từ loại', 'từ nay', 'từ thế', 'từ tính', 'từ tại', 'từ từ', 'từ ái', 'từ điều', 'từ đó', 'từ ấy', 'từng', 'từng cái', 'từng giờ', 'từng nhà', 'từng phần', 'từng thời gian', 'từng đơn vị', 'từng ấy', 'tự', 'tự cao', 'tự khi', 'tự lượng', 'tự tính', 'tự tạo', 'tự vì', 'tự ý', 'tự ăn', 'tựu trung', 'veo', 'veo veo', 'việc', 'việc gì', 'vung thiên địa', 'vung tàn tán', 'vung tán tàn', 'và', 'vài', 'vài ba', 'vài người', 'vài nhà', 'vài nơi', 'vài tên', 'vài điều', 'vào', 'vào gặp', 'vào khoảng', 'vào lúc', 'vào vùng', 'vào đến', 'vâng', 'vâng chịu', 'vâng dạ', 'vâng vâng', 'vâng ý', 'vèo', 'vèo vèo', 'vì', 'vì chưng', 'vì rằng', 'vì sao', 'vì thế', 'vì vậy', 'ví bằng', 'ví dù', 'ví phỏng', 'ví thử', 'vô hình trung', 'vô kể', 'vô luận', 'vô vàn', 'vùng', 'vùng lên', 'vùng nước', 'văng tê', 'vượt', 'vượt khỏi', 'vượt quá', 'vạn nhất', 'vả chăng', 'vả lại', 'vấn đề', 'vấn đề quan trọng', 'vẫn', 'vẫn thế', 'vậy', 'vậy là', 'vậy mà', 'vậy nên', 'vậy ra', 'vậy thì', 'vậy ư', 'về', 'về không', 'về nước', 'về phần', 'về sau', 'về tay', 'vị trí', 'vị tất', 'vốn dĩ', 'với', 'với lại', 'với nhau', 'vở', 'vụt', 'vừa', 'vừa khi', 'vừa lúc', 'vừa mới', 'vừa qua', 'vừa rồi', 'vừa vừa', 'xa', 'xa cách', 'xa gần', 'xa nhà', 'xa tanh', 'xa tắp', 'xa xa', 'xa xả', 'xem', 'xem lại', 'xem ra', 'xem số', 'xin', 'xin gặp', 'xin vâng', 'xiết bao', 'xon xón', 'xoành xoạch', 'xoét', 'xoẳn', 'xoẹt', 'xuất hiện', 'xuất kì bất ý', 'xuất kỳ bất ý', 'xuể', 'xuống', 'xăm xúi', 'xăm xăm', 'xăm xắm', 'xảy ra', 'xềnh xệch', 'xệp', 'xử lý', 'yêu cầu', 'à', 'à này', 'à ơi', 'ào', 'ào vào', 'ào ào', 'á', 'á à', 'ái', 'ái chà', 'ái dà', 'áng', 'áng như', 'âu là', 'ít', 'ít biết', 'ít có', 'ít hơn', 'ít khi', 'ít lâu', 'ít nhiều', 'ít nhất', 'ít nữa', 'ít quá', 'ít ra', 'ít thôi', 'ít thấy', 'ô hay', 'ô hô', 'ô kê', 'ô kìa', 'ôi chao', 'ôi thôi', 'ông', 'ông nhỏ', 'ông tạo', 'ông từ', 'ông ấy', 'ông ổng', 'úi', 'úi chà', 'úi dào', 'ý', 'ý chừng', 'ý da', 'ý hoặc', 'ăn', 'ăn chung', 'ăn chắc', 'ăn chịu', 'ăn cuộc', 'ăn hết', 'ăn hỏi', 'ăn làm', 'ăn người', 'ăn ngồi', 'ăn quá', 'ăn riêng', 'ăn sáng', 'ăn tay', 'ăn trên', 'ăn về', 'đang', 'đang tay', 'đang thì', 'điều', 'điều gì', 'điều kiện', 'điểm', 'điểm chính', 'điểm gặp', 'điểm đầu tiên', 'đành đạch', 'đáng', 'đáng kể', 'đáng lí', 'đáng lý', 'đáng lẽ', 'đáng số', 'đánh giá', 'đánh đùng', 'đáo để', 'đâu', 'đâu có', 'đâu cũng', 'đâu như', 'đâu nào', 'đâu phải', 'đâu đâu', 'đâu đây', 'đâu đó', 'đây', 'đây này', 'đây rồi', 'đây đó', 'đã', 'đã hay', 'đã không', 'đã là', 'đã lâu', 'đã thế', 'đã vậy', 'đã đủ', 'đó', 'đó đây', 'đúng', 'đúng ngày', 'đúng ra', 'đúng tuổi', 'đúng với', 'đơn vị', 'đưa', 'đưa cho', 'đưa chuyện', 'đưa em', 'đưa ra', 'đưa tay', 'đưa tin', 'đưa tới', 'đưa vào', 'đưa về', 'đưa xuống', 'đưa đến', 'được', 'được cái', 'được lời', 'được nước', 'được tin', 'đại loại', 'đại nhân', 'đại phàm', 'đại để', 'đạt', 'đảm bảo', 'đầu tiên', 'đầy', 'đầy năm', 'đầy phè', 'đầy tuổi', 'đặc biệt', 'đặt', 'đặt làm', 'đặt mình', 'đặt mức', 'đặt ra', 'đặt trước', 'đặt để', 'đến', 'đến bao giờ', 'đến cùng', 'đến cùng cực', 'đến cả', 'đến giờ', 'đến gần', 'đến hay', 'đến khi', 'đến lúc', 'đến lời', 'đến nay', 'đến ngày', 'đến nơi', 'đến nỗi', 'đến thì', 'đến thế', 'đến tuổi', 'đến xem', 'đến điều', 'đến đâu', 'đều', 'đều bước', 'đều nhau', 'đều đều', 'để', 'để cho', 'để giống', 'để không', 'để lòng', 'để lại', 'để mà', 'để phần', 'để được', 'để đến nỗi', 'đối với', 'đồng thời', 'đủ', 'đủ dùng', 'đủ nơi', 'đủ số', 'đủ điều', 'đủ điểm', 'ơ', 'ơ hay', 'ơ kìa', 'ơi', 'ơi là', 'ư', 'ạ', 'ạ ơi', 'ấy', 'ấy là', 'ầu ơ', 'ắt', 'ắt hẳn', 'ắt là', 'ắt phải', 'ắt thật', 'ối dào', 'ối giời', 'ối giời ơi', 'ồ', 'ồ ồ', 'ổng', 'ớ', 'ớ này', 'ờ', 'ờ ờ', 'ở', 'ở lại', 'ở như', 'ở nhờ', 'ở năm', 'ở trên', 'ở vào', 'ở đây', 'ở đó', 'ở được', 'ủa', 'ứ hự', 'ứ ừ', 'ừ', 'ừ nhé', 'ừ thì', 'ừ ào', 'ừ ừ', 'ử']\n"
          ],
          "name": "stdout"
        }
      ]
    },
    {
      "cell_type": "code",
      "metadata": {
        "id": "aSq9m7TMr2m3",
        "colab_type": "code",
        "colab": {}
      },
      "source": [
        "# hàm loại stopword\n",
        "def del_stopword(text):\n",
        "    t = clean_text(text)\n",
        "    if t == '':\n",
        "        return\n",
        "    t = t.split()\n",
        "    t = set(t)\n",
        "    t = list(t)\n",
        "    tt = t\n",
        "    for x in tt:\n",
        "      if x in data_sw:\n",
        "        t.remove(x)\n",
        "    return t"
      ],
      "execution_count": 96,
      "outputs": []
    },
    {
      "cell_type": "code",
      "metadata": {
        "id": "7prlegVKv49Y",
        "colab_type": "code",
        "colab": {
          "base_uri": "https://localhost:8080/",
          "height": 91
        },
        "outputId": "cfcfbc1a-6e9d-4f03-d8aa-c6f9a815c9d3"
      },
      "source": [
        "text = 'Đã sai mà cứ ống ống cái mồm ,tao mà như mày tìm cái lỗ cống mà trốn, anh chồng này rất bình tỉnh ,tôi thấy con vợ cứ cải hoài ,gặp phải tôi,'\n",
        "t = clean_text(text)\n",
        "t = t.split()\n",
        "print(t)\n",
        "t = set(t)\n",
        "t = list(t)\n",
        "print(t)\n",
        "'''tt = t\n",
        "for x in tt:\n",
        "    if x in data_sw:\n",
        "        t.remove(x)\n",
        "print(t)'''"
      ],
      "execution_count": 97,
      "outputs": [
        {
          "output_type": "stream",
          "text": [
            "['đã', 'sai', 'mà', 'cứ', 'ống', 'ống', 'cái', 'mồm', 'tao', 'mà', 'như', 'mày', 'tìm', 'cái', 'lỗ', 'cống', 'mà', 'trốn', 'anh', 'chồng', 'này', 'rất', 'bình', 'tỉnh', 'tôi', 'thấy', 'con', 'vợ', 'cứ', 'cải', 'hoài', 'gặp', 'phải', 'tôi']\n",
            "['cải', 'cống', 'mà', 'bình', 'thấy', 'rất', 'cứ', 'tao', 'sai', 'mày', 'như', 'chồng', 'ống', 'lỗ', 'tìm', 'hoài', 'phải', 'tỉnh', 'con', 'này', 'anh', 'cái', 'gặp', 'tôi', 'vợ', 'đã', 'trốn', 'mồm']\n"
          ],
          "name": "stdout"
        },
        {
          "output_type": "execute_result",
          "data": {
            "application/vnd.google.colaboratory.intrinsic": {
              "type": "string"
            },
            "text/plain": [
              "'tt = t\\nfor x in tt:\\n    if x in data_sw:\\n        t.remove(x)\\nprint(t)'"
            ]
          },
          "metadata": {
            "tags": []
          },
          "execution_count": 97
        }
      ]
    },
    {
      "cell_type": "code",
      "metadata": {
        "id": "NC6NMbAnaI-a",
        "colab_type": "code",
        "colab": {
          "base_uri": "https://localhost:8080/",
          "height": 337
        },
        "outputId": "c2fd83b6-f765-4788-fcbf-68558f7e42db"
      },
      "source": [
        "del_stopword('Đã sai mà cứ ống ống cái mồm ,tao mà như mày tìm cái lỗ cống mà trốn, anh chồng này rất bình tỉnh ,tôi thấy con vợ cứ cải hoài ,gặp phải tôi,')"
      ],
      "execution_count": 57,
      "outputs": [
        {
          "output_type": "execute_result",
          "data": {
            "text/plain": [
              "['cải',\n",
              " 'cống',\n",
              " 'bình',\n",
              " 'rất',\n",
              " 'tao',\n",
              " 'sai',\n",
              " 'mày',\n",
              " 'chồng',\n",
              " 'ống',\n",
              " 'lỗ',\n",
              " 'hoài',\n",
              " 'tỉnh',\n",
              " 'này',\n",
              " 'cái',\n",
              " 'tôi',\n",
              " 'vợ',\n",
              " 'trốn',\n",
              " 'mồm']"
            ]
          },
          "metadata": {
            "tags": []
          },
          "execution_count": 57
        }
      ]
    },
    {
      "cell_type": "code",
      "metadata": {
        "id": "Wi1ZB5782ZA1",
        "colab_type": "code",
        "colab": {
          "base_uri": "https://localhost:8080/",
          "height": 35
        },
        "outputId": "5c06e5bc-00e0-4010-eec2-dcecb2b068d5"
      },
      "source": [
        "print(len(X))"
      ],
      "execution_count": 98,
      "outputs": [
        {
          "output_type": "stream",
          "text": [
            "152\n"
          ],
          "name": "stdout"
        }
      ]
    },
    {
      "cell_type": "code",
      "metadata": {
        "id": "D55LI-vW2mpL",
        "colab_type": "code",
        "colab": {
          "base_uri": "https://localhost:8080/",
          "height": 215
        },
        "outputId": "6ca2eb3e-5eeb-4ec3-90f3-e1f28817977f"
      },
      "source": [
        "for i in range(len(X)):\n",
        "    X[i] = del_stopword(X[i])\n",
        "    X[i] = ' '.join(X[i])"
      ],
      "execution_count": 99,
      "outputs": [
        {
          "output_type": "stream",
          "text": [
            "/usr/local/lib/python3.6/dist-packages/ipykernel_launcher.py:2: SettingWithCopyWarning: \n",
            "A value is trying to be set on a copy of a slice from a DataFrame\n",
            "\n",
            "See the caveats in the documentation: https://pandas.pydata.org/pandas-docs/stable/user_guide/indexing.html#returning-a-view-versus-a-copy\n",
            "  \n",
            "/usr/local/lib/python3.6/dist-packages/ipykernel_launcher.py:3: SettingWithCopyWarning: \n",
            "A value is trying to be set on a copy of a slice from a DataFrame\n",
            "\n",
            "See the caveats in the documentation: https://pandas.pydata.org/pandas-docs/stable/user_guide/indexing.html#returning-a-view-versus-a-copy\n",
            "  This is separate from the ipykernel package so we can avoid doing imports until\n"
          ],
          "name": "stderr"
        }
      ]
    },
    {
      "cell_type": "code",
      "metadata": {
        "id": "FRY8aGu60Z0R",
        "colab_type": "code",
        "colab": {
          "base_uri": "https://localhost:8080/",
          "height": 230
        },
        "outputId": "11b0d4b8-d478-4aae-8bff-3f125347230a"
      },
      "source": [
        "X"
      ],
      "execution_count": 100,
      "outputs": [
        {
          "output_type": "execute_result",
          "data": {
            "text/plain": [
              "0                                                   a ơi\n",
              "1                                          la gap ba toi\n",
              "2                                           noi a ok roi\n",
              "3      cải trốnanh cống bình rất tao tát sai mày chồn...\n",
              "4                            trai kênh me cai da mặt no\n",
              "                             ...                        \n",
              "147    phương lốt đột quỳnh quỷ bẩn nguyễn trang page...\n",
              "148                                          dm xấu vcut\n",
              "149                                           vl cứt xấu\n",
              "150                          đc chỉnh live lên mũi thô k\n",
              "151                                       me cút tâm mầy\n",
              "Name: cmt, Length: 152, dtype: object"
            ]
          },
          "metadata": {
            "tags": []
          },
          "execution_count": 100
        }
      ]
    },
    {
      "cell_type": "code",
      "metadata": {
        "id": "65O3lUox96PF",
        "colab_type": "code",
        "colab": {
          "base_uri": "https://localhost:8080/",
          "height": 230
        },
        "outputId": "7ff38e75-8258-4212-95a9-772d0756763d"
      },
      "source": [
        "Y\n"
      ],
      "execution_count": 101,
      "outputs": [
        {
          "output_type": "execute_result",
          "data": {
            "text/plain": [
              "0      0\n",
              "1      0\n",
              "2      0\n",
              "3      0\n",
              "4      0\n",
              "      ..\n",
              "147    1\n",
              "148    1\n",
              "149    1\n",
              "150    1\n",
              "151    1\n",
              "Name: is_profane, Length: 152, dtype: int64"
            ]
          },
          "metadata": {
            "tags": []
          },
          "execution_count": 101
        }
      ]
    },
    {
      "cell_type": "code",
      "metadata": {
        "id": "6yVhApZB-3n-",
        "colab_type": "code",
        "colab": {
          "base_uri": "https://localhost:8080/",
          "height": 568
        },
        "outputId": "3be8d4e2-720c-4724-d943-e87975cb23a7"
      },
      "source": [
        "# split test:25%, train:75%\n",
        "trainX,testX,trainY,testY = train_test_split(X,Y,test_size=0.25,random_state=42)\n",
        "\n",
        "# initialize TfidfVectorizer\n",
        "tf = TfidfVectorizer(ngram_range=(1,2), max_features=50000, min_df=2)\n",
        "\n",
        "# transform words to vetor\n",
        "trainX = tf.fit_transform(trainX.values).toarray()\n",
        "trainVocab = tf.vocabulary_ \n",
        "tf = TfidfVectorizer(vocabulary=trainVocab)\n",
        "testX = tf.fit_transform(testX.values).toarray()\n",
        "print(\"[INFO] Used TfidfVectorizer ... \")\n",
        "\n",
        "for i in range(3):\n",
        "    \n",
        "    if i == 0:\n",
        "        model = LogisticRegression()\n",
        "        print(\"   [INFO] evaluating Logistic Regression...\")\n",
        "\n",
        "    if i == 2:\n",
        "        model = LinearSVC()\n",
        "        print(\"   [INFO] evaluating SVM...\")\n",
        "    \n",
        "    if i == 1:\n",
        "        model = MultinomialNB()\n",
        "        print(\"   [INFO] evaluating Naive Bayes...\")\n",
        "    # train and evaluating \n",
        "    model.fit(trainX, trainY)\n",
        "    predictions = model.predict(testX)\n",
        "    print(classification_report(testY,predictions))"
      ],
      "execution_count": 103,
      "outputs": [
        {
          "output_type": "stream",
          "text": [
            "[INFO] Used TfidfVectorizer ... \n",
            "   [INFO] evaluating Logistic Regression...\n",
            "              precision    recall  f1-score   support\n",
            "\n",
            "           0       0.81      0.96      0.88        27\n",
            "           1       0.83      0.45      0.59        11\n",
            "\n",
            "    accuracy                           0.82        38\n",
            "   macro avg       0.82      0.71      0.73        38\n",
            "weighted avg       0.82      0.82      0.80        38\n",
            "\n",
            "   [INFO] evaluating Naive Bayes...\n",
            "              precision    recall  f1-score   support\n",
            "\n",
            "           0       0.86      0.93      0.89        27\n",
            "           1       0.78      0.64      0.70        11\n",
            "\n",
            "    accuracy                           0.84        38\n",
            "   macro avg       0.82      0.78      0.80        38\n",
            "weighted avg       0.84      0.84      0.84        38\n",
            "\n",
            "   [INFO] evaluating SVM...\n",
            "              precision    recall  f1-score   support\n",
            "\n",
            "           0       0.86      0.89      0.87        27\n",
            "           1       0.70      0.64      0.67        11\n",
            "\n",
            "    accuracy                           0.82        38\n",
            "   macro avg       0.78      0.76      0.77        38\n",
            "weighted avg       0.81      0.82      0.81        38\n",
            "\n"
          ],
          "name": "stdout"
        }
      ]
    }
  ]
}