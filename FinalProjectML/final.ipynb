{
  "nbformat": 4,
  "nbformat_minor": 0,
  "metadata": {
    "colab": {
      "name": "final.ipynb",
      "provenance": [],
      "collapsed_sections": [],
      "authorship_tag": "ABX9TyMMKLOnz6t81qOeEDP8kPm7",
      "include_colab_link": true
    },
    "kernelspec": {
      "name": "python3",
      "display_name": "Python 3"
    }
  },
  "cells": [
    {
      "cell_type": "markdown",
      "metadata": {
        "id": "view-in-github",
        "colab_type": "text"
      },
      "source": [
        "<a href=\"https://colab.research.google.com/github/ducvuuit/CS114.K21.KHTN/blob/master/FinalProjectML/final.ipynb\" target=\"_parent\"><img src=\"https://colab.research.google.com/assets/colab-badge.svg\" alt=\"Open In Colab\"/></a>"
      ]
    },
    {
      "cell_type": "code",
      "metadata": {
        "id": "fQvW_NzzGelq",
        "colab_type": "code",
        "colab": {}
      },
      "source": [
        "# import các thư viện cần thiết\n",
        "from sklearn.metrics import classification_report\n",
        "from sklearn.model_selection import train_test_split\n",
        "\n",
        "from sklearn.feature_extraction.text import CountVectorizer\n",
        "\n",
        "from sklearn.linear_model import LogisticRegression\n",
        "from sklearn.naive_bayes import MultinomialNB\n",
        "from sklearn.svm import LinearSVC\n",
        "\n",
        "import pandas as pd \n",
        "\n"
      ],
      "execution_count": 12,
      "outputs": []
    },
    {
      "cell_type": "code",
      "metadata": {
        "id": "gVCc5ziaj1lt",
        "colab_type": "code",
        "colab": {}
      },
      "source": [
        "#tải dữ liệu lên\n",
        "csv_file = open('data-label - 1.csv')\n"
      ],
      "execution_count": 13,
      "outputs": []
    },
    {
      "cell_type": "code",
      "metadata": {
        "id": "R5MFOCQRj9b_",
        "colab_type": "code",
        "colab": {
          "base_uri": "https://localhost:8080/",
          "height": 352
        },
        "outputId": "895263bd-73ac-406f-8da9-72de5845561f"
      },
      "source": [
        "# Kiểm tra dữ liệu\n",
        "data = pd.read_csv('data-label - 1.csv')\n",
        "data.head(10)"
      ],
      "execution_count": 14,
      "outputs": [
        {
          "output_type": "execute_result",
          "data": {
            "text/html": [
              "<div>\n",
              "<style scoped>\n",
              "    .dataframe tbody tr th:only-of-type {\n",
              "        vertical-align: middle;\n",
              "    }\n",
              "\n",
              "    .dataframe tbody tr th {\n",
              "        vertical-align: top;\n",
              "    }\n",
              "\n",
              "    .dataframe thead th {\n",
              "        text-align: right;\n",
              "    }\n",
              "</style>\n",
              "<table border=\"1\" class=\"dataframe\">\n",
              "  <thead>\n",
              "    <tr style=\"text-align: right;\">\n",
              "      <th></th>\n",
              "      <th>cmt</th>\n",
              "      <th>t</th>\n",
              "    </tr>\n",
              "  </thead>\n",
              "  <tbody>\n",
              "    <tr>\n",
              "      <th>0</th>\n",
              "      <td>Hay quá a ơi</td>\n",
              "      <td>0</td>\n",
              "    </tr>\n",
              "    <tr>\n",
              "      <th>1</th>\n",
              "      <td>Con ba do gap toi la</td>\n",
              "      <td>0</td>\n",
              "    </tr>\n",
              "    <tr>\n",
              "      <th>2</th>\n",
              "      <td>A noi hay ok roi</td>\n",
              "      <td>0</td>\n",
              "    </tr>\n",
              "    <tr>\n",
              "      <th>3</th>\n",
              "      <td>Đã sai mà cứ ống ống cái mồm ,tao mà như mày t...</td>\n",
              "      <td>0</td>\n",
              "    </tr>\n",
              "    <tr>\n",
              "      <th>4</th>\n",
              "      <td>Me no da theo trai con kênh  cai mặt</td>\n",
              "      <td>0</td>\n",
              "    </tr>\n",
              "    <tr>\n",
              "      <th>5</th>\n",
              "      <td>Suka ngu</td>\n",
              "      <td>0</td>\n",
              "    </tr>\n",
              "    <tr>\n",
              "      <th>6</th>\n",
              "      <td>Con khùng . Mày ngu</td>\n",
              "      <td>1</td>\n",
              "    </tr>\n",
              "    <tr>\n",
              "      <th>7</th>\n",
              "      <td>Má ơi bớt nói lại đi</td>\n",
              "      <td>0</td>\n",
              "    </tr>\n",
              "    <tr>\n",
              "      <th>8</th>\n",
              "      <td>Hello chị</td>\n",
              "      <td>0</td>\n",
              "    </tr>\n",
              "    <tr>\n",
              "      <th>9</th>\n",
              "      <td>Anh đúng là người tốt .chỉ cần nói như vậy là ...</td>\n",
              "      <td>0</td>\n",
              "    </tr>\n",
              "  </tbody>\n",
              "</table>\n",
              "</div>"
            ],
            "text/plain": [
              "                                                 cmt   t\n",
              "0                                       Hay quá a ơi   0\n",
              "1                               Con ba do gap toi la   0\n",
              "2                                   A noi hay ok roi   0\n",
              "3  Đã sai mà cứ ống ống cái mồm ,tao mà như mày t...   0\n",
              "4              Me no da theo trai con kênh  cai mặt   0\n",
              "5                                           Suka ngu   0\n",
              "6                                Con khùng . Mày ngu   1\n",
              "7                               Má ơi bớt nói lại đi   0\n",
              "8                                          Hello chị   0\n",
              "9  Anh đúng là người tốt .chỉ cần nói như vậy là ...   0"
            ]
          },
          "metadata": {
            "tags": []
          },
          "execution_count": 14
        }
      ]
    },
    {
      "cell_type": "code",
      "metadata": {
        "id": "OB8P2JrKnBmB",
        "colab_type": "code",
        "colab": {}
      },
      "source": [
        "X = data['cmt']"
      ],
      "execution_count": 25,
      "outputs": []
    },
    {
      "cell_type": "code",
      "metadata": {
        "id": "CmGzKrJRkLg2",
        "colab_type": "code",
        "colab": {}
      },
      "source": [
        "Y = data['t']\n"
      ],
      "execution_count": null,
      "outputs": []
    },
    {
      "cell_type": "code",
      "metadata": {
        "id": "sLfj1UyhpMYz",
        "colab_type": "code",
        "colab": {}
      },
      "source": [
        "# hàm clean data - loại bỏ các ký tự đặc biệt\n",
        "import re, string\n",
        "def clean_text(text):\n",
        "  text = text.lower()\n",
        "  text = re.sub('\\[.*?]', '', text)\n",
        "  text = re.sub('[%s]' % re.escape(string.punctuation), '', text)\n",
        "  text = re.sub('\\w*\\d\\w*', '', text)\n",
        "  return text "
      ],
      "execution_count": 34,
      "outputs": []
    },
    {
      "cell_type": "code",
      "metadata": {
        "id": "aSq9m7TMr2m3",
        "colab_type": "code",
        "colab": {
          "base_uri": "https://localhost:8080/",
          "height": 35
        },
        "outputId": "380ef60e-7585-4185-be5f-bea1e12775d8"
      },
      "source": [
        "t = clean_text('Chị nghe 87 cái là chị kêu là đi ngủ khuya rồi trong khi đó mới sắp 9h😃hài hước ghê')\n",
        "t = t.split()\n",
        "t = set(t)\n",
        "print(t)"
      ],
      "execution_count": 36,
      "outputs": [
        {
          "output_type": "stream",
          "text": [
            "{'cái', 'kêu', 'đi', 'chị', 'khi', 'sắp', 'rồi', 'ngủ', 'ghê', 'hước', 'là', '😃hài', 'đó', 'mới', 'nghe', 'trong', 'khuya'}\n"
          ],
          "name": "stdout"
        }
      ]
    }
  ]
}