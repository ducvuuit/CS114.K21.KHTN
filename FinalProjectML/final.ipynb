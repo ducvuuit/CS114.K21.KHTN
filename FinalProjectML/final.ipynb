{
  "nbformat": 4,
  "nbformat_minor": 0,
  "metadata": {
    "colab": {
      "name": "final.ipynb",
      "provenance": [],
      "collapsed_sections": [],
      "authorship_tag": "ABX9TyMQxbx5Vs/qmcq1nQMNrHSR",
      "include_colab_link": true
    },
    "kernelspec": {
      "name": "python3",
      "display_name": "Python 3"
    }
  },
  "cells": [
    {
      "cell_type": "markdown",
      "metadata": {
        "id": "view-in-github",
        "colab_type": "text"
      },
      "source": [
        "<a href=\"https://colab.research.google.com/github/ducvuuit/CS114.K21.KHTN/blob/master/FinalProjectML/final.ipynb\" target=\"_parent\"><img src=\"https://colab.research.google.com/assets/colab-badge.svg\" alt=\"Open In Colab\"/></a>"
      ]
    },
    {
      "cell_type": "markdown",
      "metadata": {
        "id": "J_E_Jn_LOFZU",
        "colab_type": "text"
      },
      "source": [
        "# **PHÁT HIỆN TỪ NGỮ THÔ TỤC, XÚC PHẠM TRONG CÁC BÌNH LUẬN**\n"
      ]
    },
    {
      "cell_type": "markdown",
      "metadata": {
        "id": "yUdAf57EOJFk",
        "colab_type": "text"
      },
      "source": [
        "#**1. Mô tả bài toán**"
      ]
    },
    {
      "cell_type": "markdown",
      "metadata": {
        "id": "PxQBXTi5ONR6",
        "colab_type": "text"
      },
      "source": [
        "##Đặt vần đề\n"
      ]
    },
    {
      "cell_type": "markdown",
      "metadata": {
        "id": "xU4RK8W_OOMK",
        "colab_type": "text"
      },
      "source": [
        "  Theo khảo sát mới được công bố của Microsoft, Việt Nam nằm trong top 5 quốc gia có chỉ số mức độ văn minh thấp nhất trên không gian mạng (DCI).\n",
        "\n",
        "  Mặc dù kết quả khảo sát này bất lợi cho hình ảnh cộng đồng mạng Việt Nam nhưng nó không tạo nên làn sóng phản đối từ người dùng. Theo khảo sát trên Zing.vn, 87% bạn đọc đồng tình với việc Microsoft xếp Việt Nam vào top 5 những nước hành xử kém văn minh trên Internet.\n",
        "\n",
        "![Việt Nam đứng top 5 nước có hành xử trên Internet kém văn minh nhất.](https://media.tinmoi.vn/resize_650x417/upload/thanhdat/2020/02/22/080738-internet-viet-nam-2.jpg)\n",
        "\n",
        "                                              Ảnh Zingvn\n",
        "\n",
        "  Tuy vậy, vẫn có nhiều người phản đối kết quả của Microsoft. Trong đó, bình luận chủ tài khoản Facebook có tên Koba Yashi đến từ Việt Nam được chia sẻ rộng rãi nhất như một minh chứng rõ cho kết quả khảo sát.\n",
        "\n",
        "**\"Thấp cái ***** *******, căn cứ vào đâu để đánh giá chứ\"\n"
      ]
    },
    {
      "cell_type": "markdown",
      "metadata": {
        "id": "cAjg8bhIOXfS",
        "colab_type": "text"
      },
      "source": [
        "## Bài toán cần giải quyết\n",
        "\n",
        "> Bài toán cần được giải quyết ở đây đó chính là phát hiện được những câu bình luận mang tính xúc phạp, thô tục, ... từ đó để xuất với nhà phát triển nhằm mục đích xóa những bình luận ấy.\n",
        "\n",
        "> Input: một câu bình luận bất kì (thường lấy ở các bài post của những cá nhân bị ghét, ném đá nhiều)\n",
        "\n",
        "> Output: Xuất ra 1 nếu câu binh luận mang tính xúc phạm, thô tục và xuất ra 0 nếu ngược lại. \n",
        "\n"
      ]
    },
    {
      "cell_type": "markdown",
      "metadata": {
        "id": "ASGSFegVOg2y",
        "colab_type": "text"
      },
      "source": [
        "#**2. Mô tả về bộ dữ liệu**"
      ]
    },
    {
      "cell_type": "markdown",
      "metadata": {
        "id": "kIfi_2DUOpxt",
        "colab_type": "text"
      },
      "source": [
        "###Cách thu thập bộ dữ liệu\n",
        "  + Lấy tất cả các bình luận trong các bài viết gây xôn xao cộng đồng mạng\n",
        "  + Lấy dữ liệu là comment trên facebook bằng cách crawl dữ liệu (cách crawl data và source code em để trên github)\n",
        "\n"
      ]
    },
    {
      "cell_type": "markdown",
      "metadata": {
        "id": "Ias_GKe0PFqp",
        "colab_type": "text"
      },
      "source": [
        "###Số lượng  \n",
        "- 4764 bình luận, trong đó 2121 bình luận mang tính thô tục, xúc phạm và số còn lại là những bình luận bình thường.\n",
        "\n"
      ]
    },
    {
      "cell_type": "markdown",
      "metadata": {
        "id": "ukLsSognQIgq",
        "colab_type": "text"
      },
      "source": [
        "###Phân chia\n",
        "75% dùng để làm training data, 25% còn lại dùng để làm test data, dev data được thu thập thêm ở ngoài sau khi training xong \n",
        "\n",
        "\n"
      ]
    },
    {
      "cell_type": "markdown",
      "metadata": {
        "id": "PorNcTaFQRfp",
        "colab_type": "text"
      },
      "source": [
        "###Các thao tác tiền xử lý dữ liệu: \n",
        "  + Cleaning data: là bước làm sạch dữ liệu trước khi bắt đầu bất kì xử lý nào trên tập dữ liệu của chúng ta, nó bao gồm một số khái niệm của xử lý ngôn ngữ tự nhiên như loại bỏ Stop Words (Năng cao: kiểm tra chính tả chẳng hạn)\n",
        "\n",
        "  + Words segmentation hay còn gọi là tách từ, là bước cực kỳ quan trọng và phức tạp đặc biệt là đối với Tiếng Việt.\n",
        "\n",
        "- Chi tiết tiền xử lý dữ liệu:\n",
        "  + Các comment thường viết hoa viết thường rất lung tung, nên em sẽ chuyển tất các các bình luận về dạng lower case.\n",
        "  + Chuyển các chữ cái các bạn trẻ hiện nay thường kéo dài về dạng nguyên mẫu (vd: nguuuuuuuuuuuuuu --> ngu)\n",
        "  + Loại bỏ dấu câu và các ký tự đặc biệt\n",
        "  + Loại bỏ các icon không có ý nghĩa\n",
        "  \n",
        "  + Xử lý mất cân bằng dữ liệu:\n",
        "  > Under sampling\n",
        "    Under sampling là việc ta giảm số lượng các quan sát của nhóm đa số để nó trở nên cân bằng với số quan sát của nhóm thiểu số. Ưu điểm của under sampling là làm cân bằng mẫu một cách nhanh chóng, dễ dàng tiến hành thực hiện mà không cần đến thuật toán giả lập mẫu.\n",
        "\n",
        "     > Tuy nhiên nhược điểm của nó là kích thước mẫu sẽ bị giảm đáng kể. Gỉa sử nhóm thiểu số có kích thước là 500, như vậy để tạo ra sự cân bằng mẫu giữa nhóm đa số và thiểu số sẽ cần giảm kích thước mẫu của nhóm đa số từ 10000 về 500. Tổng kích thước tập huấn luyện sau under sampling là 1000 và chiếm gần 1/10 kích thước tập huấn luyện ban đầu. Tập huấn luyện mới khá nhỏ, không đại diện cho phân phối của toàn bộ tập dữ liệu và thường dễ dẫn tới hiện tượng overfitting.\n",
        "     --> không sử dụng cách này\n",
        "\n",
        "    > Over sampling\n",
        "    Là các phương pháp giúp giải quyết hiện tượng mất cân bằng mẫu bằng cách gia tăng kích thước mẫu thuộc nhóm thiểu số bằng các kĩ thuật khác nhau.\n"
      ]
    },
    {
      "cell_type": "code",
      "metadata": {
        "id": "fQvW_NzzGelq",
        "colab_type": "code",
        "colab": {}
      },
      "source": [
        "# import các thư viện cần thiết\n",
        "from sklearn.metrics import classification_report\n",
        "from sklearn.model_selection import train_test_split\n",
        "\n",
        "from sklearn.feature_extraction.text import TfidfVectorizer\n",
        "\n",
        "from sklearn.linear_model import LogisticRegression\n",
        "from sklearn.naive_bayes import MultinomialNB\n",
        "from sklearn.svm import LinearSVC, LinearSVR\n",
        "from sklearn.tree import DecisionTreeClassifier\n",
        "\n",
        "import pandas as pd \n",
        "\n"
      ],
      "execution_count": 62,
      "outputs": []
    },
    {
      "cell_type": "code",
      "metadata": {
        "id": "gVCc5ziaj1lt",
        "colab_type": "code",
        "colab": {
          "base_uri": "https://localhost:8080/",
          "height": 359
        },
        "outputId": "dd832c1c-b31a-4787-f3ac-6b88b2b94502"
      },
      "source": [
        "#tải dữ liệu lên\n",
        "csv_file = open('data-label - 1.csv')\n",
        "#csv_file = open('vo duyen.csv')\n",
        "names = ['cmt', 'is_profane']\n",
        "data = pd.read_csv(csv_file, names = names)\n",
        "data.head(10)\n"
      ],
      "execution_count": 63,
      "outputs": [
        {
          "output_type": "execute_result",
          "data": {
            "text/html": [
              "<div>\n",
              "<style scoped>\n",
              "    .dataframe tbody tr th:only-of-type {\n",
              "        vertical-align: middle;\n",
              "    }\n",
              "\n",
              "    .dataframe tbody tr th {\n",
              "        vertical-align: top;\n",
              "    }\n",
              "\n",
              "    .dataframe thead th {\n",
              "        text-align: right;\n",
              "    }\n",
              "</style>\n",
              "<table border=\"1\" class=\"dataframe\">\n",
              "  <thead>\n",
              "    <tr style=\"text-align: right;\">\n",
              "      <th></th>\n",
              "      <th>cmt</th>\n",
              "      <th>is_profane</th>\n",
              "    </tr>\n",
              "  </thead>\n",
              "  <tbody>\n",
              "    <tr>\n",
              "      <th>0</th>\n",
              "      <td>Em đang xả với 1xx+freship ai qtam ib em nhé</td>\n",
              "      <td>0</td>\n",
              "    </tr>\n",
              "    <tr>\n",
              "      <th>1</th>\n",
              "      <td>1 số đặt đc lần nhiều đơn hả mọi người, tưởng ...</td>\n",
              "      <td>0</td>\n",
              "    </tr>\n",
              "    <tr>\n",
              "      <th>2</th>\n",
              "      <td>Ác quá🙄</td>\n",
              "      <td>0</td>\n",
              "    </tr>\n",
              "    <tr>\n",
              "      <th>3</th>\n",
              "      <td>Ác thật 😔</td>\n",
              "      <td>0</td>\n",
              "    </tr>\n",
              "    <tr>\n",
              "      <th>4</th>\n",
              "      <td>Ác vl</td>\n",
              "      <td>1</td>\n",
              "    </tr>\n",
              "    <tr>\n",
              "      <th>5</th>\n",
              "      <td>ad cứ để số đt ra ko cần che. Cho nó hết dùng ...</td>\n",
              "      <td>0</td>\n",
              "    </tr>\n",
              "    <tr>\n",
              "      <th>6</th>\n",
              "      <td>Ae chánh ta</td>\n",
              "      <td>0</td>\n",
              "    </tr>\n",
              "    <tr>\n",
              "      <th>7</th>\n",
              "      <td>Anh Chun có phải trò này mày chuyên làm ko hả ?</td>\n",
              "      <td>0</td>\n",
              "    </tr>\n",
              "    <tr>\n",
              "      <th>8</th>\n",
              "      <td>Anh Nguyen mượn đt làm vài đơn Now</td>\n",
              "      <td>0</td>\n",
              "    </tr>\n",
              "    <tr>\n",
              "      <th>9</th>\n",
              "      <td>Bắt đc cho nó ăn hết số đồ nó đặt,  nôn ra thì...</td>\n",
              "      <td>0</td>\n",
              "    </tr>\n",
              "  </tbody>\n",
              "</table>\n",
              "</div>"
            ],
            "text/plain": [
              "                                                 cmt  is_profane\n",
              "0       Em đang xả với 1xx+freship ai qtam ib em nhé           0\n",
              "1  1 số đặt đc lần nhiều đơn hả mọi người, tưởng ...           0\n",
              "2                                            Ác quá🙄           0\n",
              "3                                          Ác thật 😔           0\n",
              "4                                             Ác vl            1\n",
              "5  ad cứ để số đt ra ko cần che. Cho nó hết dùng ...           0\n",
              "6                                        Ae chánh ta           0\n",
              "7    Anh Chun có phải trò này mày chuyên làm ko hả ?           0\n",
              "8                 Anh Nguyen mượn đt làm vài đơn Now           0\n",
              "9  Bắt đc cho nó ăn hết số đồ nó đặt,  nôn ra thì...           0"
            ]
          },
          "metadata": {
            "tags": []
          },
          "execution_count": 63
        }
      ]
    },
    {
      "cell_type": "code",
      "metadata": {
        "id": "wLIeJQGDRWLj",
        "colab_type": "code",
        "colab": {}
      },
      "source": [
        "X = data['cmt']\n",
        "Y = data['is_profane']\n"
      ],
      "execution_count": 64,
      "outputs": []
    },
    {
      "cell_type": "code",
      "metadata": {
        "id": "XCUC3EPn_W5U",
        "colab_type": "code",
        "colab": {
          "base_uri": "https://localhost:8080/",
          "height": 221
        },
        "outputId": "e6c929cf-d990-4c9c-b748-14cbf55e9bcf"
      },
      "source": [
        "X"
      ],
      "execution_count": 65,
      "outputs": [
        {
          "output_type": "execute_result",
          "data": {
            "text/plain": [
              "0            Em đang xả với 1xx+freship ai qtam ib em nhé\n",
              "1       1 số đặt đc lần nhiều đơn hả mọi người, tưởng ...\n",
              "2                                                 Ác quá🙄\n",
              "3                                               Ác thật 😔\n",
              "4                                                  Ác vl \n",
              "                              ...                        \n",
              "4759    Xl rồi ng trong cuộc đã nhận lời thì đã xong.k...\n",
              "4760              Xl= xạo loz chứ hổng phải \"xin lỗi\" đâu\n",
              "4761    Xong gia đình chị mút bánh kem có thấy chột dạ...\n",
              "4762                     Xui cho ông nào lấy phải con này\n",
              "4763                                               yêu em\n",
              "Name: cmt, Length: 4764, dtype: object"
            ]
          },
          "metadata": {
            "tags": []
          },
          "execution_count": 65
        }
      ]
    },
    {
      "cell_type": "code",
      "metadata": {
        "id": "RBsE63q78H0H",
        "colab_type": "code",
        "colab": {
          "base_uri": "https://localhost:8080/",
          "height": 296
        },
        "outputId": "1d8f9646-aa6a-476f-d5d6-1a6aab36a0d6"
      },
      "source": [
        "import matplotlib.pyplot as plt\n",
        "import seaborn as sns\n",
        "\n",
        "%matplotlib inline\n",
        "sns.set_style(\"white\")\n",
        "sns.countplot(Y).set_title('Data')\n",
        "plt.show()"
      ],
      "execution_count": 66,
      "outputs": [
        {
          "output_type": "display_data",
          "data": {
            "image/png": "[encoded data removed]",
            "text/plain": [
              "<Figure size 432x288 with 1 Axes>"
            ]
          },
          "metadata": {
            "tags": []
          }
        }
      ]
    },
    {
      "cell_type": "markdown",
      "metadata": {
        "id": "Y-5ekZ_E1gvZ",
        "colab_type": "text"
      },
      "source": [
        "#**3. Mô tả về đặc trưng**"
      ]
    },
    {
      "cell_type": "markdown",
      "metadata": {
        "id": "yY7qtN2FTNYd",
        "colab_type": "text"
      },
      "source": [
        "Feature Extraction: bước tìm ra được các tinh hoa từ tập dữ liệu ban đầu. Ở bài toán này là các từ ngữ mang tính xúc phạm, thô tục như: đm, vcl, đĩ, ngu, ... và tần suất xuất hiện của các từ đó\n",
        "\n",
        "Vector hóa văn bản (câu comment đầu vào). Ở đây em sẽ sử dụng TF-IDF\n",
        "\n",
        "\n",
        "\n",
        "  \n",
        "\n",
        "  \n"
      ]
    },
    {
      "cell_type": "markdown",
      "metadata": {
        "id": "oLzPxB9tTfsD",
        "colab_type": "text"
      },
      "source": [
        "##TF-IDF (Term Frequency – Inverse Document Frequency) \n",
        "Là 1 kĩ thuật sử dụng trong khai phá dữ liệu văn bản. Trọng số này được sử dụng để đánh giá tầm quan trọng của một từ trong một văn bản. Giá trị cao thể hiện độ quan trọng cao và nó phụ thuộc vào số lần từ xuất hiện trong văn bản nhưng bù lại bởi tần suất của từ đó trong tập dữ liệu. Một vài biến thể của tf-idf thường được sử dụng trong các hệ thống tìm kiếm như một công cụ chính để đánh giá và sắp xếp văn bản dựa vào truy vấn của người dùng. TF-IDF cũng được sử dụng để lọc những từ stopwords trong các bài toán như tóm tắt văn bản và phân loại văn bản."
      ]
    },
    {
      "cell_type": "markdown",
      "metadata": {
        "id": "Z3Uh06VvT0e9",
        "colab_type": "text"
      },
      "source": [
        "##Tách từ (Words segmentation)\n",
        "Là một bước quan trọng bậc nhất trong xử lý ngôn ngữ tự nhiên. Tiếng Việt không đơn giản như tiếng anh vì nó có thêm các từ ghép. Trong tiếng anh, thường thi mỗi từ sẽ được ngăn cách bởi dấu cách với các từ khác, nhưng trong tiếng Việt thì lại khác. Ví dụ: từ \"Đất nước\" nếu không sử dụng tách từ hợp lý thì nó sẽ biết thành 2 từ, nhưng dùng tách từ thì nó sẽ là \"Đất_nươc\".\n",
        "  \n",
        "  Ví dụ:\n",
        "  temp = \"Chào các bạn tôi là một sinh viên công nghệ thông tin\"\n",
        "    \n",
        "  print NLP(text=temp).segmentation()\n",
        "\n",
        "  ->>>Chào các bạn tô là một sinh_viên công_nghệ_thông_tin"
      ]
    },
    {
      "cell_type": "code",
      "metadata": {
        "id": "5quG-Bwd1PPN",
        "colab_type": "code",
        "colab": {
          "base_uri": "https://localhost:8080/",
          "height": 187
        },
        "outputId": "d8851548-2c64-4232-a757-70a4c9c99ca0"
      },
      "source": [
        "# Tách từ\n",
        "!pip install pyvi\n",
        "from pyvi import ViTokenizer\n",
        "class NLP(object):\n",
        "    def __init__(self, text = None):\n",
        "        self.text = text\n",
        "        #self.set_stopwords()\n",
        "\n",
        "    def segmentation(self):\n",
        "        return ViTokenizer.tokenize(self.text)\n"
      ],
      "execution_count": 67,
      "outputs": [
        {
          "output_type": "stream",
          "text": [
            "Requirement already satisfied: pyvi in /usr/local/lib/python3.6/dist-packages (0.1)\n",
            "Requirement already satisfied: scikit-learn in /usr/local/lib/python3.6/dist-packages (from pyvi) (0.22.2.post1)\n",
            "Requirement already satisfied: sklearn-crfsuite in /usr/local/lib/python3.6/dist-packages (from pyvi) (0.3.6)\n",
            "Requirement already satisfied: scipy>=0.17.0 in /usr/local/lib/python3.6/dist-packages (from scikit-learn->pyvi) (1.4.1)\n",
            "Requirement already satisfied: joblib>=0.11 in /usr/local/lib/python3.6/dist-packages (from scikit-learn->pyvi) (0.16.0)\n",
            "Requirement already satisfied: numpy>=1.11.0 in /usr/local/lib/python3.6/dist-packages (from scikit-learn->pyvi) (1.18.5)\n",
            "Requirement already satisfied: tabulate in /usr/local/lib/python3.6/dist-packages (from sklearn-crfsuite->pyvi) (0.8.7)\n",
            "Requirement already satisfied: python-crfsuite>=0.8.3 in /usr/local/lib/python3.6/dist-packages (from sklearn-crfsuite->pyvi) (0.9.7)\n",
            "Requirement already satisfied: tqdm>=2.0 in /usr/local/lib/python3.6/dist-packages (from sklearn-crfsuite->pyvi) (4.41.1)\n",
            "Requirement already satisfied: six in /usr/local/lib/python3.6/dist-packages (from sklearn-crfsuite->pyvi) (1.15.0)\n"
          ],
          "name": "stdout"
        }
      ]
    },
    {
      "cell_type": "code",
      "metadata": {
        "id": "sLfj1UyhpMYz",
        "colab_type": "code",
        "colab": {}
      },
      "source": [
        "# Loại bỏ các ký tự đặc biệt\n",
        "import re, string\n",
        "\n",
        "def clean_text(text):\n",
        "  if type(text) != str:\n",
        "    return\n",
        "  else:\n",
        "    text = text.lower()\n",
        "    text = re.sub('\\[.*?]', '', text)\n",
        "    text = re.sub('[%s]' % re.escape(string.punctuation), '', text)\n",
        "    text = re.sub('\\w*\\d\\w*', '', text)\n",
        "  return text "
      ],
      "execution_count": 68,
      "outputs": []
    },
    {
      "cell_type": "markdown",
      "metadata": {
        "id": "6HhH0DhiT4na",
        "colab_type": "text"
      },
      "source": [
        "##Xóa bỏ stopword \n",
        "   \n",
        "   Hãy tưởng tượng rằng ngôn ngữ của chúng ta giống như một đống gạo bị lẫn với thóc. Việc cần làm của trích chọn đặc trưng đó chính là chọn ra các hạt gạo chất lượng tốt nhất từ đống thóc đó. Những hạt thóc đó được gọi là stop words tức là những từ không có ý nghĩa lắm đối với việc phân loại của chúng ta.\n",
        "   Stopwords em lấy từ https://github.com/NguyenVanHieuBlog/vietnamese-stopwords/blob/master/stopwords.txt và có bổ sung thêm nhiều từ nữa để tối ưu bài toán em đang giải quyết.\n"
      ]
    },
    {
      "cell_type": "code",
      "metadata": {
        "id": "aSq9m7TMr2m3",
        "colab_type": "code",
        "colab": {}
      },
      "source": [
        "# upload stopword\n",
        "sw =  open('stopword.txt')\n",
        "data_sw = sw.readlines()\n",
        "data_sw = [x.strip() for x in data_sw]\n",
        "\n",
        "# hàm loại stopword\n",
        "\n",
        "def del_stopword(txt):\n",
        "    t = clean_text(txt)\n",
        "    if t == '':\n",
        "        return\n",
        "    t = NLP(text=t).segmentation()\n",
        "    t = t.split()\n",
        "    tt = t\n",
        "    for x in tt:\n",
        "      if x in data_sw:\n",
        "        t.remove(x)\n",
        "    return t"
      ],
      "execution_count": 69,
      "outputs": []
    },
    {
      "cell_type": "code",
      "metadata": {
        "id": "D55LI-vW2mpL",
        "colab_type": "code",
        "colab": {
          "base_uri": "https://localhost:8080/",
          "height": 102
        },
        "outputId": "32cf2a08-f3fe-4ff5-f434-562d03092e52"
      },
      "source": [
        "n = len(X)\n",
        "for i in range(n):\n",
        "    X[i] = del_stopword(X[i])\n",
        "    #X[i] = ' '.join(X[i])"
      ],
      "execution_count": 70,
      "outputs": [
        {
          "output_type": "stream",
          "text": [
            "/usr/local/lib/python3.6/dist-packages/ipykernel_launcher.py:3: SettingWithCopyWarning: \n",
            "A value is trying to be set on a copy of a slice from a DataFrame\n",
            "\n",
            "See the caveats in the documentation: https://pandas.pydata.org/pandas-docs/stable/user_guide/indexing.html#returning-a-view-versus-a-copy\n",
            "  This is separate from the ipykernel package so we can avoid doing imports until\n"
          ],
          "name": "stderr"
        }
      ]
    },
    {
      "cell_type": "code",
      "metadata": {
        "id": "qDSEFVhgUNwq",
        "colab_type": "code",
        "colab": {
          "base_uri": "https://localhost:8080/",
          "height": 34
        },
        "outputId": "329374f1-1987-4ad4-e501-e1a0fb9284ff"
      },
      "source": [
        "print(n)"
      ],
      "execution_count": 71,
      "outputs": [
        {
          "output_type": "stream",
          "text": [
            "4764\n"
          ],
          "name": "stdout"
        }
      ]
    },
    {
      "cell_type": "code",
      "metadata": {
        "id": "Gc7p4w_5N_-q",
        "colab_type": "code",
        "colab": {
          "base_uri": "https://localhost:8080/",
          "height": 102
        },
        "outputId": "725328b7-d9d6-473d-b061-2c7f1377f0fa"
      },
      "source": [
        "for i in range(n):\n",
        "    #X[i] = del_stopword(X[i])\n",
        "    X[i] = ' '.join(X[i])"
      ],
      "execution_count": 72,
      "outputs": [
        {
          "output_type": "stream",
          "text": [
            "/usr/local/lib/python3.6/dist-packages/ipykernel_launcher.py:3: SettingWithCopyWarning: \n",
            "A value is trying to be set on a copy of a slice from a DataFrame\n",
            "\n",
            "See the caveats in the documentation: https://pandas.pydata.org/pandas-docs/stable/user_guide/indexing.html#returning-a-view-versus-a-copy\n",
            "  This is separate from the ipykernel package so we can avoid doing imports until\n"
          ],
          "name": "stderr"
        }
      ]
    },
    {
      "cell_type": "markdown",
      "metadata": {
        "id": "ojGmm6B3TiaT",
        "colab_type": "text"
      },
      "source": [
        "#**4. Mô tả về thuật toán máy học**\n"
      ]
    },
    {
      "cell_type": "markdown",
      "metadata": {
        "id": "Q6OBpBRtT9va",
        "colab_type": "text"
      },
      "source": [
        "Trong phần thuật toán này, em sẽ sử dụng một số thuật toán sau để có cái nhin tổng quan xem thuật toán nào phù hợp với model nhất.\n",
        "- Naive Bayes\n",
        "- Logistic Regression\n",
        "- LinearSVC\n",
        "- Decision Tree Classifier"
      ]
    },
    {
      "cell_type": "markdown",
      "metadata": {
        "id": "j4BPHRGDT_fa",
        "colab_type": "text"
      },
      "source": [
        "##Logistic Regression\n",
        "Phương pháp hồi quy logistic là một mô hình hồi quy nhằm dự đoán giá trị đầu ra rời rạc (discrete target variable) y ứng với một véc-tơ đầu vào x. Việc này tương đương với chuyện phân loại các đầu vào x vào các nhóm y tương ứng."
      ]
    },
    {
      "cell_type": "markdown",
      "metadata": {
        "id": "Mx7T0axnUDKj",
        "colab_type": "text"
      },
      "source": [
        "##Naive Bayes"
      ]
    },
    {
      "cell_type": "markdown",
      "metadata": {
        "id": "pjvFrdZRUD3M",
        "colab_type": "text"
      },
      "source": [
        "##LinearSVC"
      ]
    },
    {
      "cell_type": "markdown",
      "metadata": {
        "id": "WUCzRm_2UOqp",
        "colab_type": "text"
      },
      "source": [
        "#**5. Cài đặt, tinh chỉnh tham số**"
      ]
    },
    {
      "cell_type": "code",
      "metadata": {
        "id": "6yVhApZB-3n-",
        "colab_type": "code",
        "colab": {
          "base_uri": "https://localhost:8080/",
          "height": 54
        },
        "outputId": "b6f0cf4b-9da9-42a1-ca5c-a167792467e7"
      },
      "source": [
        "'''model1 = LogisticRegression()\n",
        "model2 = MultinomialNB()\n",
        "model3 = LinearSVC()\n",
        "model4 = DecisionTreeClassifier()\n",
        "'''\n",
        "# split test:25%, train:75%\n",
        "trainX,testX,trainY,testY = train_test_split(X,Y,test_size=0.25,random_state=42)\n",
        "\n",
        "# initialize TfidfVectorizer\n",
        "# size of vocab: 50000\n",
        "# min_df: ignore terms that have a document frequency strictly lower than the given threshold\n",
        "tf = TfidfVectorizer(ngram_range=(1,2), max_features=50000, min_df=2)\n",
        "\n",
        "# transform words to vetor\n",
        "trainX = tf.fit_transform(trainX.values).toarray()\n",
        "trainVocab = tf.vocabulary_ \n",
        "tf = TfidfVectorizer(vocabulary=trainVocab)\n",
        "testX = tf.fit_transform(testX.values).toarray()\n",
        "\n",
        "print(trainVocab)"
      ],
      "execution_count": 85,
      "outputs": [
        {
          "output_type": "stream",
          "text": [
            "{'vk': 3671, 'tran': 3399, 'nam': 2343, 'ln': 1741, 'lai': 1692, 'phim': 2844, 'gd': 1124, 'coi': 621, 'no': 2629, 'het': 1322, 'tao': 3138, 'ghét': 1128, 'là': 1794, 'luon': 1782, 'vẫn': 3765, 'ch': 330, 'đẹp': 4309, 'đăng_ký': 4232, 'đổi': 4365, 'cào': 684, 'câm': 712, 'mẹ': 2273, 'mồm': 2312, 'câm mẹ': 715, 'mẹ mồm': 2280, 'mũi': 2163, 'diễn': 935, 'mệt': 2292, 'ko': 1622, 'diễn mệt': 937, 'ba': 46, 'bạn': 177, 'tiền': 3347, 'sẵn': 3092, 'kiểu': 1606, 'chứ': 551, 'gia_đình': 1146, 'bình_thường': 158, 'chỉ': 497, 'có_học': 741, 'hi_vọng': 1323, 'em_gái': 1093, 'nghiệp': 2388, 'quật': 2929, 'kiếp': 1602, 'để': 4325, 'éo': 3965, 'mà': 2076, 'nghiệp quật': 2390, 'dư': 1020, 'lày': 1831, 'đọc': 4347, 'em': 1084, 'đi': 4040, 'đọc em': 4350, 'em đi': 1091, 'đặng': 4305, 'thị_ánh': 3315, 'đặng thị_ánh': 4306, 'giọng': 1197, 'cac': 294, 'giọng cac': 1199, 'mất_dạy': 2207, 'đỉ': 4329, 'lồn': 1931, 'tại_sao': 3569, 'mày': 2097, 'chặn': 475, 'bình_luận': 155, 'dị': 1063, 'con': 627, 'ơiiiiiii': 4419, 'đỉ lồn': 4331, 'lồn tại_sao': 1942, 'tại_sao mày': 3570, 'mày chặn': 2098, 'chặn bình_luận': 476, 'bình_luận dị': 156, 'dị con': 1064, 'con đỉ': 648, 'đỉ ơiiiiiii': 4335, 'cái': 689, 'mặt': 2241, 'lòn': 1856, 'đấy': 4272, 'nhận': 2597, 'lỗi': 1954, 'đéo': 4187, 'đc': 4016, 'cái mặt': 701, 'lỗi đéo': 1957, 'cc': 323, 'bớt': 271, 'dẹo': 1042, 'má': 2112, 'bớt dẹo': 275, 'dẹo đi': 1049, 'đi má': 4065, 'thất_đức': 3263, 'thằng': 3278, 'ad': 1, 'khi': 1527, 'đăng': 4227, 'còn': 723, 'che': 340, 'dt': 956, 'đánh': 4166, 'đánh đi': 4173, 'gì': 1249, 'nói': 2735, 'không': 1561, 'ưa': 4424, 'cũng': 767, 'im': 1510, 'im mẹ': 1511, 'hình_như': 1410, 'fb': 1112, 'hay': 1311, 'địt_mẹ': 4342, 'chồng': 522, 'cao_thượng': 310, 'đĩ': 4233, 'cãi': 721, 'hỏi': 1485, 'chồng_con': 534, 'nhà_nghỉ': 2538, 'trai': 3386, 'lạ': 1899, 'ngắm': 2468, 'cảnh': 807, 'gặp': 1273, 'tay': 3151, 'chân': 401, 'hai': 1306, 'đứa': 4383, 'địt_mẹ chồng': 4343, 'chồng cao_thượng': 525, 'cao_thượng mà': 311, 'mà đĩ': 2089, 'đĩ còn': 4235, 'còn cãi': 724, 'cãi hỏi': 722, 'hỏi chồng_con': 1486, 'chồng_con đi': 535, 'đi nhà_nghỉ': 4073, 'nhà_nghỉ trai': 2539, 'trai lạ': 3393, 'lạ gì': 1901, 'gì ngắm': 1253, 'ngắm cảnh': 2469, 'cảnh gặp': 808, 'gặp tao': 1277, 'tao không': 3142, 'không tay': 1564, 'tay cũng': 3152, 'cũng chân': 768, 'chân hai': 402, 'hai đứa': 1309, 'nhiều': 2516, 'giao': 1151, 'nó': 2716, 'được': 4259, 'bn': 87, 'cmt': 613, 'và': 3704, 'mấy': 2211, 'like': 1715, 'hùa': 1433, 'óc': 3970, 'tôm': 3553, 'hay_là': 1313, 'não': 2691, 'chứa': 553, 'shit': 3030, 'nên': 2709, 'bỏ_tù': 257, 'rồi': 2995, 'trong': 3414, 'tù': 3557, 'cười': 784, 'nhau': 2505, 'ko cái': 1626, 'cái bn': 690, 'bn cmt': 88, 'cmt và': 615, 'và mấy': 3707, 'mấy thằng': 2217, 'thằng like': 3286, 'like hùa': 1717, 'hùa óc': 1434, 'óc tôm': 3971, 'tôm hay_là': 3554, 'hay_là não': 1314, 'não chứa': 2692, 'chứa shit': 554, 'shit nên': 3031, 'nên bỏ_tù': 2710, 'bỏ_tù bn': 258, 'bn rồi': 89, 'rồi trong': 3000, 'trong tù': 3417, 'tù cười': 3558, 'cười nhau': 788, 'đó': 4208, 'đó là': 4211, 'đàn_bà': 4136, 'thúi': 3248, 'đàn_bà thúi': 4145, 'hóng': 1420, 'xấu': 3903, 'trần': 3456, 'đức': 4386, 'bo': 90, 'mn': 2040, 'trần đức': 3459, 'đức bo': 4387, 'bo rồi': 98, 'ngọt': 2475, 'giọng ngọt': 1209, 'thế_mà': 3304, 'già_mồm': 1163, 'đĩ thế_mà': 4244, 'thế_mà già_mồm': 3305, 'cái lồn': 697, 'súc_vật': 3075, 'lại': 1902, 'nguyên': 2435, 'hàm_răng': 1378, 'ơi': 4407, 'đi lại': 4063, 'hàm_răng đi': 1384, 'đi ơi': 4096, 'minh': 2020, 'ngọc': 2470, 'dơ_bẩn': 1015, 'truyền_thông': 3419, 'minh ngọc': 2022, 'ngọc dơ_bẩn': 2471, 'dơ_bẩn truyền_thông': 1018, 'vậy': 3769, 'mỏ': 2304, 'con_mẹ': 652, 'cái mỏ': 702, 'tâm': 3505, 'xạo': 3893, 'lol': 1752, 'tâm xạo': 3527, 'xạo lol': 3895, 'hại': 1447, 'mắt': 2234, 'vl': 3676, 'hại mắt': 1449, 'mắt vl': 2239, 'nguyễn': 2438, 'thành': 3206, 'hỏng': 1487, 'chào': 393, 'hỏng chào': 1488, 'nhái': 2543, 'ha': 1299, 'ghê_vc': 1135, 'cj': 573, 'thấy': 3264, 'rác_rưởi': 2961, 'lè': 1839, 'clmm': 606, 'lè clmm': 1840, 'ok': 2814, 'trâu': 3429, 'giống': 1220, 'ák': 3959, 'mũi trâu': 2183, 'mũi tâm': 2185, 'hả': 1454, 'đêm': 4200, 'thanh_niên': 3165, 'ngủ': 2481, 'ngon': 2407, 'hihi': 1328, 'ngủ ngon': 2483, 'thiệt': 3183, 'của': 849, 'giọg': 1196, 'nhím': 2560, 'trước': 3447, 'máu': 2128, 'dồn': 1072, 'nhím minh': 2561, 'minh em': 2021, 'đi ngủ': 4070, 'ngủ trước': 2485, 'trước máu': 3448, 'máu dồn': 2129, 'dồn não': 1073, 'gớm': 1294, 'lắm': 1917, 'nha_má': 2502, 'đồ': 4358, 'chó': 418, 'đồ đi': 4361, 'đi chó': 4045, 'có': 734, 'kia': 1586, 'đúng': 4224, 'chất': 464, 'dân': 986, 'vn': 3685, 'kkk': 1617, 'chủ_nhân': 547, 'tha': 3156, 'mạng': 2203, 'cà': 680, 'chớn': 537, 'hấp': 1466, 'chán': 396, 'chán vl': 398, 'kêu': 1659, 'hong': 1344, 'hk': 1338, 'tải': 3577, 'đc tâm': 4023, 'chang': 335, 'ngân': 2449, 'đù': 4221, 'ai': 10, 'chị': 501, 'vẩu': 3761, 'ai chị': 11, 'chị vẩu': 511, 'nhân_tình': 2550, 'bình_tĩnh': 159, 'vãi': 3723, 'xin': 3837, 'thuốc': 3203, 'mới': 2326, 'nhân_tình bình_tĩnh': 2551, 'bình_tĩnh vãi': 161, 'vãi cc': 3724, 'cc mấy': 324, 'mấy xin': 2219, 'xin thuốc': 3838, 'thuốc mới': 3204, 'mới vl': 2328, 'từ': 3625, 'clm': 602, 'ngứa': 2487, 'lổi': 1950, 'ngoại_tình': 2411, 'bỏ': 245, 'ra': 2943, 'xã_hội': 3876, 'một': 2319, 'chặng': 478, 'khôn': 1559, 'nạn': 2763, 'lổi đàn_bà': 1951, 'đàn_bà vậy': 4148, 'vậy đi': 3772, 'đi đàn_bà': 4091, 'đàn_bà trai': 4147, 'trai ngoại_tình': 3395, 'ngoại_tình bỏ': 2412, 'bỏ ra': 248, 'ra xã_hội': 2944, 'xã_hội đánh': 3880, 'đánh một': 4171, 'một chặng': 2320, 'chặng nó': 479, 'nó đàn_bà': 2732, 'đàn_bà khôn': 4140, 'khôn nạn': 1560, 'oiii': 2813, 'ơii': 4415, 'loại': 1771, 'thì': 3228, 'trái': 3425, 'vừa': 3818, 'mồm vừa': 2317, 'thi': 3177, 'quánh': 2917, 'ghen': 1126, 'nè': 2695, 'vợ': 3795, 'zâyj': 3945, 'với': 3788, 'nầy': 2767, 'sso': 3049, 'ròi': 2973, 'bị': 228, 'hòi': 1417, 'mầy': 2222, 'thầy': 3272, 'bây_giờ': 142, 'gieo': 1153, 'gió': 1172, 'bảo': 185, 'hạn': 1450, 'đàn': 4134, 'nà': 2665, 'zay': 3936, 'làm': 1811, 'đàn_bà zâyj': 4150, 'zâyj đi': 3946, 'đi với': 4088, 'với thằng': 3789, 'thằng nầy': 3290, 'nầy sso': 2771, 'sso nầy': 3050, 'nầy ròi': 2770, 'ròi bị': 2974, 'bị thằng': 232, 'nầy đánh': 2772, 'đánh nó': 4172, 'nó nó': 2728, 'nó hòi': 2724, 'hòi mầy': 1418, 'mầy chồng': 2223, 'chồng mầy': 528, 'mầy tao': 2225, 'tao thầy': 3147, 'thầy bây_giờ': 3273, 'bây_giờ tao': 143, 'tao bỏ': 3139, 'bỏ mầy': 247, 'mầy gieo': 2224, 'gieo gió': 1154, 'gió gặp': 1173, 'gặp bảo': 1275, 'bảo hạn': 186, 'hạn đàn': 1451, 'đàn nà': 4135, 'nà zay': 2666, 'zay làm': 3937, 'điện': 4107, 'uyên': 3639, 'dịu': 1068, 'lưn': 1886, 'hà': 1369, 'đụ_mẹ': 4382, 'dịu lưn': 1069, 'lưn hà': 1887, 'hà minh': 1370, 'minh đụ_mẹ': 2023, 'lam': 1694, 'chi': 347, 'tan': 3134, 'hí': 1412, 'hí hí': 1414, 'hí cc': 1413, 'mai_mốt': 1992, 'học': 1480, 'xong': 3859, 'lớp': 1967, 'tại': 3567, 'ăn_học': 3996, 'chừng': 556, 'cách': 687, 'hông': 1432, 'cái mũi': 700, 'mát': 2126, 'cl': 593, 'chời': 541, 'mát cl': 2127, 'cl chời': 595, 'nghe': 2379, 'mùi': 2158, 'anh': 20, 'nghe mùi': 2381, 'xạo lồn': 3898, 'ms': 2062, 'chúc': 433, 'đi học': 4055, 'chúc ngủ': 434, 'nhạt': 2585, 'vcl': 3658, 'nhạt vcl': 2588, 'ta': 3127, 'dui': 965, 'chớt': 538, 'page': 2818, 'quốc': 2930, 'dui chớt': 966, 'lô': 1858, 'lôn': 1865, 'lô lôn': 1861, 'lon': 1760, 'đây': 4183, 'thôi': 3239, 'kẻ': 1671, 'sai': 3005, 'chừa': 555, 'nha_em': 2501, 'thì tha': 3230, 'mịa': 2297, 'đề_nghị': 4323, 'trà': 3421, 'sữa': 3124, 'bắt': 210, 'trc': 3406, 'đii': 4100, 'khổ_thân': 1584, 'trà sữa': 3422, 'khổ_thân anh': 1585, 'ngậm': 2464, 'vổ': 3787, 'xinh': 3846, 'ơiii': 4416, 'xinh chị': 3847, 'chị ơiii': 513, 'đụ': 4378, 'chuỵn': 389, 'zô': 3947, 'ziên': 3938, 'đụ má': 4380, 'má chuỵn': 2113, 'chuỵn zô': 390, 'zô ziên': 3948, 'nói_chuyện': 2745, 'bố_láo': 261, 'nói_chuyện bố_láo': 2746, 'bố_láo con': 263, 'con đĩ': 647, 'hô': 1423, 'lôi': 1863, 'đẹp vl': 4313, 'hàng': 1385, 'tiền_đạo': 3352, 'gê': 1247, 'dc': 900, 'đóng': 4216, 'đĩ lồn': 4240, 'lồn hàng': 1938, 'hàng tiền_đạo': 1387, 'tiền_đạo chang': 3353, 'chang hàm_răng': 336, 'hàm_răng chó': 1379, 'chó thấy': 424, 'thấy gê': 3266, 'gê dc': 1248, 'dc đóng': 901, 'đóng phim': 4217, 'đừng': 4391, 'nha': 2496, 'bọn': 237, 'trẻ': 3464, 'chả': 453, 'này': 2672, 'bọn trẻ': 243, 'trẻ trâu': 3466, 'da': 866, 'chết': 483, 'da chết': 867, 'chết mẹ': 493, 'mẹ no': 2282, 'mắc': 2228, 'cho': 359, 'dòm': 994, 'giả_tạo': 1179, 'ỉa': 4440, 'dòm mặt': 995, 'mặt giả_tạo': 2247, 'giả_tạo mắc': 1181, 'mắc ỉa': 2231, 'tat': 3149, 'vào': 3712, 'ngta': 2416, 'nút': 2758, 'tắt': 3586, 'kìa': 1665, 'live': 1728, 'cmn': 610, 'thêm': 3227, 'lũ': 1884, 'md': 2007, 'vậy_mà': 3773, 'xh': 3833, 'gìcam': 1256, 'ơn': 4422, 'tổ_kén': 3609, 'lũ md': 1885, 'md vậy_mà': 2008, 'vậy_mà bọn': 3774, 'trẻ học': 3465, 'học thì': 1482, 'thì xh': 3231, 'xh thành': 3834, 'thành gìcam': 3207, 'gìcam ơn': 1257, 'ơn ad': 4423, 'ad tổ_kén': 2, 'thật_sự': 3276, 'lương_tâm': 1889, 'ml': 2038, 'bom': 102, 'bom hàng': 103, 'nhi': 2507, 'ơi có': 4409, 'má ỉa': 2123, 'nịnh': 2781, 'dừa': 1076, 'giải_thích': 1187, 'giải_thích mệt': 1189, 'giỏi': 1219, 'kiếm': 1598, 'ahihi': 9, 'thu': 3188, 'vay': 3653, 'can': 307, 'nua': 2654, 'nghìn': 2392, 'ma': 1983, 'ml nghìn': 2039, 'nghìn ma': 2393, 'ma nghìn': 1985, 'lợi': 1975, 'cno': 616, 'con_người': 656, 'ác': 3954, 'lợi trần': 1977, 'trần cno': 3457, 'cno súc_vật': 618, 'súc_vật con_người': 3076, 'con_người ác': 659, 'ng': 2366, 'bỏ_qua': 256, 'ng ta': 2368, 'loz': 1766, 'nc': 2352, 'nổi': 2786, 'da_gà': 870, 'thằng loz': 3287, 'loz nc': 1767, 'nc nổi': 2355, 'nổi da_gà': 2787, 'knh': 1620, 'nâng': 2686, 'bi': 69, 'knh địt_mẹ': 1621, 'địt_mẹ tâm': 4345, 'tâm đi': 3528, 'đi nâng': 4076, 'nâng bi': 2687, 'bi anh': 70, 'anh kia': 25, 'như': 2564, 'nổi_tiếng': 2788, 'như nổi_tiếng': 2568, 'nổi_tiếng lắm': 2789, 'đm': 4113, 'đm chán': 4114, 'sao': 3013, 'vv': 3700, 'dễ_thương': 1060, 'me': 2009, 'lol me': 1755, 'me mầy': 2011, 'trên': 3436, 'đt': 4123, 'xàm': 3868, 'lông': 1866, 'ghê': 1131, 'hoàngg': 1352, 'tối': 3600, 'kéo': 1657, 'anh_em': 30, 'gọi': 1279, 'che làm': 341, 'đỉ mẹ': 4332, 'mẹ nó': 2283, 'mình': 2146, 'đẹp lắm': 4312, 'vua': 3696, 'cute': 671, 'phô_mai': 2864, 'que': 2907, 'hột': 1498, 'xí': 3883, 'muội': 2069, 'cute phô_mai': 673, 'phô_mai que': 2865, 'que hột': 2908, 'hột me': 1499, 'me xí': 2015, 'xí muội': 3884, 'đời': 4374, 'chẳng': 471, 'sai_lầm': 3009, 'nhưng': 2579, 'nh': 2495, 'cư_xử': 780, 'đàng_hoàng': 4156, 'càng': 681, 'ngông': 2451, 'cư_xử đàng_hoàng': 781, 'đàng_hoàng con': 4157, 'đỉ nó': 4333, 'nó càng': 2721, 'càng ngông': 683, 'ngông bạn': 2452, 'đbrr': 4015, 'giờ': 1226, 'xê': 3881, 'đhs': 4038, 'thất_bại': 3261, 'tạo_hoá': 3575, 'xê lồn': 3882, 'lồn đhs': 1944, 'đhs dẹo': 4039, 'dẹo đc': 1048, 'đc đi': 4025, 'lại mũi': 1903, 'mũi đi': 2192, 'đi thất_bại': 4083, 'thất_bại tạo_hoá': 3262, 'tạo_hoá vãi': 3576, 'vãi loz': 3727, 'điên': 4104, 'bất_ngờ': 193, 'cạk': 799, 'con điên': 646, 'thời': 3319, 'tui': 3479, 'buồn': 116, 'ói': 3972, 'những': 2618, 'phụ_nữ': 2887, 'bà': 125, 'xảy': 3902, 'quá': 2911, 'tội_lỗi': 3615, 'đổ': 4364, 'tui buồn': 3480, 'chảnh': 456, 'nảy': 2766, 'bả': 183, 'biến': 75, 'ik': 1509, 'biến ik': 76, 'sửa': 3119, 'bao': 54, 'nhiu': 2513, 'đang': 4008, 'nết': 2775, 'sửa mũi': 3122, 'mũi bao': 2164, 'bao nhiu': 55, 'nhiu tiền': 2514, 'tiền đang': 3351, 'đang sửa': 4010, 'sửa cái': 3120, 'cái nết': 703, 'nết bớt': 2776, 'call': 304, 'vs': 3692, 'chỗ': 536, 'mờ': 2329, 'toàn': 3379, 'drama': 955, 'bú': 169, 'kỹ': 1682, 'cức': 855, 'kỹ này': 1683, 'này xấu': 2684, 'xấu vãi': 3910, 'vãi cức': 3725, 'cức mn': 856, 'the': 3170, 'đã': 4186, 'chế': 482, 'làm_ơn': 1829, 'lưỡi': 1891, 'một_cách': 2324, 'vô_tội_vạ': 3746, 'cảm_giác': 803, 'lúc_nào': 1871, 'lùng': 1868, 'lằng': 1921, 'nhảy': 2592, 'nhạc': 2582, 'kiểm_soát': 1605, 'làm_ơn đừng': 1830, 'đừng lè': 4394, 'lè lưỡi': 1842, 'lưỡi một_cách': 1895, 'một_cách vô_tội_vạ': 2325, 'vô_tội_vạ cảm_giác': 3747, 'cảm_giác mồm': 804, 'mồm lúc_nào': 2313, 'lúc_nào lùng': 1872, 'lùng lằng': 1869, 'lằng lưỡi': 1922, 'lưỡi lưỡi': 1894, 'lưỡi nhảy': 1896, 'nhảy nhạc': 2593, 'nhạc hay': 2583, 'hay mà': 1312, 'mà kiểm_soát': 2079, 'wa': 3821, 'đuma': 4127, 'nho': 2526, 'di': 911, 'roi': 2950, 'công_khai': 752, 'đĩ mẹ': 4241, 'mẹ mày': 2279, 'huyền': 1361, 'muốn': 2066, 'share': 3024, 'thử': 3325, 'đấm': 4270, 'phát': 2850, 'tắt mẹ': 3589, 'mẹ live': 2278, 'live đi': 1732, 'đi thấy': 4084, 'thấy mũi': 3268, 'mũi muốn': 2175, 'muốn đấm': 2068, 'đấm phát': 4271, 'nào': 2667, 'ngu': 2424, 'ngục': 2479, 'dza': 978, 'nào ngu': 2669, 'ngu ngục': 2430, 'ngục dza': 2480, 'mng': 2042, 'thông': 3241, 'kảm': 1669, 'mũi sửa': 2178, 'sửa lỗi': 3121, 'lỗi mng': 1956, 'mng thông': 2043, 'thông kảm': 3242, 'ùa': 3979, 'đếy': 4320, 'cek': 328, 'ăk': 3988, 'ùa đếy': 3980, 'đếy giọng': 4322, 'giọng còn': 1202, 'còn giọng': 725, 'giọng con': 1200, 'con cek': 629, 'cek ăk': 329, 'đập': 4295, 'lý_giải': 1877, 'đập chết': 4296, 'mẹ chứ': 2274, 'chứ đó': 552, 'đó lý_giải': 4212, 'làm_việc': 1827, 'cả': 801, 'dây': 991, 'cột': 842, 'tóc': 3544, 'mua': 2064, 'dọ': 1071, 'cột tóc': 843, 'gi': 1139, 'zây': 3943, 'trời': 3471, 'mẹ đi': 2289, 'đi gi': 4052, 'gi zây': 1142, 'zây trời': 3944, 'cu': 662, 'pai': 2832, 'lăng': 1880, 'loạt': 1778, 'đàn_bà lăng': 4141, 'lăng loạt': 1881, 'th': 3155, 'sống': 3100, 'phải': 2877, 'quá_vậy': 2915, 'dan': 875, 'do': 949, 'dan do': 879, 'hẳn': 1470, 'này chết': 2675, 'chết hẳn': 489, 'chửi': 557, 'mạt': 2204, 'lợn': 1979, 'dan chửi': 876, 'chửi mạt': 561, 'mạt lợn': 2205, 'lợn kìa': 1980, 'ck': 578, 'lòng': 1857, 'đàn_ông': 4151, 'lời_nói': 1970, 'cua': 666, 'thằng đàn_ông': 3292, 'kìm': 1668, 'khéo': 1551, 'xe': 3831, 'đù má': 4222, 'gặp thằng': 1278, 'cưng': 782, 'tự': 3628, 'khen': 1526, 'tôn': 3555, 'lầm': 1913, 'tôn lầm': 3556, 'nữ': 2804, 'đơn': 4250, 'bị bom': 229, 'nhục': 2611, 'mũi xinh': 2188, 'hiện': 1337, 'sđt': 3078, 'ae': 4, 'bàn_phím': 131, 'biết': 77, 'thế_nào': 3306, 'ae bàn_phím': 5, 'cứt': 859, 'gom': 1234, 'kg': 1520, 'vô': 3738, 'nhà': 2534, 'quê': 2921, 'sẽ': 3095, 'khóa': 1557, 'gom đồ': 1235, 'vợ kg': 3801, 'con này': 638, 'vô nó': 3742, 'lo': 1742, 'ck lo': 584, 'cứ': 853, 'lên': 1846, 'lấy': 1908, 'khẩu_trang': 1572, 'đỡ': 4375, 'tởm': 3617, 'khẩu_trang che': 1573, 'người': 2453, 'đánh chết': 4168, 'mẹ con': 2275, 'con chó': 630, 'người vợ': 2456, 'vui': 3697, 'thảo': 3257, 'mai': 1989, 'thảo mai': 3258, 'chị tâm': 509, 'dẻo': 1056, 'đeo': 4032, 'nhìn': 2555, 'kinh': 1595, 'kinh vl': 1596, 'loạn': 1777, 'hãm': 1402, 'tí': 3539, 'con kia': 633, 'hãm lol': 1403, 'mà đi': 2087, 'nhạt vl': 2589, 'nhái giọng': 2544, 'giọng nam': 1208, 'mo': 2044, 'đờ': 4372, 'phắc': 2883, 'mo đờ': 2046, 'đờ phắc': 4373, 'co': 619, 'phan': 2840, 'doi': 951, 'giong': 1160, 'nhu': 2528, 'thuong': 3196, 'than': 3159, 'vo': 3686, 'nhung': 2533, 'noi': 2645, 'phai': 2837, 'de': 905, 'gia': 1143, 'dinh': 922, 'co phan': 620, 'gia dinh': 1144, 'đb': 4014, 'nồn': 2783, 'kiếm tiền': 1599, 'tải chi': 3578, 'tẩy': 3582, 'trắng': 3463, 'chặn cmt': 477, 'show': 3032, 'ciu': 571, 'show ciu': 3033, 'ciu đi': 572, 'tâm mũi': 3519, 'xaolol': 3827, 'qá': 2939, 'thanh_danh': 3162, 'mỹ_tục': 2339, 'việt_nam': 3669, 'ô_nhục': 3973, 'cha_mẹ': 333, 'dòng_họ': 998, 'dân_tộc': 989, 'việt': 3667, 'thuần_phong': 3201, 'thật': 3274, 'khỉnh': 1576, 'hai chó': 1307, 'chó thanh_danh': 423, 'thanh_danh mỹ_tục': 3163, 'mỹ_tục việt_nam': 2341, 'việt_nam làm': 3670, 'làm ô_nhục': 1820, 'ô_nhục cha_mẹ': 3974, 'cha_mẹ dòng_họ': 334, 'dòng_họ dân_tộc': 999, 'dân_tộc việt': 990, 'việt nam': 3668, 'nam thuần_phong': 2346, 'thuần_phong mỹ_tục': 3202, 'mỹ_tục hai': 2340, 'hai người': 1308, 'người thật': 2455, 'thật khỉnh': 3275, 'khỉnh đàn_bà': 1577, 'đàn_bà nên': 4143, 'nên đi': 2713, 'gớt': 1295, 'hiền': 1332, 'vây': 3721, 'em_trai': 1094, 'thứ': 3322, 'cắt': 819, 'đầu': 4283, 'thả': 3254, 'giữ': 1229, 'thay_đổi': 3169, 'đâu': 4181, 'nó đi': 2731, 'đi thì': 4082, 'thì đi': 3233, 'ko giữ': 1628, 'như vây': 2571, 'nch': 2358, 'mẹ nch': 2281, 'nch dẹo': 2361, 'dẹo chó': 1043, 'le': 1705, 'đa': 4004, 'nhân_cách': 2548, 'hả má': 1456, 'khinh': 1528, 'hám': 1393, 'gái': 1242, 'đĩ kiểu': 4239, 'kiểu khinh': 1611, 'khinh ngta': 1529, 'ngta hám': 2418, 'hám gái': 1395, 'cđ': 763, 'khùng': 1567, 'to': 3358, 'thee': 3172, 'mũi to': 2180, 'to thee': 3366, 'zậy': 3949, 'tâm hô': 3516, 'hô zậy': 1427, 'phương': 2868, 'chấp_nhận': 460, 'phương mắt': 2869, 'mắt tao': 2237, 'tao chấp_nhận': 3141, 'chấp_nhận những': 462, 'những dơ_bẩn': 2619, 'dơ_bẩn mày': 1017, 'mày không': 2101, 'cúp': 757, 'tien': 3331, 'khác': 1544, 'dong': 952, 'suong': 3061, 'mơ': 2197, 'bay': 61, 'trả_lời': 3453, 'trả_lời bình_luận': 3454, 'ns': 2650, 'nx': 2662, 'tâm lồn': 3518, 'cty': 661, 'grab': 1240, 'goviet': 1239, 'xác_nhận': 3872, 'khách_hàng': 1548, 'tài_xế': 3493, 'ứng': 4452, 'triệu': 3411, 'méo': 2142, 'đặt': 4307, 'lý_do': 1876, 'cuối_cùng': 675, 'may_ra': 2006, 'vài': 3708, 'chục': 542, 'hàng có': 1386, 'giao hàng': 1152, 'cái là': 696, 'kiểu cũng': 1607, 'hết': 1472, 'sử': 3116, 'lý': 1874, 'tuyệt_vời': 3485, 'cần': 811, 'sử lý': 3117, 'lm': 1740, 'đấy ng': 4278, 'vàng': 3711, 'tâm đẹp': 3529, 'thái_độ': 3212, 'bo trần': 99, 'dang': 886, 'đồng': 4363, 'giá': 1171, 'nhật': 2599, 'ib': 1505, 'vũ': 3757, 'cặc': 822, 'bồ': 264, 'địt': 4340, 'lần': 1916, 'mang': 1994, 'ngậm cặc': 2465, 'thằng bồ': 3279, 'háng': 1396, 'chuyen': 382, 'len': 1706, 'bao_nhiêu': 59, 'tải tâm': 3580, 'set': 3023, 'dam': 873, 'khong': 1539, 'giang': 1149, 'ship': 3026, 'an': 16, 'tau': 3150, 'bây': 140, 'lâu': 1836, 'bị vẩu': 233, 'vẩu lâu': 3763, 'mũi lợn': 2174, 'di_la': 917, 'loai': 1746, 'ong': 2816, 'muon': 2065, 'vai': 3647, 'loai dan': 1747, 'dan ong': 884, 'kh': 1523, 'tâm chặn': 3507, 'đeo khẩu_trang': 4035, 'che mũi': 342, 'tẹt': 3592, 'vc': 3656, 'mũi tẹt': 2186, 'tẹt hô': 3593, 'hô vc': 1425, 'ăn_theo': 3999, 'xấucòn': 3915, 'thớt': 3317, 'mẹ xấucòn': 2288, 'xấucòn gi': 3916, 'gi mẹ': 1141, 'mẹ thớt': 2285, 'thớt đi': 3318, 'xù': 3886, 'mò': 2149, 'nhím xù': 2562, 'xù lông': 3887, 'rất': 2990, 'sau_này': 3018, 'ông': 3977, 'như_vậy': 2574, 'ông chồng': 3978, 'dkm': 941, 'lộn': 1960, 'ruột_gan': 2954, 'dkm mà': 942, 'mà lộn': 2082, 'lộn ruột_gan': 1962, 'đôi': 4218, 'ghê chị': 1132, 'cất': 809, 'cất hàm_răng': 810, 'hàm_răng lon': 1381, 'lon đi': 1764, 'má chào': 2114, 'po': 2892, 'đcm': 4026, 'potâm': 2895, 'po po': 2893, 'po tâm': 2894, 'tâm tâm': 3525, 'tâm mẹ': 3520, 'đi đcm': 4089, 'đcm còn': 4027, 'còn potâm': 728, 'đàn_bà như_vậy': 4142, 'như_vậy như': 2576, 'như thôi': 2569, 'ban': 52, 'linh': 1723, 'nguoi': 2431, 'chuẩn_bị': 386, 'xách': 3873, 'buòi': 112, 'chạy': 450, 'kịp': 1681, 'đánh_giá': 4176, 'tải xong': 3581, 'giả_vờ': 1183, 'qué': 2920, 'trứng': 3473, 'rán': 2967, 'trứng rán': 3475, 'friend': 1120, 'nước_mắt': 2762, 'chị cười': 504, 'gớt nước_mắt': 1296, 'nhớ': 2606, 'vụ': 3813, 'bé': 144, 'tự_tử': 3634, 'xúc': 3888, 'vật': 3767, 'theanh': 3171, 'nhớ vụ': 2607, 'vụ bé': 3814, 'bé tự_tử': 147, 'tự_tử bọn': 3635, 'bọn xúc': 244, 'xúc vật': 3889, 'vật theanh': 3768, 'ăn': 3989, 'nhất': 2594, 'trả': 3451, 'về': 3780, 'sản_xuất': 3087, 'chồng quá': 530, 'quá còn': 2912, 'còn này': 726, 'này gái': 2677, 'gái đĩ': 1244, 'đĩ già_mồm': 4237, 'già_mồm bảo': 1164, 'bảo đây': 189, 'đây ko': 4184, 'ko gì': 1629, 'gì ko': 1252, 'gì vào': 1255, 'vào đấy': 3713, 'đấy ăn': 4282, 'ăn cứt': 3992, 'cứt cách': 860, 'cách nhất': 688, 'nhất ông': 2595, 'chồng ko': 526, 'ko nhiều': 1638, 'nhiều trả': 2523, 'trả về': 3452, 'về sản_xuất': 3784, 'mỡ': 2330, 'hướng': 1446, 'rán mỡ': 2969, 'mỡ xách': 2332, 'xách cl': 3874, 'cl chạy': 594, 'chạy hướng': 451, 'lê': 1845, 'mắc mệt': 2230, 'mệt ghê': 2293, 'xử_lý': 3923, 'đau': 4013, 'cccc': 327, 'nho cccc': 2527, 'anh_trai': 32, 'giẻ': 1191, 'rách': 2965, 'giẻ rách': 1192, 'điên dễ_thương': 4105, 'dễ_thương trời': 1062, 'trời nói': 3472, 'nói kiểu': 2739, 'kiểu dẹo': 1609, 'dẹo dẹo': 1044, 'dẹo đập': 1050, 'đập vô': 4301, 'vô mặt': 3740, 'mặt ghê': 2246, 'ghe': 1125, 'ngáo': 2448, 'hành': 1388, 'moa': 2047, 'cai': 298, 'la': 1684, 'cai thu': 303, 'bo la': 93, 'la vua': 1688, 'bổ': 266, 'đth': 4124, 'ghê_z': 1137, 'tym': 3490, 'thả tym': 3256, 'cút': 758, 'sợ': 3103, 'sợ vl': 3110, 'còn để': 733, 'mong': 2053, 'mãi': 2138, 'yêu': 3929, 'anti': 34, 'gọi em': 1282, 'yêu chị': 3930, 'dũng': 1010, 'boom': 104, 'nhiêu': 2515, 'bị boom': 230, 'ấy': 4439, 'onl': 2817, 'dạng': 1028, 'này phải': 2682, 'chịu': 518, 'hư': 1441, 'mốt': 2311, 'tử_tế': 3627, 'chị đẹp': 512, 'ngoai': 2402, 'tinh': 3341, 'kho': 1531, 'ngoai tinh': 2403, 'noi chuyen': 2646, 'public': 2898, 'sdt': 3021, 'khoa': 1532, 'nguyen': 2434, 'huỳnh': 1364, 'châu': 405, 'vy': 3701, 'lăn': 1878, 'qủa': 2941, 'tân': 3532, 'nghinh': 2386, 'mê': 2143, 'nữa': 2806, 'quỷ': 2935, 'bỏ lăn': 246, 'lăn lon': 1879, 'đi bây': 4043, 'bây qủa': 141, 'qủa tân': 2942, 'tân mà': 3533, 'mà nghinh': 2084, 'nghinh mặt': 2387, 'mặt mê': 2251, 'mê trai': 2145, 'trai ba': 3387, 'ba nữa': 47, 'nữa kìa': 2807, 'kìa đồ': 1667, 'đồ con': 4360, 'con quỷ': 640, 'tiệt': 3355, 'vời': 3790, 'con_gái': 650, 'giọng con_gái': 1201, 'cũ': 764, 'lao': 1700, 'dai': 871, 'tra': 3384, 'hây': 1398, 'biết nhục': 79, 'nhìu': 2557, 'chào đi': 395, 'bái': 133, 'công_an': 749, 'tóm': 3548, 'phường': 2871, 'tóm đc': 3549, 'đứng_tuổi': 4390, 'khoe': 1535, 'mông': 2155, 'bự': 284, 'bò': 163, 'mũi bự': 2167, 'bự mũi': 285, 'mũi bò': 2165, 'miếng': 2024, 'đói': 4215, 'mãi anti': 2139, 'bình': 153, 'tỉnh': 3595, 'chồng bình': 523, 'bình tỉnh': 154, 'gảnh': 1269, 'ai gảnh': 12, 'uầy': 3644, 'zl': 3939, 'môi': 2153, 'thử ngậm': 3326, 'ngậm môi': 2466, 'môi đi': 2154, 'peng': 2833, 'suss': 3062, 'ngửi': 2492, 'peng suss': 2834, 'suss ngửi': 3063, 'ngửi mùi': 2493, 'dô': 1000, 'add': 3, 'ước': 4427, 'dizz': 930, 'chetme': 346, 'ước gặp': 4428, 'gặp anti': 1274, 'anti dizz': 36, 'dizz chetme': 931, 'ăn_nói': 3997, 'dạybỏ': 1032, 'ơiloại': 4420, 'cặn_bã': 825, 'ngoài': 2408, 'rùi': 2978, 'đcm đỉ': 4029, 'đỉ đéo': 4334, 'đéo nhục': 4191, 'nhục còn': 2612, 'còn ăn_nói': 732, 'ăn_nói dạybỏ': 3998, 'dạybỏ mẹ': 1033, 'đi ơiloại': 4097, 'ơiloại cặn_bã': 4421, 'cặn_bã ngoài': 826, 'ngoài xã_hội': 2409, 'xã_hội nhiều': 3879, 'nhiều lắm': 2519, 'lắm rùi': 1919, 'app': 41, 'ko chị': 1625, 'eo': 1096, 'ảnh': 4431, 'stream': 3051, 'sưng': 3079, 'live stream': 1731, 'bị sưng': 231, 'thính': 3236, 'thả thính': 3255, 'fan': 1106, 'dương': 1025, 'thị': 3312, 'hoàng': 1350, 'đánh_ghen': 4175, 'đàn_ông đàn_bà': 4153, 'vẩu_thế': 3764, 'bao_giờ': 57, 'núp': 2756, 'múa': 2160, 'phím': 2857, 'bàn': 129, 'thiên_hạ': 3182, 'chẳng bao_giờ': 472, 'bao_giờ like': 58, 'like mấy': 1718, 'mấy page': 2214, 'page rác_rưởi': 2825, 'rác_rưởi toàn': 2964, 'toàn bọn': 3380, 'bọn núp': 240, 'núp nhà': 2757, 'nhà múa': 2537, 'múa phím': 2161, 'phím bàn': 2858, 'bàn thiên_hạ': 130, 'tỏ': 3597, 'răng': 2983, 'màn_hình': 2092, 'vỡ': 3791, 'thay': 3168, 'tốn': 3601, 'cười thôi': 791, 'vỡ màn_hình': 3792, 'tốn tiền': 3603, 'kì': 1662, 'kì ta': 1664, 'alo': 15, 'đại_ca': 4263, 'rỏ': 2994, 'chốt': 520, 'chốt đơn': 521, 'nc vs': 2356, 'vs trai': 3693, 'trai dẹo': 3390, 'kute': 1652, 'cmt anti': 614, 'rp': 2952, 'chúng_nó': 438, 'trang': 3401, 'bẩn': 194, 'rp chúng_nó': 2953, 'chúng_nó mẹ': 439, 'mẹ trang': 2286, 'trang bẩn': 3403, 'xin_lỗi': 3839, 'cô_hồn': 747, 'đến': 4318, 'tháng': 3213, 'chúng_mày': 437, 'xin_lỗi xong': 3845, 'đường': 4254, 'ngoài đường': 2410, 'thg': 3176, 'ăn_ở': 4003, 'khốn_nạn': 1582, 'niềng': 2623, 'tiếp': 3345, 'tiếp đi': 3346, 'kiến': 1600, 'phong': 2845, 'nguyễn kiến': 2440, 'kiến phong': 1601, 'dthw': 958, 'chj': 358, 'gọi đi': 1290, 'đi chj': 4044, 'tâm dễ_thương': 3512, 'quan_tâm': 2904, 'sn': 3042, 'tổ_chức': 3608, 'mút': 2162, 'luôn': 1785, 'xl': 3856, 'láo': 1834, 'đá': 4158, 'lỗ': 1952, 'mâm': 2133, 'nạo': 2764, 'lỗ mũi': 1953, 'hàm_răng nạo': 1383, 'nạo dừa': 2765, 'noa': 2643, 'nâu': 2689, 'con mắt': 636, 'mắt noa': 2236, 'noa nâu': 2644, 'nâu đi': 2690, 'helo': 1317, 'nhó': 2563, 'helo nhó': 1318, 'má mắc': 2118, 'mắc cười': 2229, 'sức_mạnh': 3114, 'đắp': 4303, 'vữa': 3819, 'thẳng_thế': 3295, 'mũi đắp': 2193, 'đắp vữa': 4304, 'vữa thẳng_thế': 3820, 'nể': 2779, 'chia': 350, 'bo đi': 100, 'vứt': 3815, 'phò': 2859, 'vl hàm_răng': 3680, 'dừa hả': 1078, 'hả phò': 1457, 'sướng': 3081, 'ghen_tị': 1127, 'cười ỉa': 796, 'tim': 3339, 'hối_hận': 1489, 'anh ck': 22, 'hơi': 1437, 'tâm xinh': 3526, 'xinh mũi': 3849, 'tâm hơi': 3517, 'hơi to': 1439, 'má nổi': 2120, 'idol': 1507, 'đi kia': 4057, 'địt_mẹ mày': 4344, 'tắt mịa': 3590, 'mịa đi': 2299, 'ơi nam': 4412, 'nam tắt': 2348, 'tắt lắm': 3588, 'vợ câm': 3797, 'câm mồm': 716, 'ý_định': 3986, 'thời_gian': 3320, 'có ý_định': 737, 'vợ là': 3803, 'lấy vợ': 1911, 'cụ': 845, 'miếng là': 2025, 'là miếng': 1799, 'miếng nhục': 2026, 'sừng': 3115, 'tải cl': 3579, 'cl về': 598, 'về sừng': 3785, 'có_thể': 742, 'đc ko': 4020, 'troi': 3413, 'danh': 888, 'mot': 2056, 'nhục_nhã': 2614, 'chị trần': 508, 'hoa': 1340, 'thần_kinh': 3271, 'ham': 1310, 'bày_đặt': 132, 'hốt': 1490, 'liền': 1739, 'chết liền': 490, 'cái page': 704, 'chiện': 355, 'live chiện': 1729, 'chiện xàm': 357, 'xàm lồn': 3869, 'lồn live': 1939, 'cave': 316, 'dái': 980, 'nuôi': 2660, 'ảnh sợ': 4433, 'ảo': 4436, 'hít': 1415, 'shipper': 3029, 'che sđt': 343, 'mấy shipper': 2216, 'cốc': 834, 'cốc_cốc': 836, 'cốc cốc_cốc': 835, 'học phò': 1481, 'phò có': 2861, 'dân_trí': 988, 'các': 686, 'cháu': 399, 'nhà_trường': 2540, 'chuyện': 384, 'bt': 106, 'đấy là': 4276, 'tuyệt': 3484, 'thần': 3270, 'mình ko': 2147, 'ko thử': 1646, 'khổ': 1583, 'cuộc_sống': 677, 'chet': 344, 'no_di': 2642, 'danh chet': 889, 'chet me': 345, 'me no_di': 2013, 'đứng': 4388, 'giải': 1184, 'yhichs': 3927, 'nhừ_tử': 2616, 'đửi': 4400, 'khỏi': 1580, 'thứ đàn_bà': 3323, 'đàn_bà vậy_mà': 4149, 'vậy_mà đứng': 3775, 'đứng giải': 4389, 'giải yhichs': 1185, 'yhichs chi': 3928, 'chi đánh': 349, 'nó nhừ_tử': 2727, 'nhừ_tử đửi': 2617, 'đửi khỏi': 4401, 'đái': 4161, 'quần': 2927, 'ơi đái': 4414, 'đái quần': 4162, 'chém': 408, 'chém chết': 409, 'buồn mà': 120, 'sao đc': 3016, 'clm mũi': 604, 'mất_nết': 2209, 'xấu vl': 3909, 'bánh': 135, 'rầm_rộ': 2991, 'qua': 2901, 'nhảm': 2591, 'bánh mà': 137, 'lồnnnn': 1947, 'vác': 3716, 'cám': 708, 'mày đi': 2109, 'vác cám': 3717, 'phân': 2852, 'tr': 3383, 'đăng mấy': 4231, 'xem': 3832, 'đỉnh': 4336, 'mũi đỉnh': 2195, 'bỏ_mẹ': 253, 'như_vậy đúng': 2577, 'đàn_bà hư': 4139, 'đm mặt': 4115, 'thấy ghét': 3265, 'cải': 802, 'ngờ': 2478, 'vợ cải': 3799, 'lớn_tuổi': 1966, 'chủ': 544, 'kem': 1518, 'bạn chủ': 178, 'chủ bánh': 545, 'bánh kem': 136, 'tội': 3610, 'vì': 3735, 'tổ': 3607, 'đội': 4368, 'đưa': 4253, 'xa': 3826, 'clip': 601, 'bé đi': 148, 'may': 2001, 'thang': 3160, 'se': 3022, 'den': 909, 'voi': 3689, 'les': 1708, 'les đi': 1709, 'sml': 3040, 'ai gọi': 13, 'gọi chửi': 1281, 'chửi sml': 566, 'sml ta': 3041, 'quyền': 2910, 'đi đường': 4093, 'đường quyền': 4258, 'đĩ giả_tạo': 4238, 'tội_nghiệp': 3616, 'đại': 4261, 'thú': 3247, 'mik': 2019, 'giúp': 1177, 'nhé': 2552, 'ib nhé': 1506, 'củ': 847, 'lìn': 1853, 'nghĩ': 2394, 'lun': 1780, 'hoang': 1341, 'dang hoang': 887, 'lệch': 1923, 'dap': 896, 'chèt': 406, 'di_roi': 918, 'dap chèt': 897, 'chèt me': 407, 'me no': 2012, 'no di_roi': 2632, 'di_roi bo': 919, 'nổ': 2784, 'xinh ghê': 3848, 'người_ta': 2457, 'chửi hả': 560, 'đầy_đủ': 4292, 'lời': 1968, 'nhắn_tin': 2601, 'qua_lại': 2902, 'hư_thân': 1444, 'liên_sĩ': 1737, 'hy_vọng': 1366, 'mắn': 2232, 'thành_công': 3208, 'phụ_nữ ngu': 2888, 'ngu ck': 2427, 'lo đầy_đủ': 1745, 'đầy_đủ ko': 4293, 'ko mê': 1637, 'mê lời': 2144, 'lời nhắn_tin': 1969, 'nhắn_tin qua_lại': 2602, 'qua_lại cuối_cùng': 2903, 'cuối_cùng sẽ': 676, 'sẽ chấp_nhận': 3096, 'chấp_nhận người': 461, 'người hư_thân': 2454, 'hư_thân mất_nết': 1445, 'mất_nết ko': 2210, 'ko liên_sĩ': 1632, 'liên_sĩ như_vậy': 1738, 'như_vậy hy_vọng': 2575, 'hy_vọng chồng': 1367, 'chồng mai': 527, 'mai mắn': 1990, 'mắn thành_công': 2233, 'thành_công trong': 3209, 'trong cuộc_sống': 3415, 'khúc': 1570, 'phút': 2866, 'trối_chết': 3468, 'hiền là': 1334, 'là hiền': 1797, 'hiền khúc': 1333, 'khúc đm': 1571, 'đm một': 4116, 'một phút': 2322, 'phút trối_chết': 2867, 'cj dễ_thương': 576, 'pr': 2896, 'tưởng': 3564, 'địa_chỉ': 4337, 'gấp': 1270, 'xưởng': 3892, 'chuyên': 383, 'hà_nội': 1371, 'ghê_vl': 1136, 'hạnh_phúc': 1453, 'khac': 1524, 'phu': 2846, 'nu': 2653, 'may_mắn': 2003, 'phu nu': 2847, 'mọi': 2302, 'đầu_thai': 4289, 'uống': 3645, 'canh': 309, 'tính': 3540, 'ăn_vụng': 4001, 'làm chó': 1813, 'thuê': 3197, 'cát': 709, 'cát xê': 710, 'di_do': 916, 'mat': 1997, 'net': 2365, 'nay': 2350, 'nhin': 2512, 'trai ma': 3394, 'danh no': 891, 'no mot': 2639, 'mot tran': 2057, 'mat net': 1998, 'nay mat': 2351, 'xinhhh': 3853, 'mồm đi': 2318, 'ạnếu': 4429, 'rep': 2947, 'ddc': 903, 'cm': 607, 'loại mày': 1772, 'mày làm': 2103, 'làm đĩ': 1821, 'đĩ chó': 4234, 'chó ạnếu': 427, 'ạnếu rep': 4430, 'rep ddc': 2948, 'ddc cm': 904, 'cm mày': 608, 'mày là': 2102, 'là con': 1795, 'con phò': 639, 'phò chó': 2860, 'bằng': 218, 'cộng_đồng': 839, 'diss': 923, 'uyên sợ': 3640, 'sợ cộng_đồng': 3106, 'cộng_đồng anti': 840, 'anti diss': 35, 'diss mới': 925, 'mới mọi': 2327, 'mọi đừng': 2303, 'chị_gái': 515, 'nhe': 2506, 'lol nhe': 1756, 'ứng_dụng': 4453, 'goodnight': 1238, 'link': 1724, 'gọi tâm': 1289, 'gượng': 1268, 'cố': 833, 'ăn mà': 3993, 'mà mũi': 2083, 'mũi đẹp': 2194, 'thế_thì': 3307, 'anti gọi': 37, 'chửi cm': 559, 'ah': 6, 'ngày': 2447, 'giết': 1193, 'vợ bỏ': 3796, 'bỏ đi': 250, 'đi ah': 4042, 'ah kg': 7, 'dkm phò': 943, 'phò đúng': 2863, 'đúng gái': 4226, 'già_mồm có': 1165, 'ckào': 592, 'đj': 4112, 'huhu': 1357, 'mặt mâm': 2250, 'vào_cuộc': 3714, 'sim': 3035, 'khu_vực': 1540, 'bán': 134, 'công_an vào_cuộc': 751, 'con_cái': 649, 'mừng': 2337, 'cặp': 827, 'thèm': 3221, 'tán': 3497, 'trai là': 3392, 'đỗ': 4367, 'xxx': 3866, 'xử': 3921, 'dân mạng': 987, 'kệ': 1674, 'kệ con_mẹ': 1675, 'lồn to': 1941, 'mỏi': 2309, 'dùm': 1004, 'mụ': 2334, 'mặt_dày': 2265, 'dám': 981, 'vác_mặt': 3718, 'lòi': 1854, 'rẻ_tiền': 2992, 'xấu_hổ': 3912, 'nứng': 2794, 'dử': 1080, 'hảngậm': 1464, 'mụ vk': 2336, 'vk nhục_nhã': 3673, 'nhục_nhã đi': 2615, 'đi mặt_dày': 4067, 'mặt_dày thiệt': 2268, 'thiệt dám': 3184, 'dám vác_mặt': 983, 'vác_mặt nhà': 3719, 'nhà ck': 2535, 'ck lấy': 586, 'lấy đồ': 1912, 'đồ ck': 4359, 'ck hiền': 580, 'hiền nè': 1335, 'nè tui': 2703, 'tui tui': 3481, 'tui đánh': 3482, 'đánh lòi': 4170, 'lòi lồn': 1855, 'lồn đĩ': 1946, 'đĩ rẻ_tiền': 4243, 'rẻ_tiền nhục': 2993, 'nhục làm': 2613, 'làm xấu_hổ': 1819, 'xấu_hổ phụ_nữ': 3913, 'phụ_nữ nứng': 2889, 'nứng lồn': 2799, 'lồn dử': 1934, 'dử lắm': 1081, 'lắm hảngậm': 1918, 'hảngậm bú': 1465, 'bú cu': 170, 'cu ck': 663, 'ck không': 582, 'không bằng': 1562, 'bằng bú': 219, 'cu thằng': 664, 'fame': 1103, 'bú fame': 172, 'fame nha': 1105, 'điện_thoại': 4108, 'cj cj': 575, 'gương_mặt': 1266, 'kèm': 1653, 'gương_mặt giả_tạo': 1267, 'giả_tạo kèm': 1180, 'kèm những': 1654, 'những xạo': 2621, 'căng': 761, 'vợ căng': 3798, 'căng của': 762, 'của xã_hội': 850, 'xã_hội bỏ': 3877, 'chun': 379, 'buộc': 122, 'vl chun': 3677, 'chun buộc': 380, 'buộc tóc': 123, 'tóc mình': 3546, 'cc mầy': 325, 'bớt xạo': 277, 'nhắc': 2600, 'duyên': 977, 'nhaaaaa': 2503, 'ly': 1790, 'chuẩn': 385, 'lozzz': 1768, 'ngoắt': 2414, 'ngoắt ngoắt': 2415, 'li': 1711, 'hung': 1358, 'phục': 2891, 'này mặt': 2681, 'trâu mỏ': 3431, 'mỏ ngoắt': 2308, 'dô coi': 1001, 'đi nè': 4077, 'iu': 1512, 'nhu vay': 2530, 'bắp': 208, 'bơ': 175, 'cị': 830, 'cị xấu': 831, 'xấu vcl': 3907, 'qa': 2899, 'dạo': 1029, 'òi': 3969, 'ca': 288, 'cháy': 400, 'bất_cái': 191, 'lz': 1792, 'bất_cái lz': 192, 'khùng mày': 1569, 'mày ngu': 2104, 'dm': 944, 'vcut': 3661, 'dm xấu': 948, 'xấu vcut': 3908, 'sinh_nhật': 3038, 'tha_thứ': 3158, 'bánh sinh_nhật': 139, 'chàng': 391, 'tội chàng': 3611, 'chàng trai': 392, 'my': 2074, 'gội': 1292, 'my nguyễn': 2075, 'nguyễn gội': 2439, 'gội đầu': 1293, 'đầu vẫn': 4288, 'vẫn xấu': 3766, 'xấu giọng': 3906, 'giọng sợ': 1212, 'sợ lun': 3107, 'stt': 3052, 'đầy': 4291, 'lươn_lẹo': 1888, 'buồi': 113, 'đầu buồi': 4285, 'buồi tâm': 115, 'kkkkkk': 1618, 'có_dễ': 739, 'tù_tội': 3559, 'ghê_thiệt': 1133, 'chết hả': 488, 'hả kkkkkk': 1455, 'kkkkkk có_dễ': 1619, 'có_dễ chết': 740, 'chết lôi': 492, 'lôi ngta': 1864, 'ngta tù_tội': 2419, 'tù_tội ghê_thiệt': 3560, 'đi giả_tạo': 4054, 'giả_tạo vl': 1182, 'tâm gọi': 3514, 'gọi nào': 1284, 'nào bú': 2668, 'cu đi': 665, 'tội đại': 3614, 'kết': 1673, 'hóng kết': 1422, 'dau': 898, 'đi có': 4048, 'giải_thích chi': 1188, 'ashley': 44, 'ashley vào': 45, 'tâm rán': 3523, 'nãy_giờ': 2694, 'đòi': 4204, 'thế': 3296, 'tự_hào': 3629, 'mẹ đòi': 2291, 'đòi nuôi': 4206, 'nuôi làm': 2661, 'làm thế': 1817, 'thế tội': 3300, 'tội con': 3612, 'con sau_này': 642, 'sau_này lên': 3019, 'lên không': 1847, 'không dám': 1563, 'dám tự_hào': 982, 'tự_hào mẹ': 3630, 'ý_kiến': 3983, 'ý_kiến lồn': 3984, 'đợi': 4377, 'bộ': 268, 'hộ': 1497, 'chị_em': 514, 'dẹo hộ': 1046, 'tô': 3550, 'hc': 1315, 'giận': 1190, 'đi nha': 4071, 'xuyên_tạc': 3862, 'chưa': 445, 'ăn_cắp': 3994, 'phạt': 2875, 'page thấy': 2826, 'thấy mùi': 3267, 'mùi xàm': 2159, 'xàm xuyên_tạc': 3871, 'xuyên_tạc mấy': 3863, 'mấy đầu': 2221, 'đầu chưa': 4286, 'chưa còn': 446, 'còn ăn_cắp': 731, 'ăn_cắp page': 3995, 'page về': 2828, 'về đăng': 3786, 'đăng mong': 4230, 'mong cno': 2054, 'cno phạt': 617, 'phạt và': 2876, 'và bay': 3705, 'bay cmn': 62, 'cmn page': 611, 'page đi': 2830, 'cỡ': 844, 'làm_quen': 1824, 'đanh': 4011, 'đo': 4121, 'block': 84, 'đựu': 4404, 'gì block': 1250, 'block fb': 86, 'fb đựu': 1114, 'sử quá': 3118, 'đi thằng': 4085, 'lỡ': 1971, 'zai': 3933, 'xaolon': 3829, 'lỡ zai': 1972, 'zai đếy': 3935, 'đếy coi': 4321, 'coi thì': 623, 'thì ms': 3229, 'ms bt': 2063, 'bt đc': 107, 'đc xaolon': 4024, 'câu_chuyện': 720, 'lướt': 1890, 'tôi': 3551, 'đem': 4030, 'siêu': 3039, 'trường': 3449, 'chữ': 568, 'hot_girl': 1348, 'ôi': 3975, 'nước': 2761, 'scandal': 3020, 'thế thì': 3299, 'vkl': 3675, 'ank': 33, 'sợ đấy': 3111, 'thân': 3216, 'vầy': 3759, 'thuê đuma': 3199, 'đuma nói_chuyện': 4129, 'nói_chuyện fan': 2747, 'fan thân': 1109, 'thân vầy': 3217, 'vầy địt_mẹ': 3760, 'địt_mẹ đéo': 4346, 'có_ăn': 744, 'ko mà': 1636, 'mà đòi': 2088, 'đòi có_ăn': 4205, 'ăn bánh': 3990, 'tát': 3501, 'tát con': 3502, 'lượt': 1898, 'tàn': 3494, 'hình': 1409, 'xả': 3901, 'đixạo': 4102, 'bớt diễn': 274, 'diễn đixạo': 940, 'đixạo lồn': 4103, 'bệnh': 225, 'sưng hả': 3080, 'nguyên bánh': 2436, 'lô cac': 1859, 'tủi': 3621, 'đi đừng': 4095, 'đừng nó': 4396, 'nyc': 2664, 'mặt to': 2255, 'giới_thiệu': 1225, 'đũy': 4248, 'ăn_theo nghiệp': 4000, 'nghiệp lắm': 2389, 'lắm đũy': 1920, 'nhỉ': 2603, 'con vợ': 644, 'cj tâm': 577, 'đẹp gái': 4311, 'gái chị': 1243, 'ngồi': 2476, 'gãy': 1245, 'là xong': 1808, 'ka': 1516, 'họ': 1478, 'nhân': 2547, 'cho hết': 362, 'tên': 3534, 'tên tôn': 3535, 'lầm nha': 1915, 'to_thế': 3371, 'ơi mũi': 4411, 'mũi to_thế': 2181, 'chết đi': 496, 'free': 1118, 'tắt con_mẹ': 3587, 'con_mẹ luôn': 653, 'dậy': 1039, 'đầu tóc': 4287, 'tóc đầu': 3547, 'buồi dậy': 114, 'buoi': 110, 'đầu buoi': 4284, 'buoi an': 111, 'an cứt': 17, 'nhỡ': 2610, 'đi đi': 4090, 'tâm_lý': 3531, 'thông_tin': 3244, 'tốt': 3604, 'câu': 717, 'gói': 1262, 'gói về': 1263, 'tao tao': 3146, 'đánh kẻ': 4169, 'kẻ chạy': 1672, 'chạy đi': 452, 'hơi hô': 1438, 'khánh': 1549, 'đọng': 4353, 'họng': 1484, 'cave me': 318, 'me đi': 2016, 'đi nhìu': 4074, 'nhìu đọng': 2559, 'đọng họng': 4354, 'chân_thành': 404, 'nói lời': 2742, 'xin_lỗi chân_thành': 3840, 'to xấu': 3369, 'tức': 3622, 'ảnh_hưởng': 4434, 'tội mấy': 3613, 'thằng xàm': 3291, 'xàm vãi': 3870, 'thô': 3237, 'chỉnh': 499, 'mũi thô': 2179, 'thô lên': 3238, 'lên live': 1848, 'live chỉnh': 1730, 'chỉnh đc': 500, 'vđ': 3756, 'xấu vđ': 3911, 'một_chút': 2323, 'duma': 967, 'thua': 3191, 'thua đĩ': 3192, 'cũng_nên': 773, 'chủ_nhân bánh': 548, 'cuộc_đời': 678, 'nãy': 2693, 'đường chị': 4255, 'chửi chết': 558, 'trộn': 3470, 'pr kem': 2897, 'kem trộn': 1519, 'nick': 2622, 'fake': 1102, 'beat': 64, 'đặt_hàng': 4308, 'khó_chịu': 1555, 'mà_lại': 2091, 'dùng': 1005, 'lúc': 1870, 'mang_tiếng': 1995, 'acc': 0, 'thế_là': 3303, 'khóc': 1558, 'boom hàng': 105, 'anh shipper': 28, 'chết sống': 494, 'hơn': 1440, 'bẹt': 222, 'mũi bẹt': 2166, 'kén': 1656, 'chơi': 442, 'chung': 381, 'trash': 3405, 'pháp_luật': 2849, 'tụi': 3620, 'tin': 3340, 'theo': 3173, 'chuỗi': 387, 'cau': 314, 'hả_giận': 1459, 'con đi': 645, 'đi tao': 4081, 'tao chuỗi': 3140, 'chuỗi cau': 388, 'cau cho': 315, 'cho hả_giận': 361, 'đột': 4370, 'lốt': 1929, 'quỳnh_trang': 2934, 'mai phương': 1991, 'phương quỷ': 2870, 'quỷ đột': 2936, 'đột lốt': 4371, 'lốt page': 1930, 'page bẩn': 2819, 'bẩn nguyễn': 195, 'nguyễn quỳnh_trang': 2444, 'di_a': 912, 'đâm': 4179, 'đâm chết': 4180, 'đung': 4130, 'chong': 372, 'xíu': 3885, 'đừng cười': 4393, 'cười sợ': 790, 'phép': 2855, 'chủ cái': 546, 'cái bánh': 691, 'mọc': 2300, 'thư': 3250, 'heloo': 1319, 'trông': 3441, 'giọng tâm': 1215, 'tâm cái': 3510, 'cái lol': 693, 'lol cát': 1753, 'cát zậy': 711, 'coi tức': 624, 'mũi ghê': 2169, 'vl cứt': 3678, 'võ': 3748, 'hào': 1390, 'rảnh': 2989, 'sinh': 3036, 'sau': 3017, 'chút': 440, 'kê': 1658, 'sát': 3065, 'chút đi': 441, 'đi kê': 4059, 'hân': 1397, 'mặt sưng': 2254, 'rác': 2955, 'likes': 1721, 'du': 959, 'diên': 932, 'chòi': 417, 'ghê_á': 1138, 'cắn': 817, 'nai': 2342, 'đối_diện': 4355, 'đồ đàn_bà': 4362, 'xử_lý đẹp': 3925, 'style': 3053, 'mái': 2124, 'nồi': 2782, 'đổi style': 4366, 'style cái': 3054, 'cái mái': 699, 'mái cute': 2125, 'cute vãi': 674, 'vãi nồi': 3730, 'thiên': 3180, 'nge': 2377, 'hahha': 1305, 'võ thị': 3750, 'thị thiên': 3314, 'thiên trang': 3181, 'trang giọng': 3404, 'giọng đây': 1216, 'đây nge': 4185, 'nge nứng': 2378, 'nứng vãi': 2800, 'vãi hahha': 3726, 'tâm cute': 3509, 'phệt': 2885, 'phệt nói': 2886, 'nói gì': 2737, 'mỏ mỏ': 2307, 'mỏ lồn': 2306, 'mũi dị': 2168, 'dị vo': 1066, 'mưa': 2198, 'nháy': 2546, 'bố': 259, 'bố mày': 260, 'thể': 3309, 'dẹo hả': 1045, 'tình': 3537, 'nợ': 2792, 'bắn': 206, 'trúng': 3444, 'đích': 4202, 'năm': 2759, 'phạm': 2872, 'hiểu': 1336, 'gọi trúng': 1287, 'vợ mặt_dày': 3805, 'mặt_dày cái': 2266, 'cái mo': 698, 'tự_nhiên': 3631, 'to_vậy': 3372, 'tự_nhiên mũi': 3633, 'mũi to_vậy': 2182, 'chờ': 539, 'cũng ngoài': 771, 'said': 3010, 'gét': 1246, 'ngứa đích': 2491, 'đích qá': 4203, 'qá chj': 2940, 'dơ': 1011, 'hôm_nay': 1430, 'quên': 2922, 'ốm': 4442, 'trò': 3440, 'mầy tâm': 2226, 'thằng chồng': 3282, 'khép': 1552, 'xạol': 3899, 'bớt xạol': 278, 'xạol đi': 3900, 'ko sao': 1642, 'oi': 2812, 'lo lo': 1744, 'lo cc': 1743, 'hồng': 1493, 'hồng hà': 1495, 'rate': 2946, 'nhạt_nhẽo': 2590, 'hien': 1326, 'tiếng': 3343, 'bắc': 201, 'tiếng bắc': 3344, 'pham': 2838, 'pham thu': 2839, 'xử_lý hay': 3924, 'đàn_bà bỏ': 4137, 'sản_xuất đi': 3088, 'công': 748, 'gọi nữ': 1286, 'nữ đi': 2805, 'nch vs': 2363, 'giọng dẹo': 1204, 'nócho': 2733, 'vênh_vênh': 3733, 'mặtxem': 2271, 'taycái': 3153, 'bạt': 181, 'chắc': 465, 'chó đm': 425, 'đm nócho': 4117, 'nócho thằng': 2734, 'thằng đụ': 3293, 'đụ còn': 4379, 'còn vênh_vênh': 729, 'vênh_vênh mặtxem': 3734, 'mặtxem ngứa': 2272, 'ngứa taycái': 2489, 'taycái mặt': 3154, 'mặt chó': 2244, 'chó mà': 421, 'mà đập': 2090, 'đập mấy': 4299, 'mấy bạt': 2212, 'bạt chắc': 182, 'mặt lồn': 2249, 'uôi': 3642, 'ginjg': 1157, 'nóng': 2754, 'ấm': 4438, 'uôi tâm': 3643, 'tâm bú': 3506, 'bú cặc': 171, 'cặc nhìu': 823, 'nhìu nên': 2558, 'nên ginjg': 2711, 'ginjg nóng': 1158, 'nóng đéo': 2755, 'đéo ấm': 4196, 'đuổi': 4132, 'đống': 4357, 'tài_sản': 3491, 'nặng': 2774, 'bắt ghen': 213, 'đuổi đi': 4133, 'miệng': 2033, 'cười mà': 787, 'khép miệng': 1553, 'trơ_trẽn': 3446, 'lay': 1702, 'tieng': 3332, 'dem': 907, 'du ma': 961, 'ma dan': 1984, 'dan lay': 882, 'lay trai': 1704, 'trai lon': 3391, 'lon tieng': 1762, 'tieng nua': 3333, 'nua loai': 2655, 'loai dem': 1748, 'dem ca': 908, 'ca an': 289, 'an me': 19, 'me roi': 2014, 'hả_hê': 1460, 'ca_sĩ': 291, 'đạo': 4266, 'hả_hê trc': 1461, 'trc toàn': 3407, 'toàn đăng': 3382, 'đăng ca_sĩ': 4229, 'ca_sĩ ca_sĩ': 292, 'ca_sĩ kia': 293, 'kia đạo': 1591, 'đạo nhạc': 4267, 'nhạc page': 2584, 'thân_thiện': 3219, 'tình_huống': 3538, 'áp': 3963, 'đeo áp': 4036, 'áp bồ': 3964, 'sung_sướng': 3059, 'sung_sướng rồi': 3060, 'rồi nứng': 2999, 'di_anh': 913, 'loan': 1749, 'met': 2017, 'bo no': 97, 'no di_anh': 2631, 'di_anh co': 914, 'anti đi': 38, 'đi nó': 4078, 'nó chửi': 2720, 'con_mẹ mày': 655, 'xúc_phạm': 3890, 'thích': 3235, 'thèm nch': 3224, 'vs đéo': 3694, 'ổn': 4445, 'toi': 3376, 'ơi miệng': 4410, 'miệng to_thế': 2034, 'dao': 892, 'sọt': 3097, 'xứng_đáng': 3919, 'này giết': 2676, 'giết chết': 1194, 'chết dơ': 487, 'dơ dao': 1012, 'dao cái': 893, 'cái loại': 694, 'loại đàn_bà': 1776, 'hư thúi': 1443, 'thúi sọt': 3249, 'sọt rác': 3098, 'rác rồi': 2959, 'rồi không': 2998, 'không xứng_đáng': 1565, 'xứng_đáng vợ': 3920, 'vợ em': 3800, 'em đâu': 1092, 'tật': 3584, 'sinh tật': 3037, 'tật đó': 3585, 'that': 3167, 'binh': 73, 'tiền hồng': 3348, 'hồng ngứa': 1496, 'ngứa dái': 2488, 'bedded': 66, 'bedded đi': 67, 'mom': 2052, 'đọc cmt': 4348, 'tu': 3477, 'tu nguyen': 3478, 'ánh': 3962, 'tao mày': 3143, 'điếc': 4106, 'hùng': 1435, 'chặt': 480, 'gí': 1258, 'lèm_bèm': 1844, 'chặt lệch': 481, 'lệch phải': 1924, 'phải chân': 2878, 'chân trái': 403, 'trái nhiều': 3426, 'nhiều gí': 2518, 'gí lồn': 1259, 'lồn lèm_bèm': 1940, 'vô_duyên': 3743, 'hài_hước': 1375, 'tồn_tại': 3606, 'xin_lỗi thì': 3843, 'hình_như đéo': 1411, 'đg': 4037, 'mặt cho': 2243, 'uot': 3638, 'nhạt vc': 2587, 'vc uot': 3657, 'đm xấu': 4120, 'banh': 53, 'đéo đéo': 4194, 'mà chán': 2077, 'xiên': 3854, 'máy': 2131, 'nhát': 2545, 'này ko': 2678, 'ko tát': 1648, 'tát nào': 3503, 'nào vui': 2670, 'vui mẹ': 3699, 'mẹ hóng': 2276, 'hóng cái': 1421, 'cái tát': 705, 'tát xiên': 3504, 'xiên máy': 3855, 'máy nhát': 2132, 'điệu': 4110, 'chảy': 457, 'rớt': 3001, 'điệu chảy': 4111, 'chảy rớt': 458, 'rớt lol': 3002, 'tha lỗi': 3157, 'khốn': 1581, 'no đi': 2640, 'đi loại': 4061, 'cơ': 775, 'lên_tiếng': 1851, 'muộn': 2070, 'like page': 1719, 'page lâu': 2821, 'lâu nó': 1837, 'nó nhiều': 2726, 'nhiều rác': 2522, 'rác cơ': 2956, 'cơ lạ': 776, 'lạ giờ': 1900, 'giờ page': 1228, 'page lên_tiếng': 2822, 'lên_tiếng đấy': 1852, 'đấy muộn': 4277, 'muộn hơn': 2072, 'đền': 4324, 'khắc': 1574, 'vết': 3778, 'sẹo': 3093, 'đập vỡ': 4302, 'vỡ mặt': 3793, 'mặt đĩ': 2262, 'già_mồm đi': 1168, 'ah loại': 8, 'loại vợ': 1775, 'vợ vậy': 3809, 'vậy khắc': 3770, 'khắc vết': 1575, 'vết sẹo': 3779, 'sẹo mặt': 3094, 'dzui': 979, 'tâm đừng': 3530, 'xuân': 3864, 'đại_học': 4265, 'mã': 2136, 'điii': 4101, 'bêdde': 149, 'bêdde đi': 150, 'dị vl': 1065, 'tot': 3378, 'dep': 910, 'nga': 2371, 'mà xấu': 2086, 'vl dị': 3679, 'heloo mã': 1320, 'mã mẹ': 2137, 'đuma là': 4128, 'là thuê': 1806, 'thuê đéo': 3200, 'đéo nói_chuyện': 4192, 'thân đâu': 3218, 'đâu đuma': 4182, 'choi': 369, 'choi les': 370, 'thương': 3252, 'cbi': 322, 'vô_học': 3745, 'xài': 3867, 'là ng': 1802, 'lông_mày': 1867, 'phật': 2882, 'lan': 1698, 'đọc đi': 4352, 'tưởng bảo': 3565, 'chau': 338, 'ngan': 2372, 'ngoc': 2405, 'diễm': 933, 'góc': 1260, 'thỏ': 3316, 'chau ngan': 339, 'ngan ngoc': 2373, 'ngoc nguyễn': 2406, 'nguyễn ngọc': 2442, 'ngọc hồng': 2472, 'hồng diễm': 1494, 'diễm phạm': 934, 'phạm ngọc': 2873, 'ngọc khánh': 2473, 'khánh góc': 1550, 'góc giống': 1261, 'giống thỏ': 1221, 'hế': 1471, 'đàn_bà thì': 4144, 'fl': 1117, 'qq': 2900, 'hở': 1500, 'tâm chị': 3508, 'cười hở': 785, 'hở con_mẹ': 1501, 'con_mẹ lợi': 654, 'lợi rồi': 1976, 'học_sinh': 1483, 'thái': 3211, 'hồ': 1491, 'chí': 416, 'đánh_đập': 4177, 'chửi_bới': 567, 'thấm': 3260, 'đánh_đập gì': 4178, 'ko đc': 1649, 'cj add': 574, 'nội': 2790, 'gần': 1271, 'mặt xấu': 2259, 'zợ': 3952, 'hậu_quả': 1469, 'trọng': 3467, 'nhỏ_xíu': 2605, 'đi đồ': 4094, 'biển': 82, 'dung': 969, 'nhien': 2508, 'danh chết': 890, 'chết loai': 491, 'dan vứt': 885, 'vứt biển': 3816, 'biển dung': 83, 'dung nhien': 972, 'nhien tốn': 2509, 'tốn ca': 3602, 'ca lo': 290, 'mõm': 2156, 'diss mõm': 924, 'mõm đi': 2157, 'lịch_sự': 1926, 'ngay': 2375, 'xử_lí': 3922, 'tuyet': 3483, 'ám_ảnh': 3960, 'ám_ảnh vl': 3961, 'giả': 1178, 'trân': 3428, 'thanh_minh': 3164, 'noi lam': 2647, 'nhỏ': 2604, 'dục': 1075, 'sokiu': 3043, 'đừng nói': 4397, 'nói giọng': 2736, 'giọng kiểu': 1206, 'kiểu tỏ': 1613, 'tỏ sokiu': 3598, 'sokiu đấy': 3044, 'đấy tởm': 4281, 'tởm zl': 3619, 'zl má': 3940, 'nhầm': 2596, 'gke': 1232, 'chiện khùng': 356, 'khùng lồn': 1568, 'lồn gke': 1936, 'hahaaaa': 1304, 'quảng_cáo': 2926, 'dừng': 1079, 'vlin': 3683, 'đáng': 4163, 'iuuu': 1514, 'cứng': 857, 'fan cứng': 1107, 'cơm': 778, 'cứng nho': 858, 'trẩu': 3460, 'tre': 3408, 'nt': 2651, 'xưng': 3891, 'lây': 1838, 'bat': 60, 'nui': 2656, 'va': 3646, 'đag': 4005, 'la nguoi': 1687, 'ý_thức': 3985, 'sợ tâm': 3109, 'ốc': 4441, 'hp': 1354, 'ăn chả': 3991, 'chả ăn': 455, 'mặt vk': 2257, 'đách': 4159, 'hyy': 1368, 'nói_chuyện đách': 2751, 'đách lồn': 4160, 'lồn hyy': 1937, 'cơ_mà': 777, 'iu tâm': 1513, 'nói_dối': 2752, 'livestream': 1733, 'liu': 1725, 'rồi còn': 2996, 'còn nói_dối': 727, 'nói_dối trong': 2753, 'trong kêu': 3416, 'kêu đường': 1661, 'đường như': 4257, 'như kia': 2565, 'kia ko': 1588, 'ko livestream': 1630, 'livestream ko': 1734, 'chị nhà': 506, 'nhà liu': 2536, 'liu liu': 1726, 'liu rồi': 1727, 'còn xạo': 730, 'xạo chó': 3894, 'ưi': 4426, 'phuc': 2848, 'gian': 1148, 'văn_hóa': 3754, 'lịch_sử': 1925, 'bắt gian': 214, 'cute chị': 672, 'mất': 2206, 'mặc': 2240, 'leo_lẻo': 1707, 'dạy': 1031, 'họ_hàng': 1479, 'tuấn': 3486, 'ngta đéo': 2422, 'đéo ưa': 4195, 'ưa đếy': 4425, 'buồn_cười': 121, 'mode': 2048, 'mode giả_tạo': 2049, 'rủ': 3003, 'video': 3664, 'bằng_chứng': 221, 'làm_chi': 1823, 'thức': 3324, 'ji': 1515, 'vợ như_vậy': 3807, 'đừng đánh_đập': 4399, 'hoi': 1342, 'tai': 3131, 'la can': 1685, 'can cua': 308, 'cập': 813, 'xớm': 3917, 'củng': 851, 'ckck': 590, 'ớt': 4446, 'nhiển': 2524, 'nhét': 2553, 'lổ': 1948, 'sâu': 3068, 'này wa': 2683, 'wa đường': 3823, 'đường ng': 4256, 'ng thèm': 2369, 'thèm cập': 3222, 'cập thì': 815, 'thì xớm': 3232, 'xớm muộn': 3918, 'muộn củng': 2071, 'củng anh': 852, 'anh ckck': 23, 'ckck đc': 591, 'đc cập': 4017, 'cập bồ': 814, 'bồ nó': 265, 'nó bỏ': 2717, 'bỏ trái': 249, 'trái ớt': 3427, 'ớt sai': 4447, 'sai nhiển': 3008, 'nhiển nhét': 2525, 'nhét vô': 2554, 'vô lổ': 3739, 'lổ sâu': 1949, 'sâu ok': 3069, 'ok xong': 2815, 'ui': 3637, 'song': 3047, 'chu': 376, 'thương_tiếc': 3253, 'nửa': 2803, 'già': 1161, 'lam gi': 1696, 'tâm cười': 3511, 'ngu chết': 2425, 'đòn': 4207, 'đm tao': 4118, 'tao no': 3144, 'no đòn': 2641, 'lớn_tiếng': 1963, 'đang hư': 4009, 'hư lớn_tiếng': 1442, 'lớn_tiếng ảnh_hưởng': 1965, 'ảnh_hưởng phụ_nữ': 4435, 'viết': 3665, 'thành_thật': 3210, 'chương': 449, 'chồng nc': 529, 'nc khoa': 2353, 'khoa chương': 1533, 'người_đời': 2461, 'sắc': 3091, 'lô tâm': 1862, 'ống': 4444, 'cống': 837, 'hoài': 1349, 'như mày': 2567, 'vỡ mồm': 3794, 'emm': 1095, 'ngộ': 2477, 'ko thì': 1645, 'cũg': 765, 'hãy': 1406, 'hiếp': 1329, 'má fan': 2115, 'fan nè': 1108, 'nè hãy': 2697, 'hãy hiếp': 1407, 'hiếp đi': 1331, 'đi lộn': 4064, 'lộn hãy': 1961, 'hãy yêu': 1408, 'yêu đi': 3932, 'gà': 1241, 'concac': 660, 'cho_xong': 366, 'chồng xử_lý': 532, 'bỏ_mẹ đi': 255, 'đc hong': 4019, 'văn_minh': 3755, 'đi chị_gái': 4046, 'cô': 745, 'cô bé': 746, 'bé trứng': 146, 'quỹ': 2937, 'nói làm': 2741, 'dâm': 984, 'duc': 962, 'lúng_túng': 1873, 'rực_rỡ': 3004, 'hành_động': 1389, 'cứu': 861, 'đó kiểu': 4210, 'kiểu dm': 1608, 'dm cứu': 945, 'cứu này': 862, 'này bị': 2674, 'bị điên': 234, 'phí': 2856, 'để ng': 4327, 'bệnh_tật': 226, 'chết bệnh_tật': 484, 'bệnh_tật lồn': 227, 'tâm to': 3524, 'to yêu': 3370, 'yêu tâm': 3931, 'theo_dõi': 3174, 'tánh': 3500, 'cắn lưỡi': 818, 'dume': 968, 'con_gái dume': 651, 'hoàng đại_ca': 1351, 'là nam': 1801, 'ew': 1097, 'wtf': 3825, 'ew đụ': 1098, 'đụ wtf': 4381, 'khoai': 1534, 'phết': 2884, 'hôm': 1428, 'mẹ nói': 2284, 'nói đeo': 2744, 'đeo gi': 4034, 'luyện': 1783, 'luyện đi': 1784, 'đi tù': 4086, 'ny': 2663, 'tìm': 3536, 'công_an tìm': 750, 'câm miệng': 713, 'trận': 3461, 'lên_giọng': 1850, 'gap': 1123, 'mặt_đường': 2269, 'mặt_dày mặt_đường': 2267, 'mặt_đường buồn': 2270, 'buồn cl': 118, 'cl tao': 597, 'tao nè': 3145, 'táng': 3498, 'đia': 4098, 'nàu': 2671, 'táng chết': 3499, 'mẹ đia': 2290, 'đia ko': 4099, 'ko nói': 1641, 'nói loại': 2740, 'loại nàu': 1773, 'nòn': 2714, 'chìa': 412, 'vãi nòn': 3729, 'nòn răng': 2715, 'răng niềng': 2984, 'niềng cứ': 2624, 'cứ chìa': 854, 'chìa chìa': 413, 'chìa là': 414, 'là sao': 1804, 'sao ta': 3015, 'vãi lồn': 3728, 'chẳng_qua': 474, 'tại_trận': 3571, 'bắt tại_trận': 216, 'hôm_qua': 1431, 'hack': 1301, 'rõ': 2977, 'kiểu hack': 1610, 'duc vo': 963, 'vo cai': 3687, 'cai mo': 301, 'mo cua': 2045, 'cua di': 667, 'diu': 928, 'thi hien': 3178, 'hien diu': 1327, 'diu dm': 929, 'cave cặn_bã': 317, 'chả chị': 454, 'chị tôn': 510, 'lầm nghe': 1914, 'nghe chửi': 2380, 'nát': 2685, 'xấu chết': 3904, 'huỳnh thư': 1365, 'hahaa': 1303, 'hết xưng': 1474, 'dcm': 902, 'hệ_thống': 1477, 'lad': 1691, 'ngang': 2374, 'ho': 1339, 'chat': 337, 'dan het': 880, 'mũi ốm': 2196, 'ốm hả': 4443, 'thề': 3308, 'ditme': 926, 'kịch_bản': 1679, 'ditme kịch_bản': 927, 'kịch_bản học': 1680, 'ckao': 589, 'giống trâu': 1222, 'chó ko': 420, 'ko nhục': 1639, 'bự_vậy': 287, 'mặt bự_vậy': 2242, 'con cặc': 631, 'anh_hùng': 31, 'ngoan': 2404, 'úp': 3982, 'tàn_nhẫn': 3495, 'sự': 3125, 'cực_khổ': 865, 'giải_quyết': 1186, 'đứa chơi': 4384, 'chơi trò': 444, 'to chị': 3360, 'lolll': 1759, 'nam đéo': 2349, 'đéo nam': 4190, 'nam bắc': 2344, 'bắc đéo': 205, 'đéo bắc': 4188, 'bắc mày': 204, 'mày giọng': 2099, 'giọng đỡ': 1217, 'đỡ dẹo': 4376, 'đi lolll': 4060, 'vlz': 3684, 'má hô': 2116, 'hô vlz': 1426, 'hu': 1356, 'huy': 1360, 'gửi': 1297, 'ăn_vụng bánh': 4002, 'ví_dụ': 3736, 'ví_dụ cl': 3737, 'sanh': 3011, 'sanh tật': 3012, 'tiếc': 3342, 'buồn lắm': 119, 'chán uyên': 397, 'uyên vc': 3641, 'mà là': 2080, 'hô chị': 1424, 'tế': 3594, 'tiktok': 3338, 'dẹp': 1051, 'dẹp răng': 1052, 'răng nạo': 2985, 'dừa chị': 1077, 'giông': 1174, 'mây': 2134, 'ba trai': 48, 'ma đôi': 1988, 'đôi bắt': 4219, 'bắt cho': 211, 'cho giông': 360, 'giông mây': 1175, 'mây ha': 2135, 'ha đĩ': 1300, 'cậu': 816, 'đi nhiều': 4072, 'đập nó': 4300, 'nó trận': 2729, 'luôn đi': 1786, 'như thế_nào': 2570, 'bye': 124, 'bạn_bè': 180, 'he': 1316, 'kiều': 1603, 'oanh': 2810, 'võ phan': 3749, 'phan kiều': 2841, 'kiều oanh': 1604, 'em dẹo': 1085, 'tưởi': 3562, 'hung clm': 1359, 'clm con_người': 603, 'con_người bẩn': 657, 'bẩn tưởi': 197, 'tưởi thật_sự': 3563, 'thật_sự ấy': 3277, 'cái_trò': 707, 'shiper': 3028, 'dịch': 1067, 'anh shiper': 27, 'toàn hàm_răng': 3381, 'xinhh': 3852, 'ít': 3967, 'lai_di_mày': 1693, 'mũi ít': 2191, 'ít to': 3968, 'to lai_di_mày': 3362, 'thằng kia': 3285, 'kia nch': 1590, 'nch cũg': 2360, 'cũg kiểu': 766, 'kiểu xaolol': 1614, 'xaolol ghê': 3828, 'tiện': 3354, 'ác_ý': 3957, 'dth': 957, 'quớ': 2931, 'tự_ái': 3636, 'chị ngu': 505, 'ngu lại': 2429, 'lại tự_ái': 1904, 'thông_cảm': 3243, 'suy_nghĩ': 3064, 'thây': 3220, 'đơn_giản': 4252, 'nói hây': 2738, 'hây làm': 1399, 'làm hong': 1815, 'hong anh': 1345, 'anh có': 24, 'có được': 738, 'được đĩ': 4260, 'đĩ nầy': 4242, 'nầy hong': 2769, 'bữa': 279, 'bữa chị': 280, 'ùi': 3981, 'phát_ngôn': 2851, 'less': 1710, 'gio': 1159, 'cho no': 364, 'vay ma': 3655, 'ma no': 1986, 'hot': 1347, 'pha': 2835, 'pha xử_lý': 2836, 'đáng nể': 4165, 'phân_biệt': 2853, 'miền': 2029, 'ng nam': 2367, 'nam thấy': 2347, 'thấy mấy': 3269, 'mấy phân_biệt': 2215, 'phân_biệt miền': 2854, 'miền đó': 2032, 'đó chỉ': 4209, 'chỉ bắc': 498, 'bắc kì': 202, 'kì chơi': 1663, 'chơi kì': 443, 'trí': 3438, 'trí lý': 3439, 'lý cái': 1875, 'cái lz': 695, 'lz ngta': 1793, 'ngta dị': 2417, 'ôi vcl': 3976, 'đi niềng': 4075, 'màu': 2094, 'thù': 3245, 'mxh': 2073, 'sủa': 3112, 'trình_độ': 3437, 'cmm': 609, 'ngủ cmm': 2482, 'đc nói_chuyện': 4021, 'mình đi': 2148, 'mẫu': 2227, 'cmnr': 612, 'nói tiếng': 2743, 'cái giọng': 692, 'giọng lồn': 1207, 'lồn vậy': 1943, 'mỡ bắp': 2331, 'bắp bơ': 209, 'clgt': 599, 'xd': 3830, 'clgt xd': 600, 'tỏi': 3599, 'củ tỏi': 848, 'đoi': 4122, 'voi chong': 3690, 'cung': 668, 'biet': 71, 'nghi': 2385, 'luc': 1779, 'voi trai': 3691, 'quen': 2909, 'vô_duyên chị': 3744, 'rút': 2979, 'kinh_nghiệm': 1597, 'rút kinh_nghiệm': 2980, 'trâu em': 3430, 'làm để': 1822, 'đi già_mồm': 4053, 'già_mồm thằng': 1167, 'thằng mày': 3289, 'mày tan': 2106, 'tan mặt': 3136, 'mặt đó': 2261, 'đó nha': 4213, 'nha đi': 2500, 'chấm_mút': 459, 'má mày': 2117, 'bóp': 165, 'bóp mặt': 166, 'mặt đàng_hoàng': 2260, 'kèo': 1655, 'mượn': 2201, 'ơiiiii': 4418, 'bím': 162, 'thèm gọi': 3223, 'ak': 14, 'rán đi': 2970, 'di_ban': 915, 'nuoi': 2659, 'giùm': 1176, 'hút': 1436, 'hôm chị': 1429, 'xin_lỗi xin_lỗi': 3844, 'kẹo': 1670, 'đi răng': 4080, 'răng đi': 2986, 'sai già_mồm': 3006, 'già_mồm đàn_bà': 1169, 'nên vứt': 2712, 'vứt đi': 3817, 'tieu': 3334, 'tho': 3185, 'tieu tho': 3335, 'đạo_đức': 4268, 'luật': 1789, 'trường_hợp': 3450, 'vương': 3758, 'nguyên vương': 2437, 'bết': 223, 'love': 1765, 'tóc bết': 3545, 'đứa chửi': 4385, 'rác vl': 2960, 'thui': 3195, 'me may': 2010, 'đẫy': 4294, 'địt đẫy': 4341, 'hok': 1343, 'bật': 199, 'đĩ dẹo': 4236, 'chê': 410, 'khịa': 1578, 'chửi mấy': 562, 'mấy đũy': 2220, 'đũy khịa': 4249, 'khịa đi': 1579, 'douma': 953, 'douma đĩ': 954, 'đĩ xạo': 4246, 'xạo lz': 3897, 'coi_chừng': 626, 'vợ_con': 3812, 'mỹ': 2338, 'hạnh': 1452, 'dậu': 1037, 'heo': 1321, 'to dậu': 3361, 'dậu heo': 1038, 'treo': 3410, 'chìm': 415, 'làm_ăn': 1828, 'lên đi': 1849, 'móa': 2150, 'hảm': 1462, 'cachúc': 296, 'móa hảm': 2151, 'hảm bỏ_mẹ': 1463, 'bỏ_mẹ là': 254, 'là tốt': 1807, 'tốt đại': 3605, 'đại cachúc': 4262, 'cachúc đại_ca': 297, 'đại_ca nhiều': 4264, 'nhiều may_mắn': 2520, 'may_mắn con': 2004, 'phò này': 2862, 'chồng tử_tế': 531, 'dẹo mệt': 1047, 'vãi được': 3732, 'good': 1236, 'good con_mẹ': 1237, 'làm_sao': 1825, 'kiện': 1615, 'cảm_thấy': 805, 'hề': 1475, 'bịa_đặt': 235, 'nếu': 2777, 'dễ_dàng': 1058, 'dắt_mũi': 1040, 'làm_sao gửi': 1826, 'gửi đơn': 1298, 'đơn kiện': 4251, 'kiện page': 1616, 'rác_rưởi thế': 2963, 'thế mn': 3298, 'mn cảm_thấy': 2041, 'cảm_thấy may_mắn': 806, 'may_mắn từ': 2005, 'từ giờ': 3626, 'giờ chưa': 1227, 'chưa hề': 447, 'hề like': 1476, 'page và': 2827, 'và ko': 3706, 'gì những': 1254, 'những viết': 2620, 'viết bịa_đặt': 3666, 'bịa_đặt rác_rưởi': 236, 'rác_rưởi page': 2962, 'page nếu': 2824, 'nếu ko': 2778, 'ko dễ_dàng': 1627, 'dễ_dàng dắt_mũi': 1059, 'dắt_mũi rồi': 1041, 'mũi quá': 2177, 'hận': 1467, 'hận đàn_bà': 1468, 'nể ck': 2780, 'triệu like': 3412, 'xinh vl': 3851, 'mỡ đi': 2333, 'chị oi': 507, 'nghèo': 2391, 'cặp_bồ': 828, 'xấu cũng': 3905, 'cũng cặp_bồ': 770, 'cặp_bồ vl': 829, 'chữ khốn_nạn': 570, 'phản_dame': 2880, 'phản_dame câu': 2881, 'câu kệ': 718, 'kệ mẹ': 1676, 'bo hả': 92, 'tạo': 3574, 'súc_vật ghét': 3077, 'ghét bọn': 1129, 'bọn truyền_thông': 242, 'truyền_thông bẩn': 3420, 'bẩn rác_rưởi': 196, 'duoc': 974, 'đi cũng': 4049, 'hã': 1400, 'đế': 4316, 'né': 2705, 'mũi lỗi': 2173, 'lỗi hã': 1955, 'hã nổ': 1401, 'nổ địa_chỉ': 2785, 'địa_chỉ đế': 4338, 'đế né': 4317, 'phang': 2842, 'mày đéo': 2111, 'đéo thèm': 4193, 'thèm nhiều': 3225, 'nhiều chi': 2517, 'chi mệt': 348, 'mệt tôi': 2295, 'tôi phang': 3552, 'phang sml': 2843, 'búa': 173, 'card': 312, 'lưỡi con': 1892, 'con card': 628, 'card ngta': 313, 'đê': 4197, 'vy nè': 3702, 'nè sủa': 2702, 'sủa đê': 3113, 'đê hít': 4198, 'hít cưng': 1416, 'quá ta': 2913, 'tream': 3409, 'cha_anh': 332, 'lồn cha_anh': 1932, 'nứng lol': 2798, 'nghỉ': 2401, 'quả_báo': 2925, 'làm vợ': 1818, 'vợ làm': 3804, 'khiếp': 1530, 'ngựa': 2494, 'cay': 319, 'matlon': 1999, 'la_liếm': 1689, 'nghệ_sĩ': 2398, 'khácbịa': 1546, 'giựt': 1230, 'tít': 3542, 'bữapage': 282, 'thuanhư': 3193, 'nhờ': 2608, 'matlon la_liếm': 2000, 'la_liếm nghệ_sĩ': 1690, 'nghệ_sĩ đến': 2400, 'đến nghệ_sĩ': 4319, 'nghệ_sĩ khácbịa': 2399, 'khácbịa giựt': 1547, 'giựt tít': 1231, 'tít câu': 3543, 'câu like': 719, 'like cơm': 1716, 'cơm bữapage': 779, 'bữapage rác': 283, 'rác gần': 2957, 'gần likes': 1272, 'likes cũng': 1722, 'cũng thuanhư': 772, 'thuanhư kiểu': 3194, 'hack nhờ': 1302, 'tuổi': 3488, 'phạm thị': 2874, 'tx': 3489, 'ck là': 585, 'số': 3099, 'ủng_hộ': 4448, 'bài': 127, 'fanpage': 1110, 'sôi_máu': 3073, 'ủng_hộ page': 4449, 'page đăng': 2831, 'đăng bài': 4228, 'bài này': 128, 'này mang_tiếng': 2680, 'mang_tiếng một': 1996, 'một fanpage': 2321, 'fanpage triệu': 1111, 'like sống': 1720, 'sống chó': 3101, 'chó đọc': 426, 'đọc tức': 4351, 'tức sôi_máu': 3623, 'con quỹ': 641, 'quỹ tởm': 2938, 'tởm kinh': 3618, 'thực_sự': 3327, 'giới': 1223, 'giới trẻ': 1224, 'trung': 3418, 'nói_chuyện mắc': 2749, 'xin_lỗi cl': 3841, 'dạ': 1026, 'toang': 3373, 'quang': 2905, 'nguyễn quang': 2443, 'quang việt': 2906, 'giọng như': 1210, 'như lol': 2566, 'lol em': 1754, 'em mong': 1088, 'mong đừng': 2055, 'đừng nhái': 4395, 'giọng bắc': 1198, 'giọng cặc': 1203, 'khuya': 1541, 'khuya cl': 1542, 'cl gi': 596, 'gi gio': 1140, 'thì đừng': 3234, 'xu': 3860, 'đàng_bà': 4154, 'gọi chang': 1280, 'thù_hằn': 3246, 'trơ': 3445, 'zị': 3950, 'đi ngta': 4069, 'lien': 1714, 'og': 2811, 'vo no': 3688, 'nhu the': 2529, 'cx': 679, 'diễn sâu': 939, 'sâu vl': 3070, 'nghee': 2383, 'traii': 3397, 'huống': 1362, 'chii': 351, 'má nghee': 2119, 'nghee giọng': 2384, 'giọng traii': 1214, 'traii nứng': 3398, 'nứng huống': 2796, 'huống chii': 1363, 'chii tâm': 352, 'vy đừng': 3703, 'đừng share': 4398, 'share quần': 3025, 'quần về': 2928, 'về page': 3783, 'page nó': 2823, 'nó dơ_bẩn': 2723, 'dơ_bẩn lắm': 1016, 'lịt': 1927, 'mọe': 2301, 'lịt mọe': 1928, 'ác_ý mà': 3958, 'đi chửi': 4047, 'chửi ngta': 564, 'ngta địt_mẹ': 2423, 'mày gì': 2100, 'có tên': 736, 'thuỳ': 3205, 'người_yêu': 2460, 'ntn': 2652, 'àk': 3953, 'làm loại': 1816, 'vú': 3751, 'show vú': 3034, 'vú đi': 3752, 'xấu_thế': 3914, 'khó_khăn': 1556, 'văn': 3753, 'lấn': 1906, 'mũi mà': 2176, 'mà lấn': 2081, 'lấn ác': 1907, 'ác cái': 3955, 'mặt chị': 2245, 'đỹ': 4405, 'súc_sinh': 3074, 'lạy': 1905, 'clm tự_nhiên': 605, 'tự_nhiên bắt': 3632, 'bắt đi': 217, 'đi fl': 4051, 'suc': 3057, 'vat': 3651, 'suc vat': 3058, 'vat bo': 3652, 'đi oi': 4079, 'cực': 863, 'cực rác': 864, 'lăng_loàn': 1882, 'sóng': 3071, 'bền': 224, 'đàng_bà lăng_loàn': 4155, 'lăng_loàn nó': 1883, 'nầy cung': 2768, 'cung ko': 669, 'ko sóng': 1643, 'sóng bền': 3072, 'day': 899, 'quả': 2923, 'dưa_hấu': 1023, 'bự quả': 286, 'quả dưa_hấu': 2924, 'dưa_hấu ghê': 1024, 'nhìn mũi': 2556, 'tặng': 3591, 'đạo_đức giả': 4269, 'cưới': 783, 'zị má': 3951, 'vãi thả': 3731, 'nhieu': 2510, 'vui lắm': 3698, 'nở': 2791, 'chs': 375, 'fire': 1115, 'free fire': 1119, 'fire ko': 1116, 'chủi': 549, 'nungl': 2657, 'hứa_hẹn': 1503, 'góp_ý': 1264, 'bé chủi': 145, 'chủi nungl': 550, 'nungl đm': 2658, 'đm xin_lỗi': 4119, 'xin_lỗi hứa_hẹn': 3842, 'hứa_hẹn góp_ý': 1504, 'góp_ý block': 1265, 'block dơ': 85, 'mũi xấu': 2190, 'hồi': 1492, 'dô diên': 1002, 'bêddee': 151, 'bêddee đi': 152, 'ngủ đi': 2486, 'apple': 42, 'watch': 3824, 'kêu ngta': 1660, 'apple watch': 43, 'bình_luận đi': 157, 'lái': 1833, 'biết cực_khổ': 78, 'mỏ hô': 2305, 'chết cụ': 486, 'cụ đi': 846, 'đi ae': 4041, 'dick': 920, 'chó_đẻ': 428, 'thằng dick': 3284, 'dick chó_đẻ': 921, 'chó_đẻ vãi': 429, 'cười vl': 793, 'ko trả_lời': 1647, 'thich': 3179, 'chôn': 430, 'đẻ': 4315, 'nguyễn thị': 2445, 'khó': 1554, 'ngậm mồm': 2467, 'ncc': 2357, 'xây': 3875, 'xử_phạt': 3926, 'giọng nứng': 1211, 'nứng anh': 2795, 'anh zai': 29, 'zai oiii': 3934, 'thôi khuya': 3240, 'khuya đéo': 1543, 'ig': 1508, 'đông': 4220, 'trốn': 3469, 'cạn_lời': 800, 'ý_định niềng': 3987, 'niềng ko': 2625, 'sạo': 3084, 'sạo lồn': 3085, 'cam': 305, 'cộng': 838, 'bao tiền': 56, 'vcl đcm': 3660, 'facebook': 1100, 'tường': 3561, 'ck ko': 583, 'sống nó': 3102, 'loài': 1769, 'dăm': 1006, 'tac': 3130, 'tra về': 3385, 'về chu': 3781, 'chu em': 377, 'em loài': 1087, 'loài dăm': 1770, 'dăm tac': 1007, 'ko buồn': 1624, 'mieng': 2018, 'moi': 2050, 'duoi': 976, 'no moi': 2638, 'ko thèm': 1644, 'ngại': 2463, 'tâm ngủ': 3521, 'dầu': 1034, 'dở_vcl': 1074, 'diễn dở_vcl': 936, 'ảnh anti': 4432, 'anti đm': 39, 'nhu_nhược': 2531, 'nén': 2706, 'su': 3055, 'cai thang': 302, 'thang chong': 3161, 'chong nhu_nhược': 374, 'nhu_nhược nén': 2532, 'nén vo': 2707, 'moi vay': 2051, 'vay bắt': 3654, 'bắt tai': 215, 'tai tran': 3132, 'tran ma': 3400, 'no ly': 2636, 'ly su': 1791, 'su nha': 3056, 'nha no': 2499, 'no an': 2630, 'an hiếp': 18, 'hiếp chong': 1330, 'chong du': 373, 'du lam': 960, 'lam day': 1695, 'bớt cười': 273, 'cười đi': 795, 'miết': 2027, 'cún': 755, 'lưỡi lè': 1893, 'lè lè': 1841, 'lè miết': 1843, 'miết tưởng': 2028, 'tưởng cún': 3566, 'cún đầu_thai': 756, 'đầu_thai ko': 4290, 'thể_loại': 3310, 'thể_loại đàn_bà': 3311, 'đàn_bà thế': 4146, 'đẹp vợ': 4314, 'vợ ngủ': 3806, 'ngủ trai': 2484, 'trai bỏ_mẹ': 3388, 'đàn_bà dâm': 4138, 'dâm tac': 985, 'tao đéo': 3148, 'cười vlin': 794, 'chúc_mừng': 435, 'sợ chị': 3105, 'đuy': 4131, 'cười vcl': 792, 'dao tim': 895, 'chị chị': 503, 'trần tâm': 3458, 'nguyễn văn': 2446, 'thoi': 3186, 'mặt sát': 2253, 'sát màn_hình': 3066, 'màn_hình sợ': 2093, 'sát_thủ': 3067, 'tính_năng': 3541, 'thảo nguyễn': 3259, 'nguyễn mấy': 2441, 'mấy trang': 2218, 'trang beat': 3402, 'beat sợ': 65, 'sợ chó': 3104, 'chó bọn': 419, 'bọn rác': 241, 'rác nhau': 2958, 'li_dị': 1712, 'đánh đĩ': 4174, 'đĩ vợ': 4245, 'vợ trận': 3808, 'trận li_dị': 3462, 'li_dị đi': 1713, 'mũi khó_chịu': 2171, 'nắm_đấm': 2773, 'to nắm_đấm': 3365, 'cuoc': 670, 'thoii': 3187, 'tẩy_chay': 3583, 'đi làm': 4062, 'làm cho': 1812, 'cho mỏi': 363, 'mỏi mồm': 2310, 'mồm vợ': 2316, 'vợ đấy': 3811, 'đấy cũng_nên': 4274, 'cũng_nên luôn': 774, 'đấy gì': 4275, 'gì cave': 1251, 'chờ chi': 540, 'xạo lon': 3896, 'zui': 3941, 'zui chết': 3942, 'dẻ': 1054, 'mắt to': 2238, 'to nè': 3364, 'nè mồm': 2700, 'mồm to': 2314, 'nè mũi': 2699, 'nè cái': 2696, 'mặt đỹ': 2264, 'đỹ lon': 4406, 'lon trần': 1763, 'tâm nè': 3522, 'nè nhân_cách': 2701, 'nhân_cách dẻ': 2549, 'dẻ rách': 1055, 'rách đụ': 2966, 'đi em_trai': 4050, 'đi ngoại_tình': 4068, 'ngoại_tình còn': 2413, 'chồng đáng': 533, 'anh chồng': 21, 'ngta đi': 2421, 'bà_cô': 126, 'kim': 1592, 'to mắt': 3363, 'em ik': 1086, 'bậy': 200, 'chửi mặt': 563, 'tuần': 3487, 'kệ đi': 1678, 'cũng chẳng': 769, 'cặc sướng': 824, 'sướng chết': 3082, 'chết ói': 495, 'vd': 3662, 'tik': 3336, 'tok': 3377, 'tik tok': 3337, 'hài': 1374, 'chịch': 516, 'bỏ_mạng': 251, 'tại_chỗ': 3568, 'chịch dạo': 517, 'dạo lớn_tiếng': 1030, 'lớn_tiếng thằng': 1964, 'thằng ck': 3283, 'ck thằng': 587, 'thằng miền': 3288, 'miền nam': 2031, 'nam gặp': 2345, 'đàn_ông miền': 4152, 'miền bắc': 2030, 'bắc là': 203, 'là mụ': 1800, 'mụ bỏ_mạng': 2335, 'bỏ_mạng tại_chỗ': 252, 'lồn đi': 1945, 'nen': 2364, 'ứa': 4450, 'sấu': 3089, 'sấu vcl': 3090, 'lấy búa': 1909, 'búa đập': 174, 'đập dô': 4297, 'dô mặt': 1003, 'mặt wa': 2258, 'rô': 2975, 'nựng': 2808, 'người_ta rô': 2459, 'rô nựng': 2976, 'nựng cu': 2809, 'bôi': 167, 'mèo': 2140, 'de ngu': 906, 'ngu chồng': 2426, 'chồng bôi': 524, 'bôi mắt': 168, 'mắt mèo': 2235, 'mèo lon': 2141, 'lon cho': 1761, 'hết ngứa': 1473, 'ngứa xong': 2490, 'mương': 2199, 'tức thay': 3624, 'nê': 2708, 'nói_chuyện lịch_sự': 2748, 'chuan': 378, 'bo_di': 101, 'da do': 868, 'do bo_di': 950, 'mướn': 2200, 'đi khỏi': 4056, 'giet': 1155, 'giet may': 1156, 'may ban': 2002, 'duoc roi': 975, 'dựng_phim': 1082, 'lừa': 1981, 'thằng chó': 3280, 'chó sạo': 422, 'lồn dựng_phim': 1935, 'dựng_phim lừa': 1083, 'lừa cộng_đồng': 1982, 'cộng_đồng theo_dõi': 841, 'theo_dõi đụ': 3175, 'mày thằng': 2107, 'thằng chó_đẻ': 3281, 'bữa_nay': 281, 'mượn phút': 2202, 'kệ mịa': 1677, 'mịa tâm': 2298, 'bo me': 95, 'đéo gì': 4189, 'thâm': 3214, 'đên': 4201, 'lồn chắc': 1933, 'chắc thâm': 466, 'thâm màu': 3215, 'màu đên': 2096, 'rat': 2945, 'khoi': 1536, 'noi rat': 2649, 'khoi nha': 1537, 'nha la': 2497, 'la dung': 1686, 'dung roi': 973, 'baa': 49, 'tang': 3137, 'no may': 2637, 'bẩn vđ': 198, 'hoá': 1353, 'hà_vi': 1372, 'dập': 1035, 'hà_vi đọc': 1373, 'đọc coi': 4349, 'coi bọn': 622, 'bọn có': 238, 'có dập': 735, 'dập chết': 1036, 'mẹ không': 2277, 'cắt_cổ': 820, 'moẹ': 2060, 'câm moẹ': 714, 'moẹ mồm': 2061, 'quỳnh': 2932, 'giang quỳnh': 1150, 'quỳnh nhi': 2933, 'chim': 353, 'vi': 3663, 'trùm': 3443, 'rồi gì': 2997, 'dại': 1027, 'đc dm': 4018, 'đi mấy': 4066, 'xinh qué': 3850, 'sao hông': 3014, 'đan': 4006, 'chông': 431, 'bac': 50, 'dưa': 1022, 'thư đan': 3251, 'đan bo': 4007, 'bo chông': 91, 'chông bo': 432, 'bo như': 96, 'vây đanh': 3722, 'đanh vai': 4012, 'vai bac': 3648, 'bac no': 51, 'no dưa': 2634, 'bưng_bít': 176, 'gọi điện': 1291, 'bik': 72, 'thế ko': 3297, 'ko bik': 1623, 'ck tuyệt_vời': 588, 'cai lon': 300, 'ko lỗi': 1634, 'chắc_chắn': 468, 'đùa': 4223, 'xui': 3861, 'vao': 3650, 'cai loai': 299, 'nguoi khac': 2432, 'thẳng': 3294, 'camera': 306, 'vẻ': 3776, 'tâm em': 3513, 'nhở': 2609, 'vcl nhở': 3659, 'con mặt': 637, 'mặt hãm': 2248, 'muốn bổ': 2067, 'chúc_mừng sinh_nhật': 436, 'quán': 2916, 'há': 1391, 'hở lợi': 1502, 'lợi đcm': 1978, 'đcm nguyễn': 4028, 'thở': 3321, 'mày xạo': 2108, 'khanh': 1525, 'lày thuỳ': 1832, 'xik': 3836, 'vang': 3649, 'bắt dc': 212, 'cỏ': 832, 'nghẹn_ngào': 2396, 'nghẹn_ngào đc': 2397, 'nói_chuyện tâm': 2750, 'nhạt qá': 2586, 'dã': 992, 'lộc': 1958, 'fuho': 1121, 'kia lộc': 1589, 'lộc fuho': 1959, 'kia diễn': 1587, 'bản_thân': 184, 'nhận_lời': 2598, 'em nó': 1090, 'chụy': 543, 'êy': 3966, 'giọng kia': 1205, 'lang_nhang': 1699, 'cac noi': 295, 'noi nhieu': 2648, 'nhieu lang_nhang': 2511, 'moá': 2058, 'chắcanh': 469, 'như_vầy': 2572, 'chắcanh nợ': 470, 'nợ như_vầy': 2793, 'như_vầy song': 2573, 'song roi': 3048, 'roi nó': 2951, 'nó cho_xong': 2719, 'cho_xong nha': 367, 'nha loại': 2498, 'loại này': 1774, 'này làm': 2679, 'làm dơ': 1814, 'dơ xã_hội': 1014, 'xã_hội gia_đình': 3878, 'gia_đình anh': 1147, 'anh nha': 26, 'dễ': 1057, 'to bằng': 3359, 'bằng lỗ': 220, 'fb đi': 1113, 'dĩ': 1008, 'già_mồm như': 1166, 'mày đáng': 2110, 'đáng mẹ': 4164, 'con mày': 635, 'mày sử': 2105, 'quá đừng': 2914, 'đừng con': 4392, 'con ko': 634, 'ko nó': 1640, 'nó tài_sản': 2730, 'tài_sản bạn': 3492, 'bạn đấy': 179, 'đấy người_ta': 4279, 'người_ta lấy': 2458, 'lấy dĩ': 1910, 'dĩ làm': 1009, 'vợ ko': 3802, 'ko là': 1633, 'là lấy': 1798, 'vợ về': 3810, 'về làm': 3782, 'to vc': 3367, 'dơ_dáy': 1019, 'cá_nhân': 685, 'liên_quan': 1735, 'facebook đi': 1101, 'món': 2152, 'ngô': 2450, 'dì': 993, 'tiền tâm': 3349, 'hs': 1355, 'phụ_nữ đàn_bà': 2890, 'trừ': 3476, 'đi đúng': 4092, 'chấp_nhận_lời': 463, 'bóng': 164, 'cười_nhạt': 797, 'cười_nhạt vl': 798, 'kg tát': 1522, 'đỉ kg': 4330, 'kg tiền': 1521, 'tiền vài': 3350, 'vài ngay': 3710, 'ngay đó': 2376, 'đó nó': 4214, 'nó bớt': 2718, 'bớt bố_láo': 272, 'bố_láo cho': 262, 'cho thằng': 365, 'nl': 2627, 'rãnh': 2971, 'chưi': 448, 'nl mình': 2628, 'má rãnh': 2121, 'rãnh mà': 2972, 'mà chưi': 2078, 'chào tâm': 394, 'đấy thế': 4280, 'hả trời': 1458, 'ship em': 3027, 'em mũi': 1089, 'mũi hàm_răng': 2170, 'hàm_răng giả': 1380, 'chị chào': 502, 'đi ko': 4058, 'ko đánh': 1651, 'đánh chạy': 4167, 'má ơii': 2122, 'thuê nè': 3198, 'nè luôn': 2698, 'luôn đuma': 1787, 'động': 4369, 'toe_toét': 3374, 'buồn cc': 117, 'điện_thoại làm': 4109, 'chog': 368, 'ứng_xử': 4454, 'già vl': 1162, 'vl rùi': 3682, 'choiiii': 371, 'mũi vs': 2187, 'vs đẹp': 3695, 'đẹp choiiii': 4310, 'tạm': 3572, 'tạm chấp_nhận': 3573, 'mẹ vl': 2287, 'kb': 1517, 'đi uyên': 4087, 'ngta tải': 2420, 'dung la': 970, 'bánh mặt': 138, 'bua': 108, 'rep để': 2949, 'để bua': 4326, 'bua fame': 109, 'biên': 74, 'là nứng': 1803, 'nứng liền': 2797, 'giọng trai': 1213, 'son': 3045, 'xon': 3857, 'thu dan': 3189, 'dan da': 877, 'da lay': 869, 'lay nguoi': 1703, 'nguoi ta': 2433, 'ta ma': 3128, 'ma son': 1987, 'son xon': 3046, 'xon tan': 3858, 'tan dai': 3135, 'dai bac': 872, 'bấm': 190, 'hàm_răng muốn': 1382, 'bổ mặt': 267, 'mặt đối_diện': 2263, 'đối_diện mũi': 4356, 'to vl': 3368, 'gọi trần': 1288, 'face': 1099, 'ng đặt_hàng': 2370, 'nhanh': 2504, 'què': 2919, 'xuất_hiện': 3865, 'lol trời': 1758, 'đu': 4125, 'nhà_trọ': 2541, 'là_lạ': 1809, 'đu vô': 4126, 'vô nhà_trọ': 3741, 'nhà_trọ không': 2542, 'không đeo': 1566, 'đeo dung': 4033, 'dung là_lạ': 971, 'là_lạ đấy': 1810, 'xi': 3835, 'loi': 1751, 'đấy bảo': 4273, 'go': 1233, 'dư_luận': 1021, 'có_thể giết': 743, 'no luon': 2635, 'ch to': 331, 'vân': 3720, 'nch chị': 2359, 'lâm': 1835, 'rơi': 2987, 'hàm': 1376, 'răg': 2981, 'coi để': 625, 'để sợ': 4328, 'cười rơi': 789, 'rơi hàm': 2988, 'hàm răg': 1377, 'răg mặt': 2982, 'gan': 1122, 'nơi': 2760, 'sản': 3086, 'bo lồn': 94, 'bh': 68, 'tâm hay': 3515, 'mệt lol': 2294, 'khon_nan': 1538, 'dan khon_nan': 881, 'thanh_trừng': 3166, 'vẩu dẹp': 3762, 'quâ': 2918, 'hic': 1324, 'toe_toét buồn': 3375, 'kim_ngân': 1593, 'thị kim_ngân': 3313, 'kim_ngân moá': 1594, 'moá này': 2059, 'này bắn': 2673, 'bắn há': 207, 'há vợ': 1392, 'ơi nghĩ': 4413, 'nghĩ nên': 2395, 'nâng mũi': 2688, 'tl': 3356, 'bộp': 269, 'con vk': 643, 'vk tl': 3674, 'tl thèm': 3357, 'thèm vài': 3226, 'vài bộp': 3709, 'bộp tai': 270, 'tai đỉ': 3133, 'nch kiểu': 2362, 'kiểu nghe': 1612, 'nghe mệt': 2382, 'lol thật_sự': 1757, 'ơiiii': 4417, 'diễn quá': 938, 'giọng ấm': 1218, 'ta vẻ': 3129, 'vẻ dễ_thương': 3777, 'dễ_thương trông': 1061, 'trông kinh': 3442, 'ngọng': 2474, 'man': 1993, 'dan nay': 883, 'con dan': 632, 'nứt': 2801, 'vậy nứt': 3771, 'nứt lỗ': 2802, 'mũi xạo': 2189, 'antifan': 40, 'mặt tâm': 2256, 'vàooi': 3715, 'dẹp vàooi': 1053, 'hãn': 1404, 'máu_thịt': 2130, 'ck hãn': 581, 'hãn bình_tĩnh': 1405, 'bình_tĩnh gặp': 160, 'gặp ck': 1276, 'ck bay': 579, 'bay nó': 63, 'nó cắt_cổ': 2722, 'cắt_cổ vk': 821, 'vk lun': 3672, 'lun mà': 1781, 'mà trả_lời': 2085, 'trả_lời dm': 3455, 'dm ko': 946, 'ko liên_quan': 1631, 'liên_quan ứa': 1736, 'ứa máu_thịt': 4451, 'hòn': 1419, 'trứng hòn': 3474, 'page dơ': 2820, 'dơ mất_dạy': 1013, 'mất_dạy hám': 2208, 'hám fame': 1394, 'fame ghét': 1104, 'ghét càng': 1130, 'càng ghét': 682, 'ơi chị': 4408, 'chiến': 354, 'đực': 4402, 'trét': 3434, 'luôn_di': 1788, 'đĩ đực': 4247, 'đực gia': 4403, 'gia mồm': 1145, 'mồm trét': 2315, 'trét luôn_di': 3435, 'ghê_v': 1134, 'dan dam': 878, 'dam loan': 874, 'loan bo': 1750, 'no duoc': 2633, 'đập mũi': 4298, 'sửa đê': 3123, 'đê êy': 4199, 'đen': 4031, 'miệng_lưỡi': 2036, 'cay_độc': 320, 'công_lý': 753, 'dòng': 996, 'trách_nhiệm': 3423, 'thế_giới': 3301, 'gọi miệng_lưỡi': 1283, 'miệng_lưỡi người_đời': 2037, 'người_đời cay_độc': 2462, 'cay_độc tàn_nhẫn': 321, 'tàn_nhẫn dao': 3496, 'dao lưỡi': 894, 'lưỡi đúng': 1897, 'đúng chắc': 4225, 'chắc đc': 467, 'đc sai': 4022, 'sai nhiều': 3007, 'nhiều nó': 2521, 'nó là': 2725, 'là công_lý': 1796, 'công_lý thực_sự': 754, 'thực_sự dòng': 3328, 'dòng chữ': 997, 'chữ có_thể': 569, 'giết nhưng': 1195, 'nhưng chẳng': 2580, 'chẳng phải': 473, 'phải trách_nhiệm': 2879, 'trách_nhiệm đấy': 3424, 'là sự': 1805, 'sự sợ': 3126, 'sợ thế_giới': 3108, 'thế_giới ảo': 3302, 'ảo nhưng': 4437, 'nhưng thật': 2581, 'mệt_mỏi': 2296, 'địch': 4339, 'trâu_vậy': 3432, 'mũi lỗ': 2172, 'mũi trâu_vậy': 2184, 'trâu_vậy trời': 3433, 'tia': 3329, 'tia gái': 3330, 'chết con_mẹ': 485, 'bọn hãm': 239, 'cút me': 760, 'trai còn': 3389, 'lô cặc': 1860, 'chửi quá': 565, 'cười kìa': 786, 'kìa dm': 1666, 'dm tỉnh': 947, 'tỉnh liền': 3596, 'cần_mỡ': 812, 'rán cần_mỡ': 2968, 'ngu lam': 2428, 'lam màu': 1697, 'màu sửa': 2095, 'mấy má': 2213, 'chê cút': 411, 'cút làm': 759, 'mặt mặt': 2252, 'niềng đi': 2626, 'dug': 964, 'nhưloz': 2578, 'lau': 1701, 'chống': 519, 'khác đi': 1545, 'bớt hở': 276, 'lỡ_lầm': 1973, 'thu dịu': 3190, 'dịu đấy': 1070, 'bảo page': 188, 'page ác': 2829, 'ác vl': 3956, 'vl ko': 3681, 'ko lỡ_lầm': 1635, 'lỡ_lầm đâu': 1974, 'sướng sanh': 3083, 'nc khép': 2354, 'miệng đc': 2035, 'hong mình': 1346, 'cc đm': 326, 'hic hic': 1325, 'bảo họ_hàng': 187, 'biết_bao_nhiêu': 80, 'hại biết_bao_nhiêu': 1448, 'biết_bao_nhiêu con_người': 81, 'con_người dơ_bẩn': 658, 'nè tâm': 2704, 'gọi nè': 1285, 'cái đầu': 706, 'wa tuyệt': 3822, 'trai_gái': 3396, 'ko đi': 1650, 'giàu': 1170}\n"
          ],
          "name": "stdout"
        }
      ]
    },
    {
      "cell_type": "code",
      "metadata": {
        "id": "YKbSpTlJL9dr",
        "colab_type": "code",
        "colab": {
          "base_uri": "https://localhost:8080/",
          "height": 296
        },
        "outputId": "c9bc9830-82f8-4da7-cff0-6eeb224d888d"
      },
      "source": [
        "%matplotlib inline\n",
        "sns.set_style(\"white\")\n",
        "sns.countplot(Y).set_title('Data')\n",
        "plt.show()"
      ],
      "execution_count": 74,
      "outputs": [
        {
          "output_type": "display_data",
          "data": {
            "image/png": "[encoded data removed]",
            "text/plain": [
              "<Figure size 432x288 with 1 Axes>"
            ]
          },
          "metadata": {
            "tags": []
          }
        }
      ]
    },
    {
      "cell_type": "code",
      "metadata": {
        "id": "ymMq52L7L-CV",
        "colab_type": "code",
        "colab": {
          "base_uri": "https://localhost:8080/",
          "height": 296
        },
        "outputId": "724e8b98-948a-4291-aac1-461a9a6883cf"
      },
      "source": [
        "%matplotlib inline\n",
        "sns.set_style(\"whitegrid\")\n",
        "sns.countplot(trainY).set_title('Data traning')\n",
        "plt.show()"
      ],
      "execution_count": 75,
      "outputs": [
        {
          "output_type": "display_data",
          "data": {
            "image/png": "[encoded data removed]",
            "text/plain": [
              "<Figure size 432x288 with 1 Axes>"
            ]
          },
          "metadata": {
            "tags": []
          }
        }
      ]
    },
    {
      "cell_type": "code",
      "metadata": {
        "id": "9YrQQe4IMHC_",
        "colab_type": "code",
        "colab": {
          "base_uri": "https://localhost:8080/",
          "height": 296
        },
        "outputId": "1dc472b0-3022-49f0-868d-0bf3e99d55d6"
      },
      "source": [
        "%matplotlib inline\n",
        "sns.set_style(\"whitegrid\")\n",
        "sns.countplot(testY).set_title('Data testing')\n",
        "plt.show()"
      ],
      "execution_count": 76,
      "outputs": [
        {
          "output_type": "display_data",
          "data": {
            "image/png": "[encoded data removed]",
            "text/plain": [
              "<Figure size 432x288 with 1 Axes>"
            ]
          },
          "metadata": {
            "tags": []
          }
        }
      ]
    },
    {
      "cell_type": "markdown",
      "metadata": {
        "id": "s4R4pUO1UTHN",
        "colab_type": "text"
      },
      "source": [
        "#**6. Đánh giá kết quả, kết luận**"
      ]
    },
    {
      "cell_type": "code",
      "metadata": {
        "id": "uXWhOoqTdrfA",
        "colab_type": "code",
        "colab": {
          "base_uri": "https://localhost:8080/",
          "height": 714
        },
        "outputId": "7bc696ef-7285-44af-dce2-b3fa5327c611"
      },
      "source": [
        "print(\"[INFO] Used TfidfVectorizer ... \")\n",
        "\n",
        "for i in range(4):\n",
        "    \n",
        "    if i == 2:\n",
        "        model = LogisticRegression()\n",
        "        print(\"   [INFO] evaluating Logistic Regression...\")\n",
        "\n",
        "    if i == 0:\n",
        "        model = LinearSVC()\n",
        "        print(\"   [INFO] evaluating SVC...\")\n",
        "    \n",
        "    if i == 1:\n",
        "        model = MultinomialNB()\n",
        "        print(\"   [INFO] evaluating Naive Bayes...\")\n",
        "    if i ==3:\n",
        "        model = DecisionTreeClassifier()\n",
        "        print(\"   [INFO] evaluating Decision Tree Classifier...\")\n",
        "    \n",
        "    # train and evaluating \n",
        "    model.fit(trainX, trainY)\n",
        "    predictions = model.predict(testX)\n",
        "    print(classification_report(testY,predictions))"
      ],
      "execution_count": 86,
      "outputs": [
        {
          "output_type": "stream",
          "text": [
            "[INFO] Used TfidfVectorizer ... \n",
            "   [INFO] evaluating SVC...\n",
            "              precision    recall  f1-score   support\n",
            "\n",
            "           0       0.86      0.92      0.89       650\n",
            "           1       0.89      0.82      0.85       541\n",
            "\n",
            "    accuracy                           0.87      1191\n",
            "   macro avg       0.88      0.87      0.87      1191\n",
            "weighted avg       0.87      0.87      0.87      1191\n",
            "\n",
            "   [INFO] evaluating Naive Bayes...\n",
            "              precision    recall  f1-score   support\n",
            "\n",
            "           0       0.76      0.94      0.84       650\n",
            "           1       0.90      0.65      0.75       541\n",
            "\n",
            "    accuracy                           0.81      1191\n",
            "   macro avg       0.83      0.79      0.80      1191\n",
            "weighted avg       0.82      0.81      0.80      1191\n",
            "\n",
            "   [INFO] evaluating Logistic Regression...\n",
            "              precision    recall  f1-score   support\n",
            "\n",
            "           0       0.80      0.94      0.87       650\n",
            "           1       0.91      0.72      0.81       541\n",
            "\n",
            "    accuracy                           0.84      1191\n",
            "   macro avg       0.86      0.83      0.84      1191\n",
            "weighted avg       0.85      0.84      0.84      1191\n",
            "\n",
            "   [INFO] evaluating Decision Tree Classifier...\n",
            "              precision    recall  f1-score   support\n",
            "\n",
            "           0       0.84      0.89      0.86       650\n",
            "           1       0.86      0.80      0.83       541\n",
            "\n",
            "    accuracy                           0.85      1191\n",
            "   macro avg       0.85      0.84      0.85      1191\n",
            "weighted avg       0.85      0.85      0.85      1191\n",
            "\n"
          ],
          "name": "stdout"
        }
      ]
    },
    {
      "cell_type": "code",
      "metadata": {
        "id": "CrFns6yUCr6A",
        "colab_type": "code",
        "colab": {}
      },
      "source": [
        "def processing(text):\n",
        "    text = clean_text(text)\n",
        "    text = del_stopword(text)\n",
        "    text = ' '.join(text)\n",
        "    text = tf.fit_transform([text])\n",
        "    return text\n",
        "    "
      ],
      "execution_count": 78,
      "outputs": []
    },
    {
      "cell_type": "code",
      "metadata": {
        "id": "lMWj4z0_8HOC",
        "colab_type": "code",
        "colab": {}
      },
      "source": [
        "# Hàm kết luận comment có thô tục xúc phạm hay không\n",
        "def result(text):\n",
        "    text = processing(text)\n",
        "    predict = model.predict(text)\n",
        "\n",
        "    if predict == 1:\n",
        "      print(\"câu bình luận thô tục, xúc phạm, cần được xóa\")\n",
        "    else:\n",
        "      print('Câu bình luận bình thường')"
      ],
      "execution_count": 79,
      "outputs": []
    },
    {
      "cell_type": "code",
      "metadata": {
        "id": "jrLyPtK9f7c5",
        "colab_type": "code",
        "colab": {
          "base_uri": "https://localhost:8080/",
          "height": 51
        },
        "outputId": "cfd6aaa9-69d5-4b0c-f1e2-c5ac05f59a8e"
      },
      "source": [
        "text = \"mày ngu quá vậy trời :)\"\n",
        "print(result(text))"
      ],
      "execution_count": 80,
      "outputs": [
        {
          "output_type": "stream",
          "text": [
            "câu bình luận thô tục, xúc phạm, cần được xóa\n",
            "None\n"
          ],
          "name": "stdout"
        }
      ]
    },
    {
      "cell_type": "code",
      "metadata": {
        "id": "RifwemVu8TOd",
        "colab_type": "code",
        "colab": {
          "base_uri": "https://localhost:8080/",
          "height": 34
        },
        "outputId": "43597d3e-fb06-4c35-b22f-278672c4b792"
      },
      "source": [
        "# Lưu lại model\n",
        "import joblib\n",
        "filename = 'finalized_model.sav'\n",
        "joblib.dump(model, filename)"
      ],
      "execution_count": 81,
      "outputs": [
        {
          "output_type": "execute_result",
          "data": {
            "text/plain": [
              "['finalized_model.sav']"
            ]
          },
          "metadata": {
            "tags": []
          },
          "execution_count": 81
        }
      ]
    },
    {
      "cell_type": "code",
      "metadata": {
        "id": "FsZf0wkyekm7",
        "colab_type": "code",
        "colab": {
          "base_uri": "https://localhost:8080/",
          "height": 34
        },
        "outputId": "940390ff-6d95-4b5a-c396-5f9ee2c82ead"
      },
      "source": [
        "# load the model from disk\n",
        "\n",
        "loaded_model = joblib.load('finalized_model.sav')\n",
        "text = 'mũi to'\n",
        "text = processing(text)\n",
        "predict = loaded_model.predict(text)\n",
        "\n",
        "print(predict)\n",
        "#result = loaded_model.score(X_test, Y_test)\n",
        "#print(result)"
      ],
      "execution_count": 82,
      "outputs": [
        {
          "output_type": "stream",
          "text": [
            "[1]\n"
          ],
          "name": "stdout"
        }
      ]
    }
  ]
}