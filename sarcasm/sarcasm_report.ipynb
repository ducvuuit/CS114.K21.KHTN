{
  "nbformat": 4,
  "nbformat_minor": 0,
  "metadata": {
    "colab": {
      "name": "sarcasm_.ipynb",
      "provenance": []
    },
    "kernelspec": {
      "name": "python3",
      "display_name": "Python 3"
    }
  },
  "cells": [
    {
      "cell_type": "markdown",
      "metadata": {
        "id": "dUgmvHqF1rOn",
        "colab_type": "text"
      },
      "source": [
        "###***1. Mô tả bài toán và cách thu thập dữ liệu***\n"
      ]
    },
    {
      "cell_type": "markdown",
      "metadata": {
        "id": "-qsa2JrQ3KQz",
        "colab_type": "text"
      },
      "source": [
        "ád"
      ]
    },
    {
      "cell_type": "markdown",
      "metadata": {
        "id": "tAu5xuN23K-f",
        "colab_type": "text"
      },
      "source": [
        "###***2. Thu thập 2000 headline mới***\n"
      ]
    },
    {
      "cell_type": "markdown",
      "metadata": {
        "id": "ItkiCxO831Ar",
        "colab_type": "text"
      },
      "source": [
        "á"
      ]
    },
    {
      "cell_type": "markdown",
      "metadata": {
        "id": "0rg7kiRV3NaI",
        "colab_type": "text"
      },
      "source": [
        "###**3. Mô tả cách xử lý dữ liệu, feature engineering trên dataset đã cho. ***\n"
      ]
    },
    {
      "cell_type": "markdown",
      "metadata": {
        "id": "7Z0QaTWF31a5",
        "colab_type": "text"
      },
      "source": [
        "ád"
      ]
    },
    {
      "cell_type": "markdown",
      "metadata": {
        "id": "8_pBk3ZJ3oZT",
        "colab_type": "text"
      },
      "source": [
        "###***4. Mô tả quá trình chọn model, học và fine tuning***"
      ]
    },
    {
      "cell_type": "markdown",
      "metadata": {
        "id": "_IK-nXs33zVm",
        "colab_type": "text"
      },
      "source": [
        "adsdád"
      ]
    },
    {
      "cell_type": "markdown",
      "metadata": {
        "id": "UjVL9Qb23x0o",
        "colab_type": "text"
      },
      "source": [
        "###***5. Mô tả cách dùng model đã train để viết một đoạn chương trình ngắn, thực hiện sacarsm detection cho một headline bất kỳ được nhập vào.***"
      ]
    },
    {
      "cell_type": "markdown",
      "metadata": {
        "id": "I9cVW7no4NP3",
        "colab_type": "text"
      },
      "source": [
        "sa"
      ]
    },
    {
      "cell_type": "markdown",
      "metadata": {
        "id": "ByWOQCs94JBw",
        "colab_type": "text"
      },
      "source": [
        "###***6. Đối chiếu performance của model trên dataset đã cho và trên 2000 headine mới. Nêu nhận xét của nhóm về bài toán này.***"
      ]
    },
    {
      "cell_type": "markdown",
      "metadata": {
        "id": "XpF_mTJY4N1P",
        "colab_type": "text"
      },
      "source": [
        "sa"
      ]
    }
  ]
}