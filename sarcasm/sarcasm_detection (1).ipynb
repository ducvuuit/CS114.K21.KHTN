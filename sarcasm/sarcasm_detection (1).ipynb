{
  "nbformat": 4,
  "nbformat_minor": 0,
  "metadata": {
    "colab": {
      "name": "sarcasm-detection.ipynb",
      "provenance": [],
      "collapsed_sections": []
    },
    "kernelspec": {
      "name": "python3",
      "display_name": "Python 3"
    }
  },
  "cells": [
    {
      "cell_type": "markdown",
      "metadata": {
        "id": "uzMCO6-HaGqN",
        "colab_type": "text"
      },
      "source": [
        "**SARCASM DETECTION**\n",
        ">Trương Đức Vũ 18520194\\\n",
        "Trần Trung Anh 18520473"
      ]
    },
    {
      "cell_type": "markdown",
      "metadata": {
        "id": "LdWX-22ggMQJ",
        "colab_type": "text"
      },
      "source": [
        "**MÔ TẢ BÀI TOÁN VÀ CÁCH THU THẬP DỮ LIỆU**\n",
        ">Sarcasm Detection (Nhận diện lời nói châm chọc) là một lĩnh vực hẹp của Xử lý ngôn ngữ tự nhiên, đây cũng là một dạng của Phân tích cảm xúc nhưng tập trung vào những lời châm chọc. Nhiệm vụ của bài toán này là phát hiện một câu văn có mang tính châm chọc hay không.\n",
        ">>*Input*: một câu văn.\\\n",
        ">>*Ouput*: Câu văn đó mang tính châm chọc, hoặc không mang tính châm chọc.\n",
        "\n",
        ">Cách thu thập dữ liệu:\\\n",
        "Các tác giả của bộ dữ liệu đã thu thập tiêu đề của những bài báo trên 2 trang Huffpost và TheOnion. Trong đó, hầu hết những bài báo của TheOnion đều mang tính châm chọc, trong khi đó những bài của Huffpost thì không nên tác giả có thể \"tự động\" gán nhãn với độ chính xác cao. Bên cạnh đó, 2 trang trên đều là những trang báo uy tính nên có thể hạn chế việc sai chính tả và những tiêu đề không phù hợp."
      ]
    },
    {
      "cell_type": "markdown",
      "metadata": {
        "id": "uVO7RzNkQux4",
        "colab_type": "text"
      },
      "source": [
        "**TẢI DỮ LIỆU TỪ KAGGLE VÀ NHẬP DỮ LIỆU**\n",
        "\n",
        "---\n",
        "\n",
        "\n",
        "\n"
      ]
    },
    {
      "cell_type": "code",
      "metadata": {
        "id": "Q39N9S5yF_Dy",
        "colab_type": "code",
        "colab": {
          "resources": {
            "http://localhost:8080/nbextensions/google.colab/files.js": {
              "data": "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",
              "ok": true,
              "headers": [
                [
                  "content-type",
                  "application/javascript"
                ]
              ],
              "status": 200,
              "status_text": ""
            }
          },
          "base_uri": "https://localhost:8080/",
          "height": 392
        },
        "outputId": "b9c95f46-761f-4266-96b0-c2b4b7865101"
      },
      "source": [
        "# DOWNLOAD DATASET FROM KAGGLE\n",
        "from google.colab import files\n",
        "files.upload()\n",
        "!pip install -q kaggle\n",
        "!mkdir -p ~/.kaggle\n",
        "!cp kaggle.json ~/.kaggle/\n",
        "!chmod 600 /root/.kaggle/kaggle.json\n",
        "!kaggle datasets list -s sarcasm"
      ],
      "execution_count": null,
      "outputs": [
        {
          "output_type": "display_data",
          "data": {
            "text/html": [
              "\n",
              "     <input type=\"file\" id=\"files-85569eae-f23b-4a22-90ba-b1f0e15f9006\" name=\"files[]\" multiple disabled\n",
              "        style=\"border:none\" />\n",
              "     <output id=\"result-85569eae-f23b-4a22-90ba-b1f0e15f9006\">\n",
              "      Upload widget is only available when the cell has been executed in the\n",
              "      current browser session. Please rerun this cell to enable.\n",
              "      </output>\n",
              "      <script src=\"/nbextensions/google.colab/files.js\"></script> "
            ],
            "text/plain": [
              "<IPython.core.display.HTML object>"
            ]
          },
          "metadata": {
            "tags": []
          }
        },
        {
          "output_type": "stream",
          "text": [
            "Warning: Looks like you're using an outdated API Version, please consider updating (server 1.5.6 / client 1.5.4)\n",
            "ref                                                      title                                               size  lastUpdated          downloadCount  \n",
            "-------------------------------------------------------  -------------------------------------------------  -----  -------------------  -------------  \n",
            "danofer/sarcasm                                          Sarcasm on Reddit                                  216MB  2018-05-27 08:19:04           4586  \n",
            "rmisra/news-headlines-dataset-for-sarcasm-detection      News Headlines Dataset For Sarcasm Detection         3MB  2019-07-03 23:52:57          15616  \n",
            "rmisra/news-category-dataset                             News Category Dataset                               25MB  2018-12-02 04:09:45          13216  \n",
            "sherinclaudia/sarcastic-comments-on-reddit               Sarcastic Comments - REDDIT                        106MB  2019-01-30 14:41:53           1931  \n",
            "rmisra/clothing-fit-dataset-for-size-recommendation      Clothing Fit Dataset for Size Recommendation        40MB  2018-08-21 19:00:16           3118  \n",
            "rmisra/imdb-spoiler-dataset                              IMDB Spoiler Dataset                               331MB  2019-05-22 04:44:43            878  \n",
            "negiaditya/sarcasm                                       sarcasm                                              2MB  2020-05-18 20:17:56              5  \n",
            "mikahama/the-best-sarcasm-annotated-dataset-in-spanish   The Best Sarcasm Annotated Dataset in Spanish       26KB  2020-06-21 16:50:44             32  \n",
            "akshit3050/sarcasm                                       sarcasm                                             26MB  2018-08-04 04:44:21            117  \n",
            "harriken/bias-media-cat                                  Bias Media CAT                                      17MB  2017-10-27 22:46:25            342  \n",
            "rmsharks4/sarcasmania-dataset                            Sarcasmania Dataset                                  2MB  2019-05-28 09:07:23             64  \n",
            "shaunthesheep/sarcasmdata                                sarcasm-data                                         2MB  2020-03-17 09:30:12              4  \n",
            "pradeeptrical/sarcasm-dataset                            Sarcasm dataset                                     81KB  2020-01-15 13:54:01             19  \n",
            "kndkarthi/sarcasm-tweets                                 #sarcasm tweets                                      2MB  2019-01-28 06:56:45            100  \n",
            "akshit3050/ucscsarcasm2                                  ucsc-sarcasm2                                        1MB  2019-06-12 13:14:08              9  \n",
            "shaunthesheep/sarcasm-data                               Sarcasm_Data                                         2MB  2020-03-17 09:13:35              3  \n",
            "williamscott701/memotion-dataset-7k                      Memotion Dataset 7k                                695MB  2020-02-27 13:06:01            358  \n",
            "mariajmraidy/datasets-for-sentiment-analysis-of-arabizi  Datasets for sentiment analysis of arabizi tweets  198KB  2020-06-23 16:40:49              5  \n"
          ],
          "name": "stdout"
        }
      ]
    },
    {
      "cell_type": "code",
      "metadata": {
        "id": "1WgLtyBAK26f",
        "colab_type": "code",
        "colab": {
          "base_uri": "https://localhost:8080/",
          "height": 34
        },
        "outputId": "e7877a4a-68f8-49d6-ea4b-d1ca104737c5"
      },
      "source": [
        "!kaggle datasets download -d rmisra/news-headlines-dataset-for-sarcasm-detection"
      ],
      "execution_count": null,
      "outputs": [
        {
          "output_type": "stream",
          "text": [
            "news-headlines-dataset-for-sarcasm-detection.zip: Skipping, found more recently modified local copy (use --force to force download)\n"
          ],
          "name": "stdout"
        }
      ]
    },
    {
      "cell_type": "code",
      "metadata": {
        "id": "mukQorUCLN42",
        "colab_type": "code",
        "colab": {
          "base_uri": "https://localhost:8080/",
          "height": 202
        },
        "outputId": "66b83aeb-507d-4c0a-ed3a-fb13899b5cd9"
      },
      "source": [
        "!mkdir ~/.kaggle/datasets\n",
        "!mv news-headlines-dataset-for-sarcasm-detection.zip ~/.kaggle/datasets\n",
        "%cd ~/.kaggle/datasets\n",
        "!ls\n",
        "!unzip news-headlines-dataset-for-sarcasm-detection.zip"
      ],
      "execution_count": null,
      "outputs": [
        {
          "output_type": "stream",
          "text": [
            "mkdir: cannot create directory ‘/root/.kaggle/datasets’: File exists\n",
            "mv: 'news-headlines-dataset-for-sarcasm-detection.zip' and '/root/.kaggle/datasets/news-headlines-dataset-for-sarcasm-detection.zip' are the same file\n",
            "/root/.kaggle/datasets\n",
            "kaggle.json\n",
            "new_headlines.json\n",
            "news-headlines-dataset-for-sarcasm-detection.zip\n",
            "Sarcasm_Headlines_Dataset.json\n",
            "Sarcasm_Headlines_Dataset_v2.json\n",
            "Archive:  news-headlines-dataset-for-sarcasm-detection.zip\n",
            "replace Sarcasm_Headlines_Dataset.json? [y]es, [n]o, [A]ll, [N]one, [r]ename: n\n",
            "replace Sarcasm_Headlines_Dataset_v2.json? [y]es, [n]o, [A]ll, [N]one, [r]ename: n\n"
          ],
          "name": "stdout"
        }
      ]
    },
    {
      "cell_type": "code",
      "metadata": {
        "id": "27XWaCmoCNFC",
        "colab_type": "code",
        "colab": {}
      },
      "source": [
        "# IMPORT LIBRARIES \n",
        "import pandas as pd\n",
        "import numpy as np\n",
        "from nltk import download\n",
        "from nltk.corpus import stopwords\n",
        "from string import punctuation"
      ],
      "execution_count": null,
      "outputs": []
    },
    {
      "cell_type": "code",
      "metadata": {
        "id": "Rc-XiDiBPEGr",
        "colab_type": "code",
        "colab": {
          "base_uri": "https://localhost:8080/",
          "height": 195
        },
        "outputId": "a182c377-fec4-4b75-9574-91c9edafd691"
      },
      "source": [
        "# IMPORT DATASET\n",
        "dataset = pd.read_json('Sarcasm_Headlines_Dataset.json', lines=True)\n",
        "dataset.head(5)"
      ],
      "execution_count": null,
      "outputs": [
        {
          "output_type": "execute_result",
          "data": {
            "text/html": [
              "<div>\n",
              "<style scoped>\n",
              "    .dataframe tbody tr th:only-of-type {\n",
              "        vertical-align: middle;\n",
              "    }\n",
              "\n",
              "    .dataframe tbody tr th {\n",
              "        vertical-align: top;\n",
              "    }\n",
              "\n",
              "    .dataframe thead th {\n",
              "        text-align: right;\n",
              "    }\n",
              "</style>\n",
              "<table border=\"1\" class=\"dataframe\">\n",
              "  <thead>\n",
              "    <tr style=\"text-align: right;\">\n",
              "      <th></th>\n",
              "      <th>article_link</th>\n",
              "      <th>headline</th>\n",
              "      <th>is_sarcastic</th>\n",
              "    </tr>\n",
              "  </thead>\n",
              "  <tbody>\n",
              "    <tr>\n",
              "      <th>0</th>\n",
              "      <td>https://www.huffingtonpost.com/entry/versace-b...</td>\n",
              "      <td>former versace store clerk sues over secret 'b...</td>\n",
              "      <td>0</td>\n",
              "    </tr>\n",
              "    <tr>\n",
              "      <th>1</th>\n",
              "      <td>https://www.huffingtonpost.com/entry/roseanne-...</td>\n",
              "      <td>the 'roseanne' revival catches up to our thorn...</td>\n",
              "      <td>0</td>\n",
              "    </tr>\n",
              "    <tr>\n",
              "      <th>2</th>\n",
              "      <td>https://local.theonion.com/mom-starting-to-fea...</td>\n",
              "      <td>mom starting to fear son's web series closest ...</td>\n",
              "      <td>1</td>\n",
              "    </tr>\n",
              "    <tr>\n",
              "      <th>3</th>\n",
              "      <td>https://politics.theonion.com/boehner-just-wan...</td>\n",
              "      <td>boehner just wants wife to listen, not come up...</td>\n",
              "      <td>1</td>\n",
              "    </tr>\n",
              "    <tr>\n",
              "      <th>4</th>\n",
              "      <td>https://www.huffingtonpost.com/entry/jk-rowlin...</td>\n",
              "      <td>j.k. rowling wishes snape happy birthday in th...</td>\n",
              "      <td>0</td>\n",
              "    </tr>\n",
              "  </tbody>\n",
              "</table>\n",
              "</div>"
            ],
            "text/plain": [
              "                                        article_link  ... is_sarcastic\n",
              "0  https://www.huffingtonpost.com/entry/versace-b...  ...            0\n",
              "1  https://www.huffingtonpost.com/entry/roseanne-...  ...            0\n",
              "2  https://local.theonion.com/mom-starting-to-fea...  ...            1\n",
              "3  https://politics.theonion.com/boehner-just-wan...  ...            1\n",
              "4  https://www.huffingtonpost.com/entry/jk-rowlin...  ...            0\n",
              "\n",
              "[5 rows x 3 columns]"
            ]
          },
          "metadata": {
            "tags": []
          },
          "execution_count": 72
        }
      ]
    },
    {
      "cell_type": "code",
      "metadata": {
        "id": "OjowMXPY1d3Q",
        "colab_type": "code",
        "colab": {}
      },
      "source": [
        "X = dataset['headline']\n",
        "y = dataset['is_sarcastic']"
      ],
      "execution_count": null,
      "outputs": []
    },
    {
      "cell_type": "code",
      "metadata": {
        "id": "FMMHtUW3kj1H",
        "colab_type": "code",
        "colab": {}
      },
      "source": [
        "# Count number of each class\n",
        "sarcastic_n = 0\n",
        "not_sarcastic_n = 0\n",
        "for value in y:\n",
        "  if value == 0:\n",
        "    not_sarcastic_n += 1\n",
        "  else:\n",
        "    sarcastic_n += 1"
      ],
      "execution_count": null,
      "outputs": []
    },
    {
      "cell_type": "code",
      "metadata": {
        "id": "2Dk_4qoplOf3",
        "colab_type": "code",
        "colab": {
          "base_uri": "https://localhost:8080/",
          "height": 281
        },
        "outputId": "64dda121-f90a-48a7-b94d-11dfa476a52d"
      },
      "source": [
        "import matplotlib.pyplot as plt\n",
        "names = ['1', '0']\n",
        "plt.bar(names, [sarcastic_n, not_sarcastic_n])\n",
        "plt.title('Number of each class')\n",
        "plt.show()"
      ],
      "execution_count": null,
      "outputs": [
        {
          "output_type": "display_data",
          "data": {
            "image/png": "[encoded data removed]",
            "text/plain": [
              "<Figure size 432x288 with 1 Axes>"
            ]
          },
          "metadata": {
            "tags": [],
            "needs_background": "light"
          }
        }
      ]
    },
    {
      "cell_type": "markdown",
      "metadata": {
        "id": "ae05jUoiQRgZ",
        "colab_type": "text"
      },
      "source": [
        "**TIỀN XỬ LÝ DỮ LIỆU**"
      ]
    },
    {
      "cell_type": "markdown",
      "metadata": {
        "id": "wbXWUvtpRHLQ",
        "colab_type": "text"
      },
      "source": [
        "*Xoá stopwords và dấu câu:*\n",
        ">Stopwords là các từ không mang ý nghĩa, hoặc chứa rất ít nghĩa cho câu văn. Một số stopwords trong Tiếng Anh như: the, and, is, at, which,...\n",
        "Có thể tìm đầy đủ hơn trong thư viện nltk.corpus.stopwords đã khai báo.\\\n",
        ">Tương tự với dấu câu, cũng không mang nhiều thông tin nên ta loại bỏ. Các dấu câu được liệt kê trong string.punctuation.\n",
        "\n",
        "*Chuyển tất cả ký tự thành dạng viết thường:*\n",
        ">Ví dụ hai từ: Dog và dog đều có cùng một ý nghĩa nhưng khi xử lý trong máy tính, chúng được hiểu như 2 từ khác nhau nên ta cần đưa chúng về cùng 1 dạng.\\\n",
        "Tuy nhiên, cũng có một số ngoại lệ như danh từ riêng, nếu đưa về dạng viết thường sẽ có ý nghĩa khác.\n"
      ]
    },
    {
      "cell_type": "code",
      "metadata": {
        "id": "tEh0kbw9SMFJ",
        "colab_type": "code",
        "colab": {
          "base_uri": "https://localhost:8080/",
          "height": 50
        },
        "outputId": "2ef27047-bc04-4bd8-9574-add4063386bd"
      },
      "source": [
        "download('stopwords') # nltk.download stopwords\n",
        "stopws = set(stopwords.words('english'))\n",
        "puncs = set(punctuation) # string.punctuation"
      ],
      "execution_count": null,
      "outputs": [
        {
          "output_type": "stream",
          "text": [
            "[nltk_data] Downloading package stopwords to /root/nltk_data...\n",
            "[nltk_data]   Package stopwords is already up-to-date!\n"
          ],
          "name": "stdout"
        }
      ]
    },
    {
      "cell_type": "code",
      "metadata": {
        "id": "ShAJpc4iF12x",
        "colab_type": "code",
        "colab": {}
      },
      "source": [
        "def preprocess(data):\n",
        "  data_len = len(data)\n",
        "  for i in range(data_len):\n",
        "    tmp = ''\n",
        "    for eachWord in data[i].split():\n",
        "      for p in puncs: # remove punctuations\n",
        "        if p in eachWord:\n",
        "          eachWord = eachWord.replace(p, '')\n",
        "      for s in stopws: # remove stopwords\n",
        "        if s == eachWord:\n",
        "          eachWord = ''\n",
        "      tmp = tmp + eachWord + ' '\n",
        "    data[i] = tmp[:-1].lower() # remove the last blankspace\n",
        "  return data"
      ],
      "execution_count": null,
      "outputs": []
    },
    {
      "cell_type": "code",
      "metadata": {
        "id": "CScO43_YRNUw",
        "colab_type": "code",
        "colab": {
          "base_uri": "https://localhost:8080/",
          "height": 101
        },
        "outputId": "d83d83da-6de3-40bf-bc79-f318c7a961d2"
      },
      "source": [
        "X = preprocess(X)"
      ],
      "execution_count": null,
      "outputs": [
        {
          "output_type": "stream",
          "text": [
            "/usr/local/lib/python3.6/dist-packages/ipykernel_launcher.py:13: SettingWithCopyWarning: \n",
            "A value is trying to be set on a copy of a slice from a DataFrame\n",
            "\n",
            "See the caveats in the documentation: https://pandas.pydata.org/pandas-docs/stable/user_guide/indexing.html#returning-a-view-versus-a-copy\n",
            "  del sys.path[0]\n"
          ],
          "name": "stderr"
        }
      ]
    },
    {
      "cell_type": "code",
      "metadata": {
        "id": "IY2-Db80J-d6",
        "colab_type": "code",
        "colab": {
          "base_uri": "https://localhost:8080/",
          "height": 202
        },
        "outputId": "cc70ffcd-426a-4e8c-9446-2256529a1f8a"
      },
      "source": [
        "X.head(10)"
      ],
      "execution_count": null,
      "outputs": [
        {
          "output_type": "execute_result",
          "data": {
            "text/plain": [
              "0    former versace store clerk sues  secret black ...\n",
              "1     roseanne revival catches    thorny political ...\n",
              "2    mom starting  fear sons web series closest thi...\n",
              "3    boehner  wants wife  listen  come   alternativ...\n",
              "4    jk rowling wishes snape happy birthday    magi...\n",
              "5                              advancing  worlds women\n",
              "6               fascinating case  eating labgrown meat\n",
              "7             ceo  send  kids  school   work   company\n",
              "8    top snake handler leaves sinking huckabee camp...\n",
              "9    fridays morning email inside trumps presser   ...\n",
              "Name: headline, dtype: object"
            ]
          },
          "metadata": {
            "tags": []
          },
          "execution_count": 79
        }
      ]
    },
    {
      "cell_type": "markdown",
      "metadata": {
        "id": "Wfq5fzVNLJTE",
        "colab_type": "text"
      },
      "source": [
        "**TRÍCH XUẤT ĐẶC TRƯNG**\\\n",
        "Sử dụng phương pháp *Term Frequency - Inverse Document Frequency* (TF-IDF).\\\n",
        "Giá trị TF-IDF của một từ là một số thu được bằng cách thống kê mức độ quan trọng của từ này trong một câu, mà câu đang xét nằm trong một tập hợp các câu, ở đâu chính là toàn bộ dữ liệu. Trong đó:\n",
        ">Term Frequency: tần số xuất hiện của một từ trong một câu.\\\n",
        ">Inverse Document Frequency: nghịch đảo tần số của một từ trong toàn bộ các câu."
      ]
    },
    {
      "cell_type": "code",
      "metadata": {
        "id": "NknNt2yDMRL0",
        "colab_type": "code",
        "colab": {}
      },
      "source": [
        "from sklearn.feature_extraction.text import TfidfVectorizer\n",
        "tfidf_vec = TfidfVectorizer(max_features=5000)"
      ],
      "execution_count": null,
      "outputs": []
    },
    {
      "cell_type": "code",
      "metadata": {
        "id": "T_W2FJbYMtbo",
        "colab_type": "code",
        "colab": {}
      },
      "source": [
        "X_train_tfidf = tfidf_vec.fit_transform(X)"
      ],
      "execution_count": null,
      "outputs": []
    },
    {
      "cell_type": "markdown",
      "metadata": {
        "id": "ApZi5wHYFM9F",
        "colab_type": "text"
      },
      "source": [
        "**LỰA CHỌN MODEL VÀ HUẤN LUYỆN**\\\n",
        "Sử dụng hai thuật toán *Support Vector Machine* (SVM) và *Multinominal Naive Bayes* (MNB)./\n",
        "Bài toán đưa ra là dạng bài phân loại, trong đó kết quả đầu ra là một trong hai giá trị 0 (không châm chọc) hoặc 1 (châm chọc). SVM và MNB là hai thuật toán phù hợp cho bài toán này.\\\n",
        "Ở đây, SVM và MNB đều được huấn luyện với toàn bộ dữ liệu, giai đoạn kiểm thử sẽ được thực thi với tập dữ liệu mới, sẽ được đề cập sau.\n"
      ]
    },
    {
      "cell_type": "code",
      "metadata": {
        "id": "91nHeQNkNgdH",
        "colab_type": "code",
        "colab": {}
      },
      "source": [
        "# Import SVM\n",
        "from sklearn.svm import LinearSVC\n",
        "SVM = LinearSVC()"
      ],
      "execution_count": null,
      "outputs": []
    },
    {
      "cell_type": "code",
      "metadata": {
        "id": "EKQFc8EhPOZO",
        "colab_type": "code",
        "colab": {}
      },
      "source": [
        "# Import MNB\n",
        "from sklearn.naive_bayes import MultinomialNB\n",
        "MNB = MultinomialNB()"
      ],
      "execution_count": null,
      "outputs": []
    },
    {
      "cell_type": "code",
      "metadata": {
        "id": "cK-Lt1VpN5pH",
        "colab_type": "code",
        "colab": {
          "base_uri": "https://localhost:8080/",
          "height": 34
        },
        "outputId": "6d4540ac-a8ba-4d53-a4ba-45feddcf8a7c"
      },
      "source": [
        "# Train models with training data\n",
        "SVM.fit(X_train_tfidf, y)\n",
        "MNB.fit(X_train_tfidf, y)"
      ],
      "execution_count": null,
      "outputs": [
        {
          "output_type": "execute_result",
          "data": {
            "text/plain": [
              "MultinomialNB(alpha=1.0, class_prior=None, fit_prior=True)"
            ]
          },
          "metadata": {
            "tags": []
          },
          "execution_count": 84
        }
      ]
    },
    {
      "cell_type": "markdown",
      "metadata": {
        "id": "eJna7C3TcSKP",
        "colab_type": "text"
      },
      "source": [
        "**THU THẬP 2000 HEADLINES MỚI**\n"
      ]
    },
    {
      "cell_type": "markdown",
      "metadata": {
        "id": "oJJjULRucco4",
        "colab_type": "text"
      },
      "source": [
        "- Sử dụng thư viện selenium để tự động duyệt web.\n",
        "- Truy cập trang chủ của Huffpost và TheOnion.\n",
        "- Trong mỗi file html của trang báo, tìm kiếm tag của headline.\n",
        "- Từ đó thu thập, với headline từ Huffpost gán nhãn is_sarcastic với giá trị 0, ngược lại từ TheOnion gán nhãn 1.\n",
        "- Cuối cùng ghi vào file.\n",
        "\n"
      ]
    },
    {
      "cell_type": "markdown",
      "metadata": {
        "id": "ONoE9IVac3fK",
        "colab_type": "text"
      },
      "source": [
        "**NOTE**: Chi tiết source code truy cập link sau https://drive.google.com/file/d/1ATc8BszJjr937iUh-RgGBHVyYSARVMho/view?fbclid=IwAR05pb_HhjGGIGZynEtEVJBmtj1MovjAXaM0gcsCsYo-GuGesz8zjU-lYic"
      ]
    },
    {
      "cell_type": "markdown",
      "metadata": {
        "id": "SmlB9d1mI3Kd",
        "colab_type": "text"
      },
      "source": [
        "**THỬ NGHIỆM VỚI BỘ DỮ LIỆU MỚI**"
      ]
    },
    {
      "cell_type": "code",
      "metadata": {
        "id": "bYTasj1J2wjA",
        "colab_type": "code",
        "colab": {}
      },
      "source": [
        "# new_headlines uploaded from local machine\n",
        "!mv /content/new_headlines.json ~/.kaggle/datasets"
      ],
      "execution_count": null,
      "outputs": []
    },
    {
      "cell_type": "code",
      "metadata": {
        "id": "3ecsZ3_Xyouq",
        "colab_type": "code",
        "colab": {
          "base_uri": "https://localhost:8080/",
          "height": 195
        },
        "outputId": "8d2ce3be-fe48-4268-addf-59fd05225f68"
      },
      "source": [
        "# new headline for testing\n",
        "new_dataset = pd.read_json('new_headlines.json', lines=True)\n",
        "new_dataset.head(5)"
      ],
      "execution_count": null,
      "outputs": [
        {
          "output_type": "execute_result",
          "data": {
            "text/html": [
              "<div>\n",
              "<style scoped>\n",
              "    .dataframe tbody tr th:only-of-type {\n",
              "        vertical-align: middle;\n",
              "    }\n",
              "\n",
              "    .dataframe tbody tr th {\n",
              "        vertical-align: top;\n",
              "    }\n",
              "\n",
              "    .dataframe thead th {\n",
              "        text-align: right;\n",
              "    }\n",
              "</style>\n",
              "<table border=\"1\" class=\"dataframe\">\n",
              "  <thead>\n",
              "    <tr style=\"text-align: right;\">\n",
              "      <th></th>\n",
              "      <th>headline</th>\n",
              "      <th>is_sarcastic</th>\n",
              "    </tr>\n",
              "  </thead>\n",
              "  <tbody>\n",
              "    <tr>\n",
              "      <th>0</th>\n",
              "      <td>Just A Reminder: This Is How Alcohol Affects Y...</td>\n",
              "      <td>0</td>\n",
              "    </tr>\n",
              "    <tr>\n",
              "      <th>1</th>\n",
              "      <td>1.5 Million More Americans Sought Unemployment...</td>\n",
              "      <td>0</td>\n",
              "    </tr>\n",
              "    <tr>\n",
              "      <th>2</th>\n",
              "      <td>Trump Holds Diplomatic Ceremony To Formally We...</td>\n",
              "      <td>1</td>\n",
              "    </tr>\n",
              "    <tr>\n",
              "      <th>3</th>\n",
              "      <td>Georgia Bill Would Stop Officials From Mailing...</td>\n",
              "      <td>0</td>\n",
              "    </tr>\n",
              "    <tr>\n",
              "      <th>4</th>\n",
              "      <td>All I Want For My 90th Birthday Is To Abolish ...</td>\n",
              "      <td>0</td>\n",
              "    </tr>\n",
              "  </tbody>\n",
              "</table>\n",
              "</div>"
            ],
            "text/plain": [
              "                                            headline  is_sarcastic\n",
              "0  Just A Reminder: This Is How Alcohol Affects Y...             0\n",
              "1  1.5 Million More Americans Sought Unemployment...             0\n",
              "2  Trump Holds Diplomatic Ceremony To Formally We...             1\n",
              "3  Georgia Bill Would Stop Officials From Mailing...             0\n",
              "4  All I Want For My 90th Birthday Is To Abolish ...             0"
            ]
          },
          "metadata": {
            "tags": []
          },
          "execution_count": 86
        }
      ]
    },
    {
      "cell_type": "code",
      "metadata": {
        "id": "p6V5GvZ20Hf7",
        "colab_type": "code",
        "colab": {}
      },
      "source": [
        "X_new = new_dataset['headline']\n",
        "y_new = new_dataset['is_sarcastic']"
      ],
      "execution_count": null,
      "outputs": []
    },
    {
      "cell_type": "code",
      "metadata": {
        "id": "eZPXEp7j0Vn-",
        "colab_type": "code",
        "colab": {
          "base_uri": "https://localhost:8080/",
          "height": 118
        },
        "outputId": "fc7d42b3-0f73-46e2-d047-cd336e5baa39"
      },
      "source": [
        "X_new.head(5)"
      ],
      "execution_count": null,
      "outputs": [
        {
          "output_type": "execute_result",
          "data": {
            "text/plain": [
              "0    Just A Reminder: This Is How Alcohol Affects Y...\n",
              "1    1.5 Million More Americans Sought Unemployment...\n",
              "2    Trump Holds Diplomatic Ceremony To Formally We...\n",
              "3    Georgia Bill Would Stop Officials From Mailing...\n",
              "4    All I Want For My 90th Birthday Is To Abolish ...\n",
              "Name: headline, dtype: object"
            ]
          },
          "metadata": {
            "tags": []
          },
          "execution_count": 88
        }
      ]
    },
    {
      "cell_type": "code",
      "metadata": {
        "id": "BPzKYt-e0AX-",
        "colab_type": "code",
        "colab": {
          "base_uri": "https://localhost:8080/",
          "height": 101
        },
        "outputId": "acde2236-3218-4498-86da-26f118a3203d"
      },
      "source": [
        "# Preprocess for new headlines, same as training data\n",
        "X_new = preprocess(X_new)"
      ],
      "execution_count": null,
      "outputs": [
        {
          "output_type": "stream",
          "text": [
            "/usr/local/lib/python3.6/dist-packages/ipykernel_launcher.py:13: SettingWithCopyWarning: \n",
            "A value is trying to be set on a copy of a slice from a DataFrame\n",
            "\n",
            "See the caveats in the documentation: https://pandas.pydata.org/pandas-docs/stable/user_guide/indexing.html#returning-a-view-versus-a-copy\n",
            "  del sys.path[0]\n"
          ],
          "name": "stderr"
        }
      ]
    },
    {
      "cell_type": "code",
      "metadata": {
        "id": "mQuijin_0coE",
        "colab_type": "code",
        "colab": {
          "base_uri": "https://localhost:8080/",
          "height": 118
        },
        "outputId": "559e16d7-03e2-434c-8817-32933cb718d3"
      },
      "source": [
        "X_new.head(5)"
      ],
      "execution_count": null,
      "outputs": [
        {
          "output_type": "execute_result",
          "data": {
            "text/plain": [
              "0    just a reminder this is how alcohol affects yo...\n",
              "1    15 million more americans sought unemployment ...\n",
              "2    trump holds diplomatic ceremony to formally we...\n",
              "3    georgia bill would stop officials from mailing...\n",
              "4    all i want for my 90th birthday is to abolish ...\n",
              "Name: headline, dtype: object"
            ]
          },
          "metadata": {
            "tags": []
          },
          "execution_count": 90
        }
      ]
    },
    {
      "cell_type": "code",
      "metadata": {
        "id": "E8Zi8vJa6V9a",
        "colab_type": "code",
        "colab": {}
      },
      "source": [
        "X_test_tfidf = tfidf_vec.transform(X_new)\n",
        "SVM_predict = SVM.predict(X_test_tfidf)\n",
        "MNB_predict = MNB.predict(X_test_tfidf)"
      ],
      "execution_count": null,
      "outputs": []
    },
    {
      "cell_type": "code",
      "metadata": {
        "id": "Pb1mIMJ8Jl-P",
        "colab_type": "code",
        "colab": {
          "base_uri": "https://localhost:8080/",
          "height": 136
        },
        "outputId": "71ffe4e0-6407-4c1c-bfd4-c52fa2b70918"
      },
      "source": [
        "# Calculate Accuracy, Precision, Recall scores\n",
        "from sklearn.metrics import precision_score, recall_score, accuracy_score\n",
        "SVM_results = [round(precision_score(SVM_predict, y_new) * 100, 2), \\\n",
        "               round(recall_score(SVM_predict, y_new) * 100, 2), \\\n",
        "               round(accuracy_score(SVM_predict, y_new) * 100, 2)]\n",
        "MNB_results = [round(precision_score(MNB_predict, y_new) * 100, 2), \\\n",
        "               round(recall_score(MNB_predict, y_new) * 100, 2), \\\n",
        "               round(accuracy_score(MNB_predict, y_new) * 100, 2)]\n",
        "dtf = pd.DataFrame(list(zip(SVM_results, MNB_results)), columns=['SVM', 'MNB'], index=['Precision', 'Recall', 'Accuracy'])\n",
        "dtf"
      ],
      "execution_count": null,
      "outputs": [
        {
          "output_type": "execute_result",
          "data": {
            "text/html": [
              "<div>\n",
              "<style scoped>\n",
              "    .dataframe tbody tr th:only-of-type {\n",
              "        vertical-align: middle;\n",
              "    }\n",
              "\n",
              "    .dataframe tbody tr th {\n",
              "        vertical-align: top;\n",
              "    }\n",
              "\n",
              "    .dataframe thead th {\n",
              "        text-align: right;\n",
              "    }\n",
              "</style>\n",
              "<table border=\"1\" class=\"dataframe\">\n",
              "  <thead>\n",
              "    <tr style=\"text-align: right;\">\n",
              "      <th></th>\n",
              "      <th>SVM</th>\n",
              "      <th>MNB</th>\n",
              "    </tr>\n",
              "  </thead>\n",
              "  <tbody>\n",
              "    <tr>\n",
              "      <th>Precision</th>\n",
              "      <td>64.80</td>\n",
              "      <td>61.10</td>\n",
              "    </tr>\n",
              "    <tr>\n",
              "      <th>Recall</th>\n",
              "      <td>77.14</td>\n",
              "      <td>81.36</td>\n",
              "    </tr>\n",
              "    <tr>\n",
              "      <th>Accuracy</th>\n",
              "      <td>72.80</td>\n",
              "      <td>73.55</td>\n",
              "    </tr>\n",
              "  </tbody>\n",
              "</table>\n",
              "</div>"
            ],
            "text/plain": [
              "             SVM    MNB\n",
              "Precision  64.80  61.10\n",
              "Recall     77.14  81.36\n",
              "Accuracy   72.80  73.55"
            ]
          },
          "metadata": {
            "tags": []
          },
          "execution_count": 100
        }
      ]
    },
    {
      "cell_type": "markdown",
      "metadata": {
        "id": "15tHXzY4QUQh",
        "colab_type": "text"
      },
      "source": [
        "**SỬ DỤNG MODEL ĐÃ HUẤN LUYỆN ĐỂ XÂY DỰNG ỨNG DỤNG**\\\n",
        "Với hai model đã có, ta đơn giản chỉ cần yêu cầu dữ liệu nhập vào, thực hiện bước tiền xử lý cho dữ liệu đó giống với dữ liệu huấn luyện.\\\n",
        "Sau đó, thực hiện trích xuất đặc trưng dựa trên vector đặc trưng đã huấn luyện.\\\n",
        "Cuối cùng, thực hiện bước dự đoán để tìm ra kết quả."
      ]
    },
    {
      "cell_type": "code",
      "metadata": {
        "id": "luj8prTaQ2Nn",
        "colab_type": "code",
        "colab": {}
      },
      "source": [
        "user_input = input('Enter a new headline:')\n",
        "user_input = np.array(user_input)\n",
        "user_input = preprocess(user_input)\n",
        "input_tfidf = tfidf_vec.transform(user_input)\n",
        "input_predict = MNB.predict(input_tfidf) \n",
        "print(input_predict)\n"
      ],
      "execution_count": null,
      "outputs": []
    },
    {
      "cell_type": "markdown",
      "metadata": {
        "id": "Xk6oyHqbbLiR",
        "colab_type": "text"
      },
      "source": [
        "Nhập một headline bất kỳ"
      ]
    },
    {
      "cell_type": "code",
      "metadata": {
        "id": "XonDe19UbMR2",
        "colab_type": "code",
        "colab": {}
      },
      "source": [
        "headline = input()"
      ],
      "execution_count": null,
      "outputs": []
    },
    {
      "cell_type": "markdown",
      "metadata": {
        "id": "MphfmwRsbPOA",
        "colab_type": "text"
      },
      "source": [
        "Tiền xử lý dữ liệu\n",
        "> Headline xóa các dấu chấm câu, chuyển về chử in thường.. "
      ]
    },
    {
      "cell_type": "code",
      "metadata": {
        "id": "-8LUanombRfY",
        "colab_type": "code",
        "colab": {}
      },
      "source": [
        "headline = preprocess(headline)"
      ],
      "execution_count": null,
      "outputs": []
    },
    {
      "cell_type": "markdown",
      "metadata": {
        "id": "O1n2qkjRbT-X",
        "colab_type": "text"
      },
      "source": [
        "Mã hóa headline về vector"
      ]
    },
    {
      "cell_type": "code",
      "metadata": {
        "id": "NfvSNBuBbVsp",
        "colab_type": "code",
        "colab": {}
      },
      "source": [
        "headline = tf.fit_transform(headline).toarray()"
      ],
      "execution_count": null,
      "outputs": []
    },
    {
      "cell_type": "markdown",
      "metadata": {
        "id": "FsMgwnl2bZct",
        "colab_type": "text"
      },
      "source": [
        "Dự đoán"
      ]
    },
    {
      "cell_type": "code",
      "metadata": {
        "id": "Muu8698dbaTv",
        "colab_type": "code",
        "colab": {}
      },
      "source": [
        "\n",
        "predict = model2.predict(headline)"
      ],
      "execution_count": null,
      "outputs": []
    },
    {
      "cell_type": "code",
      "metadata": {
        "id": "Xj5ASq7PbcgE",
        "colab_type": "code",
        "colab": {}
      },
      "source": [
        "if predict == 1:\n",
        "    print(\"This is sarcastic\")\n",
        "else:\n",
        "    print(\"This isn't sarcastic\")"
      ],
      "execution_count": null,
      "outputs": []
    },
    {
      "cell_type": "markdown",
      "metadata": {
        "id": "IbT0WPQObgWS",
        "colab_type": "text"
      },
      "source": [
        "***ĐỐI CHIẾU NHẬN XÉT PERFORMANCE. NHẬN XÉT***"
      ]
    },
    {
      "cell_type": "markdown",
      "metadata": {
        "id": "H_vo9y2UbhiN",
        "colab_type": "text"
      },
      "source": [
        "Hiệu suất khi test với bộ test mới được thu thập là thấp hơn \n",
        "trước đó. Bởi vì dữ liệu mới có nhiều thông tin mới và có \n",
        "những từ ngữ không có trong bộ từ điển mà model trước đó đã xây dựng, dẫn đến sai lệch và dẫn tới accuracy giảm.\n",
        "\n",
        "Đây là một bài toán khá khó khi chỉ sử dụng các thuật toán thông thường của machine learning, vì các từ ngư được phân theo BoW, nên khi thêm các bài báo mới, bộ từ điển có thể bị thiếu hụt.\n"
      ]
    }
  ]
}